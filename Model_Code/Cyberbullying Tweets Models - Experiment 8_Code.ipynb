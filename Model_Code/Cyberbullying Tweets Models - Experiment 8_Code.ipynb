{
 "cells": [
  {
   "cell_type": "code",
   "execution_count": 1,
   "metadata": {
    "colab": {
     "base_uri": "https://localhost:8080/"
    },
    "executionInfo": {
     "elapsed": 15742,
     "status": "ok",
     "timestamp": 1653416349247,
     "user": {
      "displayName": "Dimitry Kirtsman",
      "userId": "11988189828040272864"
     },
     "user_tz": 420
    },
    "id": "hRVedTQ-D6EJ",
    "outputId": "2faf1a18-fe47-4f3e-9d8e-686ebeb62091"
   },
   "outputs": [
    {
     "name": "stdout",
     "output_type": "stream",
     "text": [
      "[nltk_data] Downloading package stopwords to /root/nltk_data...\n",
      "[nltk_data]   Unzipping corpora/stopwords.zip.\n",
      "\u001b[K     |████████████████████████████████| 133 kB 5.9 MB/s \n",
      "\u001b[?25h"
     ]
    }
   ],
   "source": [
    "import datetime\n",
    "import time\n",
    "import numpy as np\n",
    "import pandas as pd\n",
    "from packaging import version\n",
    "from collections import Counter\n",
    "import re\n",
    "import nltk\n",
    "nltk.download('stopwords')\n",
    "from nltk.corpus import stopwords\n",
    "from keras.preprocessing.text import Tokenizer\n",
    "import string\n",
    "from sklearn.metrics import confusion_matrix, classification_report\n",
    "from sklearn.metrics import accuracy_score\n",
    "from sklearn.metrics import mean_squared_error as MSE\n",
    "from sklearn.model_selection import train_test_split\n",
    "from sklearn.manifold import TSNE\n",
    "import matplotlib.pyplot as plt\n",
    "import matplotlib as mpl\n",
    "import seaborn as sns\n",
    "!pip install -q -U keras-tuner\n",
    "import keras_tuner as kt\n",
    "import tensorflow_datasets as tfds\n",
    "import tensorflow as tf\n",
    "from tensorflow import keras\n",
    "from tensorflow.keras import models, layers\n",
    "from tensorflow.keras.models import Sequential\n",
    "from tensorflow.keras.layers import Conv2D, MaxPool2D, BatchNormalization, Dropout, Flatten, Input, Dense, Embedding, GlobalMaxPool1D\n",
    "from tensorflow.keras.layers import LSTM, GRU, Bidirectional, SimpleRNN, TextVectorization, Conv1D, MaxPooling1D, GlobalMaxPooling1D\n",
    "from tensorflow.keras.callbacks import ModelCheckpoint, EarlyStopping\n",
    "from tensorflow.keras.preprocessing import image\n",
    "from tensorflow.keras.preprocessing.sequence import pad_sequences\n",
    "from tensorflow.keras.utils import to_categorical\n",
    "\n",
    "tf.keras.utils.set_random_seed(7)\n",
    "%matplotlib inline\n",
    "np.set_printoptions(precision=3, suppress=True)\n",
    "pd.set_option('max_colwidth', 600)\n",
    "#tpu = tf.distribute.cluster_resolver.TPUClusterResolver.connect()\n",
    "#print(\"Device:\", tpu.master())"
   ]
  },
  {
   "cell_type": "code",
   "execution_count": 2,
   "metadata": {
    "colab": {
     "base_uri": "https://localhost:8080/"
    },
    "executionInfo": {
     "elapsed": 25997,
     "status": "ok",
     "timestamp": 1653416375242,
     "user": {
      "displayName": "Dimitry Kirtsman",
      "userId": "11988189828040272864"
     },
     "user_tz": 420
    },
    "id": "JbHw-58t4keU",
    "outputId": "2489f274-904a-4c11-8272-52b434115f90"
   },
   "outputs": [
    {
     "name": "stdout",
     "output_type": "stream",
     "text": [
      "Looking in indexes: https://pypi.org/simple, https://us-python.pkg.dev/colab-wheels/public/simple/\n",
      "Collecting tokenizers\n",
      "  Downloading tokenizers-0.12.1-cp37-cp37m-manylinux_2_12_x86_64.manylinux2010_x86_64.whl (6.6 MB)\n",
      "\u001b[K     |████████████████████████████████| 6.6 MB 11.6 MB/s \n",
      "\u001b[?25hInstalling collected packages: tokenizers\n",
      "Successfully installed tokenizers-0.12.1\n",
      "Looking in indexes: https://pypi.org/simple, https://us-python.pkg.dev/colab-wheels/public/simple/\n",
      "Collecting transformers\n",
      "  Downloading transformers-4.19.2-py3-none-any.whl (4.2 MB)\n",
      "\u001b[K     |████████████████████████████████| 4.2 MB 14.4 MB/s \n",
      "\u001b[?25hRequirement already satisfied: tokenizers!=0.11.3,<0.13,>=0.11.1 in /usr/local/lib/python3.7/dist-packages (from transformers) (0.12.1)\n",
      "Requirement already satisfied: packaging>=20.0 in /usr/local/lib/python3.7/dist-packages (from transformers) (21.3)\n",
      "Requirement already satisfied: numpy>=1.17 in /usr/local/lib/python3.7/dist-packages (from transformers) (1.21.6)\n",
      "Requirement already satisfied: importlib-metadata in /usr/local/lib/python3.7/dist-packages (from transformers) (4.11.3)\n",
      "Requirement already satisfied: filelock in /usr/local/lib/python3.7/dist-packages (from transformers) (3.7.0)\n",
      "Requirement already satisfied: regex!=2019.12.17 in /usr/local/lib/python3.7/dist-packages (from transformers) (2019.12.20)\n",
      "Collecting huggingface-hub<1.0,>=0.1.0\n",
      "  Downloading huggingface_hub-0.6.0-py3-none-any.whl (84 kB)\n",
      "\u001b[K     |████████████████████████████████| 84 kB 3.6 MB/s \n",
      "\u001b[?25hCollecting pyyaml>=5.1\n",
      "  Downloading PyYAML-6.0-cp37-cp37m-manylinux_2_5_x86_64.manylinux1_x86_64.manylinux_2_12_x86_64.manylinux2010_x86_64.whl (596 kB)\n",
      "\u001b[K     |████████████████████████████████| 596 kB 65.9 MB/s \n",
      "\u001b[?25hRequirement already satisfied: tqdm>=4.27 in /usr/local/lib/python3.7/dist-packages (from transformers) (4.64.0)\n",
      "Requirement already satisfied: requests in /usr/local/lib/python3.7/dist-packages (from transformers) (2.23.0)\n",
      "Requirement already satisfied: typing-extensions>=3.7.4.3 in /usr/local/lib/python3.7/dist-packages (from huggingface-hub<1.0,>=0.1.0->transformers) (4.2.0)\n",
      "Requirement already satisfied: pyparsing!=3.0.5,>=2.0.2 in /usr/local/lib/python3.7/dist-packages (from packaging>=20.0->transformers) (3.0.9)\n",
      "Requirement already satisfied: zipp>=0.5 in /usr/local/lib/python3.7/dist-packages (from importlib-metadata->transformers) (3.8.0)\n",
      "Requirement already satisfied: chardet<4,>=3.0.2 in /usr/local/lib/python3.7/dist-packages (from requests->transformers) (3.0.4)\n",
      "Requirement already satisfied: urllib3!=1.25.0,!=1.25.1,<1.26,>=1.21.1 in /usr/local/lib/python3.7/dist-packages (from requests->transformers) (1.24.3)\n",
      "Requirement already satisfied: certifi>=2017.4.17 in /usr/local/lib/python3.7/dist-packages (from requests->transformers) (2022.5.18.1)\n",
      "Requirement already satisfied: idna<3,>=2.5 in /usr/local/lib/python3.7/dist-packages (from requests->transformers) (2.10)\n",
      "Installing collected packages: pyyaml, huggingface-hub, transformers\n",
      "  Attempting uninstall: pyyaml\n",
      "    Found existing installation: PyYAML 3.13\n",
      "    Uninstalling PyYAML-3.13:\n",
      "      Successfully uninstalled PyYAML-3.13\n",
      "Successfully installed huggingface-hub-0.6.0 pyyaml-6.0 transformers-4.19.2\n"
     ]
    }
   ],
   "source": [
    "!pip install tokenizers\n",
    "!pip install transformers\n",
    "\n",
    "from transformers import BertTokenizer\n",
    "from tokenizers import BertWordPieceTokenizer\n",
    "from transformers import TFBertModel, BertTokenizerFast "
   ]
  },
  {
   "cell_type": "code",
   "execution_count": 3,
   "metadata": {
    "colab": {
     "base_uri": "https://localhost:8080/"
    },
    "executionInfo": {
     "elapsed": 10093,
     "status": "ok",
     "timestamp": 1653416385332,
     "user": {
      "displayName": "Dimitry Kirtsman",
      "userId": "11988189828040272864"
     },
     "user_tz": 420
    },
    "id": "t_H3HgH9hZak",
    "outputId": "e2a15891-567e-479f-8ee1-1e89ff993330"
   },
   "outputs": [
    {
     "name": "stdout",
     "output_type": "stream",
     "text": [
      "Looking in indexes: https://pypi.org/simple, https://us-python.pkg.dev/colab-wheels/public/simple/\n",
      "Collecting clean-text[gpl]\n",
      "  Downloading clean_text-0.6.0-py3-none-any.whl (11 kB)\n",
      "Collecting ftfy<7.0,>=6.0\n",
      "  Downloading ftfy-6.1.1-py3-none-any.whl (53 kB)\n",
      "\u001b[K     |████████████████████████████████| 53 kB 1.8 MB/s \n",
      "\u001b[?25hCollecting emoji<2.0.0,>=1.0.0\n",
      "  Downloading emoji-1.7.0.tar.gz (175 kB)\n",
      "\u001b[K     |████████████████████████████████| 175 kB 23.8 MB/s \n",
      "\u001b[?25hCollecting unidecode<2.0.0,>=1.1.1\n",
      "  Downloading Unidecode-1.3.4-py3-none-any.whl (235 kB)\n",
      "\u001b[K     |████████████████████████████████| 235 kB 55.9 MB/s \n",
      "\u001b[?25hRequirement already satisfied: wcwidth>=0.2.5 in /usr/local/lib/python3.7/dist-packages (from ftfy<7.0,>=6.0->clean-text[gpl]) (0.2.5)\n",
      "Building wheels for collected packages: emoji\n",
      "  Building wheel for emoji (setup.py) ... \u001b[?25l\u001b[?25hdone\n",
      "  Created wheel for emoji: filename=emoji-1.7.0-py3-none-any.whl size=171046 sha256=9ccc6f70db31095caa367aea541c5fabfc794a54cc0008b3374f2d720067f014\n",
      "  Stored in directory: /root/.cache/pip/wheels/8a/4e/b6/57b01db010d17ef6ea9b40300af725ef3e210cb1acfb7ac8b6\n",
      "Successfully built emoji\n",
      "Installing collected packages: ftfy, emoji, unidecode, clean-text\n",
      "Successfully installed clean-text-0.6.0 emoji-1.7.0 ftfy-6.1.1 unidecode-1.3.4\n"
     ]
    }
   ],
   "source": [
    "pip install clean-text[gpl]\n"
   ]
  },
  {
   "cell_type": "code",
   "execution_count": 4,
   "metadata": {
    "executionInfo": {
     "elapsed": 971,
     "status": "ok",
     "timestamp": 1653416386299,
     "user": {
      "displayName": "Dimitry Kirtsman",
      "userId": "11988189828040272864"
     },
     "user_tz": 420
    },
    "id": "L2dWcFXpiAp0"
   },
   "outputs": [],
   "source": [
    "from cleantext import clean"
   ]
  },
  {
   "cell_type": "code",
   "execution_count": 5,
   "metadata": {
    "colab": {
     "base_uri": "https://localhost:8080/"
    },
    "executionInfo": {
     "elapsed": 13,
     "status": "ok",
     "timestamp": 1653416386299,
     "user": {
      "displayName": "Dimitry Kirtsman",
      "userId": "11988189828040272864"
     },
     "user_tz": 420
    },
    "id": "6FoDS9G2EI8y",
    "outputId": "bce241da-4b91-4d2e-e940-e132ffa87376"
   },
   "outputs": [
    {
     "name": "stdout",
     "output_type": "stream",
     "text": [
      "This notebook requires TensorFlow 2.0 or above\n",
      "TensorFlow version:  2.8.0\n"
     ]
    }
   ],
   "source": [
    "print(\"This notebook requires TensorFlow 2.0 or above\")\n",
    "print(\"TensorFlow version: \", tf.__version__)\n",
    "assert version.parse(tf.__version__).release[0] >=2"
   ]
  },
  {
   "cell_type": "code",
   "execution_count": 6,
   "metadata": {
    "colab": {
     "base_uri": "https://localhost:8080/"
    },
    "executionInfo": {
     "elapsed": 9,
     "status": "ok",
     "timestamp": 1653416386299,
     "user": {
      "displayName": "Dimitry Kirtsman",
      "userId": "11988189828040272864"
     },
     "user_tz": 420
    },
    "id": "jvSH_ClREI_Q",
    "outputId": "b47b91ce-b334-4dc7-c098-4a5afdc260df"
   },
   "outputs": [
    {
     "name": "stdout",
     "output_type": "stream",
     "text": [
      "Keras version:  2.8.0\n"
     ]
    }
   ],
   "source": [
    "print(\"Keras version: \", keras.__version__)"
   ]
  },
  {
   "cell_type": "code",
   "execution_count": 6,
   "metadata": {
    "executionInfo": {
     "elapsed": 9,
     "status": "ok",
     "timestamp": 1653416386300,
     "user": {
      "displayName": "Dimitry Kirtsman",
      "userId": "11988189828040272864"
     },
     "user_tz": 420
    },
    "id": "uUZYoxCRZ3ZW"
   },
   "outputs": [],
   "source": []
  },
  {
   "cell_type": "code",
   "execution_count": 7,
   "metadata": {
    "colab": {
     "base_uri": "https://localhost:8080/"
    },
    "executionInfo": {
     "elapsed": 19975,
     "status": "ok",
     "timestamp": 1653416406267,
     "user": {
      "displayName": "Dimitry Kirtsman",
      "userId": "11988189828040272864"
     },
     "user_tz": 420
    },
    "id": "mNQpZd4nEJBh",
    "outputId": "9d1cac5d-7604-40b9-ae59-b98a31d6e10c"
   },
   "outputs": [
    {
     "name": "stdout",
     "output_type": "stream",
     "text": [
      "Mounted at /content/gdrive\n"
     ]
    }
   ],
   "source": [
    "#mounting Google Drive\n",
    "from google.colab import drive\n",
    "drive.mount('/content/gdrive')"
   ]
  },
  {
   "cell_type": "code",
   "execution_count": 8,
   "metadata": {
    "executionInfo": {
     "elapsed": 1918,
     "status": "ok",
     "timestamp": 1653416408184,
     "user": {
      "displayName": "Dimitry Kirtsman",
      "userId": "11988189828040272864"
     },
     "user_tz": 420
    },
    "id": "PPExqJzYEJEA"
   },
   "outputs": [],
   "source": [
    "#Read in data\n",
    "path_to_csv = '/content/gdrive/My Drive/Colab Notebooks/MSDS_458_Assignment_4/cyberbullying_tweets.csv'\n",
    "df=pd.read_csv(path_to_csv)"
   ]
  },
  {
   "cell_type": "code",
   "execution_count": 8,
   "metadata": {
    "executionInfo": {
     "elapsed": 5,
     "status": "ok",
     "timestamp": 1653416408186,
     "user": {
      "displayName": "Dimitry Kirtsman",
      "userId": "11988189828040272864"
     },
     "user_tz": 420
    },
    "id": "Kbx79k09ktgV"
   },
   "outputs": [],
   "source": []
  },
  {
   "cell_type": "markdown",
   "metadata": {
    "id": "-BoPQ2JkkwOV"
   },
   "source": [
    "# Cleaning and Organizing Data"
   ]
  },
  {
   "cell_type": "code",
   "execution_count": 8,
   "metadata": {
    "executionInfo": {
     "elapsed": 4,
     "status": "ok",
     "timestamp": 1653416408186,
     "user": {
      "displayName": "Dimitry Kirtsman",
      "userId": "11988189828040272864"
     },
     "user_tz": 420
    },
    "id": "lFpZhRCdIl4o"
   },
   "outputs": [],
   "source": []
  },
  {
   "cell_type": "code",
   "execution_count": 9,
   "metadata": {
    "colab": {
     "base_uri": "https://localhost:8080/",
     "height": 112
    },
    "executionInfo": {
     "elapsed": 4,
     "status": "ok",
     "timestamp": 1653416408186,
     "user": {
      "displayName": "Dimitry Kirtsman",
      "userId": "11988189828040272864"
     },
     "user_tz": 420
    },
    "id": "0hUSl0cUkvIV",
    "outputId": "f53a0d2f-4bd8-4d81-e09c-087906fc1dab"
   },
   "outputs": [
    {
     "data": {
      "text/html": [
       "\n",
       "  <div id=\"df-3fa8b1e1-abc2-4d11-8d25-1f16f39c2ff3\">\n",
       "    <div class=\"colab-df-container\">\n",
       "      <div>\n",
       "<style scoped>\n",
       "    .dataframe tbody tr th:only-of-type {\n",
       "        vertical-align: middle;\n",
       "    }\n",
       "\n",
       "    .dataframe tbody tr th {\n",
       "        vertical-align: top;\n",
       "    }\n",
       "\n",
       "    .dataframe thead th {\n",
       "        text-align: right;\n",
       "    }\n",
       "</style>\n",
       "<table border=\"1\" class=\"dataframe\">\n",
       "  <thead>\n",
       "    <tr style=\"text-align: right;\">\n",
       "      <th></th>\n",
       "      <th>tweet_text</th>\n",
       "      <th>cyberbullying_type</th>\n",
       "    </tr>\n",
       "  </thead>\n",
       "  <tbody>\n",
       "    <tr>\n",
       "      <th>706</th>\n",
       "      <td>Uh. Why do they not make these for grownups? http://t.co/rHDOkljnDI</td>\n",
       "      <td>not_cyberbullying</td>\n",
       "    </tr>\n",
       "    <tr>\n",
       "      <th>1040</th>\n",
       "      <td>OMG 😱 I have a feeling I’m  going to be overwhelmed 😱 by my emoticons in tomorrow’s #mkr 😱😰😅😜😀😩😨😱😱</td>\n",
       "      <td>not_cyberbullying</td>\n",
       "    </tr>\n",
       "  </tbody>\n",
       "</table>\n",
       "</div>\n",
       "      <button class=\"colab-df-convert\" onclick=\"convertToInteractive('df-3fa8b1e1-abc2-4d11-8d25-1f16f39c2ff3')\"\n",
       "              title=\"Convert this dataframe to an interactive table.\"\n",
       "              style=\"display:none;\">\n",
       "        \n",
       "  <svg xmlns=\"http://www.w3.org/2000/svg\" height=\"24px\"viewBox=\"0 0 24 24\"\n",
       "       width=\"24px\">\n",
       "    <path d=\"M0 0h24v24H0V0z\" fill=\"none\"/>\n",
       "    <path d=\"M18.56 5.44l.94 2.06.94-2.06 2.06-.94-2.06-.94-.94-2.06-.94 2.06-2.06.94zm-11 1L8.5 8.5l.94-2.06 2.06-.94-2.06-.94L8.5 2.5l-.94 2.06-2.06.94zm10 10l.94 2.06.94-2.06 2.06-.94-2.06-.94-.94-2.06-.94 2.06-2.06.94z\"/><path d=\"M17.41 7.96l-1.37-1.37c-.4-.4-.92-.59-1.43-.59-.52 0-1.04.2-1.43.59L10.3 9.45l-7.72 7.72c-.78.78-.78 2.05 0 2.83L4 21.41c.39.39.9.59 1.41.59.51 0 1.02-.2 1.41-.59l7.78-7.78 2.81-2.81c.8-.78.8-2.07 0-2.86zM5.41 20L4 18.59l7.72-7.72 1.47 1.35L5.41 20z\"/>\n",
       "  </svg>\n",
       "      </button>\n",
       "      \n",
       "  <style>\n",
       "    .colab-df-container {\n",
       "      display:flex;\n",
       "      flex-wrap:wrap;\n",
       "      gap: 12px;\n",
       "    }\n",
       "\n",
       "    .colab-df-convert {\n",
       "      background-color: #E8F0FE;\n",
       "      border: none;\n",
       "      border-radius: 50%;\n",
       "      cursor: pointer;\n",
       "      display: none;\n",
       "      fill: #1967D2;\n",
       "      height: 32px;\n",
       "      padding: 0 0 0 0;\n",
       "      width: 32px;\n",
       "    }\n",
       "\n",
       "    .colab-df-convert:hover {\n",
       "      background-color: #E2EBFA;\n",
       "      box-shadow: 0px 1px 2px rgba(60, 64, 67, 0.3), 0px 1px 3px 1px rgba(60, 64, 67, 0.15);\n",
       "      fill: #174EA6;\n",
       "    }\n",
       "\n",
       "    [theme=dark] .colab-df-convert {\n",
       "      background-color: #3B4455;\n",
       "      fill: #D2E3FC;\n",
       "    }\n",
       "\n",
       "    [theme=dark] .colab-df-convert:hover {\n",
       "      background-color: #434B5C;\n",
       "      box-shadow: 0px 1px 3px 1px rgba(0, 0, 0, 0.15);\n",
       "      filter: drop-shadow(0px 1px 2px rgba(0, 0, 0, 0.3));\n",
       "      fill: #FFFFFF;\n",
       "    }\n",
       "  </style>\n",
       "\n",
       "      <script>\n",
       "        const buttonEl =\n",
       "          document.querySelector('#df-3fa8b1e1-abc2-4d11-8d25-1f16f39c2ff3 button.colab-df-convert');\n",
       "        buttonEl.style.display =\n",
       "          google.colab.kernel.accessAllowed ? 'block' : 'none';\n",
       "\n",
       "        async function convertToInteractive(key) {\n",
       "          const element = document.querySelector('#df-3fa8b1e1-abc2-4d11-8d25-1f16f39c2ff3');\n",
       "          const dataTable =\n",
       "            await google.colab.kernel.invokeFunction('convertToInteractive',\n",
       "                                                     [key], {});\n",
       "          if (!dataTable) return;\n",
       "\n",
       "          const docLinkHtml = 'Like what you see? Visit the ' +\n",
       "            '<a target=\"_blank\" href=https://colab.research.google.com/notebooks/data_table.ipynb>data table notebook</a>'\n",
       "            + ' to learn more about interactive tables.';\n",
       "          element.innerHTML = '';\n",
       "          dataTable['output_type'] = 'display_data';\n",
       "          await google.colab.output.renderOutput(dataTable, element);\n",
       "          const docLink = document.createElement('div');\n",
       "          docLink.innerHTML = docLinkHtml;\n",
       "          element.appendChild(docLink);\n",
       "        }\n",
       "      </script>\n",
       "    </div>\n",
       "  </div>\n",
       "  "
      ],
      "text/plain": [
       "                                                                                              tweet_text  \\\n",
       "706                                  Uh. Why do they not make these for grownups? http://t.co/rHDOkljnDI   \n",
       "1040  OMG 😱 I have a feeling I’m  going to be overwhelmed 😱 by my emoticons in tomorrow’s #mkr 😱😰😅😜😀😩😨😱😱   \n",
       "\n",
       "     cyberbullying_type  \n",
       "706   not_cyberbullying  \n",
       "1040  not_cyberbullying  "
      ]
     },
     "execution_count": 9,
     "metadata": {},
     "output_type": "execute_result"
    }
   ],
   "source": [
    "#looking at original data observation with emojis and urls\n",
    "\n",
    "df.iloc[[706,1040]]"
   ]
  },
  {
   "cell_type": "code",
   "execution_count": 10,
   "metadata": {
    "executionInfo": {
     "elapsed": 4,
     "status": "ok",
     "timestamp": 1653416408187,
     "user": {
      "displayName": "Dimitry Kirtsman",
      "userId": "11988189828040272864"
     },
     "user_tz": 420
    },
    "id": "weoVgTe8EJLJ"
   },
   "outputs": [],
   "source": [
    "#function for cleaning data by removing emojies and urls with clean-text library. https://pypi.org/project/clean-text/\n",
    "\n",
    "def cleaning_tweet_text(text):\n",
    "    text= clean(text, no_emoji=True, no_urls=True, replace_with_url=\"\",no_punct=True) #removing emojies and urls \n",
    "    return text\n",
    "\n"
   ]
  },
  {
   "cell_type": "code",
   "execution_count": 11,
   "metadata": {
    "executionInfo": {
     "elapsed": 6062,
     "status": "ok",
     "timestamp": 1653416414245,
     "user": {
      "displayName": "Dimitry Kirtsman",
      "userId": "11988189828040272864"
     },
     "user_tz": 420
    },
    "id": "fEELBwrGUlO1"
   },
   "outputs": [],
   "source": [
    "#applying cleaning function to tweets\n",
    "df[\"tweet_text\"]=df[\"tweet_text\"].apply(cleaning_tweet_text)"
   ]
  },
  {
   "cell_type": "code",
   "execution_count": 12,
   "metadata": {
    "colab": {
     "base_uri": "https://localhost:8080/",
     "height": 112
    },
    "executionInfo": {
     "elapsed": 12,
     "status": "ok",
     "timestamp": 1653416414245,
     "user": {
      "displayName": "Dimitry Kirtsman",
      "userId": "11988189828040272864"
     },
     "user_tz": 420
    },
    "id": "lJjMHDi9oiIE",
    "outputId": "db211681-acba-4f43-ebd5-495cebea324e"
   },
   "outputs": [
    {
     "data": {
      "text/html": [
       "\n",
       "  <div id=\"df-9acaae90-5569-46b7-a7e1-79394b846f0d\">\n",
       "    <div class=\"colab-df-container\">\n",
       "      <div>\n",
       "<style scoped>\n",
       "    .dataframe tbody tr th:only-of-type {\n",
       "        vertical-align: middle;\n",
       "    }\n",
       "\n",
       "    .dataframe tbody tr th {\n",
       "        vertical-align: top;\n",
       "    }\n",
       "\n",
       "    .dataframe thead th {\n",
       "        text-align: right;\n",
       "    }\n",
       "</style>\n",
       "<table border=\"1\" class=\"dataframe\">\n",
       "  <thead>\n",
       "    <tr style=\"text-align: right;\">\n",
       "      <th></th>\n",
       "      <th>tweet_text</th>\n",
       "      <th>cyberbullying_type</th>\n",
       "    </tr>\n",
       "  </thead>\n",
       "  <tbody>\n",
       "    <tr>\n",
       "      <th>706</th>\n",
       "      <td>uh why do they not make these for grownups</td>\n",
       "      <td>not_cyberbullying</td>\n",
       "    </tr>\n",
       "    <tr>\n",
       "      <th>1040</th>\n",
       "      <td>omg i have a feeling im going to be overwhelmed by my emoticons in tomorrows mkr</td>\n",
       "      <td>not_cyberbullying</td>\n",
       "    </tr>\n",
       "  </tbody>\n",
       "</table>\n",
       "</div>\n",
       "      <button class=\"colab-df-convert\" onclick=\"convertToInteractive('df-9acaae90-5569-46b7-a7e1-79394b846f0d')\"\n",
       "              title=\"Convert this dataframe to an interactive table.\"\n",
       "              style=\"display:none;\">\n",
       "        \n",
       "  <svg xmlns=\"http://www.w3.org/2000/svg\" height=\"24px\"viewBox=\"0 0 24 24\"\n",
       "       width=\"24px\">\n",
       "    <path d=\"M0 0h24v24H0V0z\" fill=\"none\"/>\n",
       "    <path d=\"M18.56 5.44l.94 2.06.94-2.06 2.06-.94-2.06-.94-.94-2.06-.94 2.06-2.06.94zm-11 1L8.5 8.5l.94-2.06 2.06-.94-2.06-.94L8.5 2.5l-.94 2.06-2.06.94zm10 10l.94 2.06.94-2.06 2.06-.94-2.06-.94-.94-2.06-.94 2.06-2.06.94z\"/><path d=\"M17.41 7.96l-1.37-1.37c-.4-.4-.92-.59-1.43-.59-.52 0-1.04.2-1.43.59L10.3 9.45l-7.72 7.72c-.78.78-.78 2.05 0 2.83L4 21.41c.39.39.9.59 1.41.59.51 0 1.02-.2 1.41-.59l7.78-7.78 2.81-2.81c.8-.78.8-2.07 0-2.86zM5.41 20L4 18.59l7.72-7.72 1.47 1.35L5.41 20z\"/>\n",
       "  </svg>\n",
       "      </button>\n",
       "      \n",
       "  <style>\n",
       "    .colab-df-container {\n",
       "      display:flex;\n",
       "      flex-wrap:wrap;\n",
       "      gap: 12px;\n",
       "    }\n",
       "\n",
       "    .colab-df-convert {\n",
       "      background-color: #E8F0FE;\n",
       "      border: none;\n",
       "      border-radius: 50%;\n",
       "      cursor: pointer;\n",
       "      display: none;\n",
       "      fill: #1967D2;\n",
       "      height: 32px;\n",
       "      padding: 0 0 0 0;\n",
       "      width: 32px;\n",
       "    }\n",
       "\n",
       "    .colab-df-convert:hover {\n",
       "      background-color: #E2EBFA;\n",
       "      box-shadow: 0px 1px 2px rgba(60, 64, 67, 0.3), 0px 1px 3px 1px rgba(60, 64, 67, 0.15);\n",
       "      fill: #174EA6;\n",
       "    }\n",
       "\n",
       "    [theme=dark] .colab-df-convert {\n",
       "      background-color: #3B4455;\n",
       "      fill: #D2E3FC;\n",
       "    }\n",
       "\n",
       "    [theme=dark] .colab-df-convert:hover {\n",
       "      background-color: #434B5C;\n",
       "      box-shadow: 0px 1px 3px 1px rgba(0, 0, 0, 0.15);\n",
       "      filter: drop-shadow(0px 1px 2px rgba(0, 0, 0, 0.3));\n",
       "      fill: #FFFFFF;\n",
       "    }\n",
       "  </style>\n",
       "\n",
       "      <script>\n",
       "        const buttonEl =\n",
       "          document.querySelector('#df-9acaae90-5569-46b7-a7e1-79394b846f0d button.colab-df-convert');\n",
       "        buttonEl.style.display =\n",
       "          google.colab.kernel.accessAllowed ? 'block' : 'none';\n",
       "\n",
       "        async function convertToInteractive(key) {\n",
       "          const element = document.querySelector('#df-9acaae90-5569-46b7-a7e1-79394b846f0d');\n",
       "          const dataTable =\n",
       "            await google.colab.kernel.invokeFunction('convertToInteractive',\n",
       "                                                     [key], {});\n",
       "          if (!dataTable) return;\n",
       "\n",
       "          const docLinkHtml = 'Like what you see? Visit the ' +\n",
       "            '<a target=\"_blank\" href=https://colab.research.google.com/notebooks/data_table.ipynb>data table notebook</a>'\n",
       "            + ' to learn more about interactive tables.';\n",
       "          element.innerHTML = '';\n",
       "          dataTable['output_type'] = 'display_data';\n",
       "          await google.colab.output.renderOutput(dataTable, element);\n",
       "          const docLink = document.createElement('div');\n",
       "          docLink.innerHTML = docLinkHtml;\n",
       "          element.appendChild(docLink);\n",
       "        }\n",
       "      </script>\n",
       "    </div>\n",
       "  </div>\n",
       "  "
      ],
      "text/plain": [
       "                                                                            tweet_text  \\\n",
       "706                                         uh why do they not make these for grownups   \n",
       "1040  omg i have a feeling im going to be overwhelmed by my emoticons in tomorrows mkr   \n",
       "\n",
       "     cyberbullying_type  \n",
       "706   not_cyberbullying  \n",
       "1040  not_cyberbullying  "
      ]
     },
     "execution_count": 12,
     "metadata": {},
     "output_type": "execute_result"
    }
   ],
   "source": [
    "#checking the same observations as above after removing emojies and urls. We can see there are no longer\n",
    "#any emojies or urls\n",
    "df.iloc[[706,1040]]"
   ]
  },
  {
   "cell_type": "code",
   "execution_count": 13,
   "metadata": {
    "colab": {
     "base_uri": "https://localhost:8080/"
    },
    "executionInfo": {
     "elapsed": 10,
     "status": "ok",
     "timestamp": 1653416414245,
     "user": {
      "displayName": "Dimitry Kirtsman",
      "userId": "11988189828040272864"
     },
     "user_tz": 420
    },
    "id": "t5ilw-BOo6oe",
    "outputId": "28d69f66-bf56-47e6-b941-b4f5886a68cb"
   },
   "outputs": [
    {
     "data": {
      "text/plain": [
       "(45502, 2)"
      ]
     },
     "execution_count": 13,
     "metadata": {},
     "output_type": "execute_result"
    }
   ],
   "source": [
    "#dropping duplicates\n",
    "df = df.drop_duplicates(subset=['tweet_text'], keep='last')\n",
    "df.shape"
   ]
  },
  {
   "cell_type": "code",
   "execution_count": 13,
   "metadata": {
    "executionInfo": {
     "elapsed": 10,
     "status": "ok",
     "timestamp": 1653416414246,
     "user": {
      "displayName": "Dimitry Kirtsman",
      "userId": "11988189828040272864"
     },
     "user_tz": 420
    },
    "id": "0K5nWBHGt_Rg"
   },
   "outputs": [],
   "source": []
  },
  {
   "cell_type": "code",
   "execution_count": 14,
   "metadata": {
    "colab": {
     "base_uri": "https://localhost:8080/"
    },
    "executionInfo": {
     "elapsed": 10,
     "status": "ok",
     "timestamp": 1653416414246,
     "user": {
      "displayName": "Dimitry Kirtsman",
      "userId": "11988189828040272864"
     },
     "user_tz": 420
    },
    "id": "bI0z9RPeUlUF",
    "outputId": "f8bcaf4c-a01a-4137-d9e6-b44b66dd52b6"
   },
   "outputs": [
    {
     "data": {
      "text/plain": [
       "religion               7961\n",
       "age                    7935\n",
       "ethnicity              7922\n",
       "other_cyberbullying    7707\n",
       "gender                 7631\n",
       "not_cyberbullying      6346\n",
       "Name: cyberbullying_type, dtype: int64"
      ]
     },
     "execution_count": 14,
     "metadata": {},
     "output_type": "execute_result"
    }
   ],
   "source": [
    "#checking distribution of cyberbyllying lables.\n",
    "df[\"cyberbullying_type\"].value_counts()"
   ]
  },
  {
   "cell_type": "code",
   "execution_count": 15,
   "metadata": {
    "colab": {
     "base_uri": "https://localhost:8080/"
    },
    "executionInfo": {
     "elapsed": 9,
     "status": "ok",
     "timestamp": 1653416414246,
     "user": {
      "displayName": "Dimitry Kirtsman",
      "userId": "11988189828040272864"
     },
     "user_tz": 420
    },
    "id": "L4nXlY1ObB0c",
    "outputId": "c6bc816e-d474-4f4d-aa00-3d697280151f"
   },
   "outputs": [
    {
     "name": "stderr",
     "output_type": "stream",
     "text": [
      "/usr/local/lib/python3.7/dist-packages/ipykernel_launcher.py:10: SettingWithCopyWarning: \n",
      "A value is trying to be set on a copy of a slice from a DataFrame.\n",
      "Try using .loc[row_indexer,col_indexer] = value instead\n",
      "\n",
      "See the caveats in the documentation: https://pandas.pydata.org/pandas-docs/stable/user_guide/indexing.html#returning-a-view-versus-a-copy\n",
      "  # Remove the CWD from sys.path while we load stuff.\n"
     ]
    }
   ],
   "source": [
    "#creating column of numerical cyberbullying labels.\n",
    "\n",
    "label_number_mappings={\"religion\":0,\n",
    "                       \"age\":1,\n",
    "                       \"gender\":2,\n",
    "                       \"ethnicity\":3,\n",
    "                       \"not_cyberbullying\":4,\n",
    "                       \"other_cyberbullying\":5\n",
    "                      }\n",
    "df[\"label_values\"]=df[\"cyberbullying_type\"].map(label_number_mappings)"
   ]
  },
  {
   "cell_type": "code",
   "execution_count": 16,
   "metadata": {
    "colab": {
     "base_uri": "https://localhost:8080/"
    },
    "executionInfo": {
     "elapsed": 8,
     "status": "ok",
     "timestamp": 1653416414246,
     "user": {
      "displayName": "Dimitry Kirtsman",
      "userId": "11988189828040272864"
     },
     "user_tz": 420
    },
    "id": "047cEfHfbB2z",
    "outputId": "b3b6f839-413b-418e-fcf7-63cd1d11dbf0"
   },
   "outputs": [
    {
     "data": {
      "text/plain": [
       "0    7961\n",
       "1    7935\n",
       "3    7922\n",
       "5    7707\n",
       "2    7631\n",
       "4    6346\n",
       "Name: label_values, dtype: int64"
      ]
     },
     "execution_count": 16,
     "metadata": {},
     "output_type": "execute_result"
    }
   ],
   "source": [
    "#checking if mapping was properly done\n",
    "df[\"label_values\"].value_counts()"
   ]
  },
  {
   "cell_type": "code",
   "execution_count": 16,
   "metadata": {
    "executionInfo": {
     "elapsed": 8,
     "status": "ok",
     "timestamp": 1653416414247,
     "user": {
      "displayName": "Dimitry Kirtsman",
      "userId": "11988189828040272864"
     },
     "user_tz": 420
    },
    "id": "_M7nw-2ImmS8"
   },
   "outputs": [],
   "source": []
  },
  {
   "cell_type": "code",
   "execution_count": 17,
   "metadata": {
    "executionInfo": {
     "elapsed": 8,
     "status": "ok",
     "timestamp": 1653416414247,
     "user": {
      "displayName": "Dimitry Kirtsman",
      "userId": "11988189828040272864"
     },
     "user_tz": 420
    },
    "id": "xaoW9u2nmmVj"
   },
   "outputs": [],
   "source": [
    "#Splitting dataset into full_train and test sets, stratifying on labels.\n",
    "\n",
    "X_train_full, X_test, y_train_full, y_test = train_test_split(df[\"tweet_text\"], df[\"label_values\"], test_size=5000, stratify=df[\"label_values\"])"
   ]
  },
  {
   "cell_type": "code",
   "execution_count": 18,
   "metadata": {
    "colab": {
     "base_uri": "https://localhost:8080/"
    },
    "executionInfo": {
     "elapsed": 7,
     "status": "ok",
     "timestamp": 1653416414247,
     "user": {
      "displayName": "Dimitry Kirtsman",
      "userId": "11988189828040272864"
     },
     "user_tz": 420
    },
    "id": "oTEWAcezmmX7",
    "outputId": "4fb20a65-ccba-40ef-c2b5-9cf7a7d06221"
   },
   "outputs": [
    {
     "data": {
      "text/plain": [
       "0    7086\n",
       "1    7063\n",
       "3    7052\n",
       "5    6860\n",
       "2    6792\n",
       "4    5649\n",
       "Name: label_values, dtype: int64"
      ]
     },
     "execution_count": 18,
     "metadata": {},
     "output_type": "execute_result"
    }
   ],
   "source": [
    "#making sure full train set is stratified properly\n",
    "y_train_full.value_counts()"
   ]
  },
  {
   "cell_type": "code",
   "execution_count": 19,
   "metadata": {
    "colab": {
     "base_uri": "https://localhost:8080/"
    },
    "executionInfo": {
     "elapsed": 7,
     "status": "ok",
     "timestamp": 1653416414247,
     "user": {
      "displayName": "Dimitry Kirtsman",
      "userId": "11988189828040272864"
     },
     "user_tz": 420
    },
    "id": "hmam2sBTmmea",
    "outputId": "a3fc0d04-dd11-4dd6-87da-ac803c633925"
   },
   "outputs": [
    {
     "data": {
      "text/plain": [
       "0    875\n",
       "1    872\n",
       "3    870\n",
       "5    847\n",
       "2    839\n",
       "4    697\n",
       "Name: label_values, dtype: int64"
      ]
     },
     "execution_count": 19,
     "metadata": {},
     "output_type": "execute_result"
    }
   ],
   "source": [
    "#making sure test set is stratified properly\n",
    "y_test.value_counts()"
   ]
  },
  {
   "cell_type": "code",
   "execution_count": 20,
   "metadata": {
    "executionInfo": {
     "elapsed": 396,
     "status": "ok",
     "timestamp": 1653416414637,
     "user": {
      "displayName": "Dimitry Kirtsman",
      "userId": "11988189828040272864"
     },
     "user_tz": 420
    },
    "id": "4z8ZbtPOxwvc"
   },
   "outputs": [],
   "source": [
    "#spliting full training set into train and validation sets\n",
    "X_train, X_val, y_train, y_val = train_test_split(X_train_full,y_train_full, test_size=5000, stratify=y_train_full)"
   ]
  },
  {
   "cell_type": "code",
   "execution_count": 21,
   "metadata": {
    "colab": {
     "base_uri": "https://localhost:8080/"
    },
    "executionInfo": {
     "elapsed": 13,
     "status": "ok",
     "timestamp": 1653416414638,
     "user": {
      "displayName": "Dimitry Kirtsman",
      "userId": "11988189828040272864"
     },
     "user_tz": 420
    },
    "id": "olgXEzvzxw17",
    "outputId": "a3668ace-57c0-4fc2-809a-00326588d470"
   },
   "outputs": [
    {
     "data": {
      "text/plain": [
       "0    6211\n",
       "1    6191\n",
       "3    6181\n",
       "5    6013\n",
       "2    5954\n",
       "4    4952\n",
       "Name: label_values, dtype: int64"
      ]
     },
     "execution_count": 21,
     "metadata": {},
     "output_type": "execute_result"
    }
   ],
   "source": [
    "#making sure train set is stratified properly\n",
    "y_train.value_counts()"
   ]
  },
  {
   "cell_type": "code",
   "execution_count": 22,
   "metadata": {
    "colab": {
     "base_uri": "https://localhost:8080/"
    },
    "executionInfo": {
     "elapsed": 11,
     "status": "ok",
     "timestamp": 1653416414638,
     "user": {
      "displayName": "Dimitry Kirtsman",
      "userId": "11988189828040272864"
     },
     "user_tz": 420
    },
    "id": "Vad-HV8Oyby_",
    "outputId": "485bba0e-4d66-4796-fc28-12b5725c15f4"
   },
   "outputs": [
    {
     "data": {
      "text/plain": [
       "0    875\n",
       "1    872\n",
       "3    871\n",
       "5    847\n",
       "2    838\n",
       "4    697\n",
       "Name: label_values, dtype: int64"
      ]
     },
     "execution_count": 22,
     "metadata": {},
     "output_type": "execute_result"
    }
   ],
   "source": [
    "#making sure validation set is stratified properly\n",
    "y_val.value_counts()"
   ]
  },
  {
   "cell_type": "code",
   "execution_count": 22,
   "metadata": {
    "executionInfo": {
     "elapsed": 8,
     "status": "ok",
     "timestamp": 1653416414638,
     "user": {
      "displayName": "Dimitry Kirtsman",
      "userId": "11988189828040272864"
     },
     "user_tz": 420
    },
    "id": "mcGZJBBY88F9"
   },
   "outputs": [],
   "source": []
  },
  {
   "cell_type": "markdown",
   "metadata": {
    "id": "5rRVNorpKQnM"
   },
   "source": [
    "# Helpful Model Fitting and Results Functions"
   ]
  },
  {
   "cell_type": "code",
   "execution_count": null,
   "metadata": {},
   "outputs": [],
   "source": []
  },
  {
   "cell_type": "code",
   "execution_count": 23,
   "metadata": {
    "executionInfo": {
     "elapsed": 8,
     "status": "ok",
     "timestamp": 1653416414639,
     "user": {
      "displayName": "Dimitry Kirtsman",
      "userId": "11988189828040272864"
     },
     "user_tz": 420
    },
    "id": "3LrzjRnrX8iX"
   },
   "outputs": [],
   "source": [
    "#creating callback class to get the amount of seconds each epoch takes. Code from:\n",
    "#https://stackoverflow.com/questions/43178668/record-the-computation-time-for-each-epoch-in-keras-during-model-fit\n",
    "\n",
    "class EpochTimeHistory(keras.callbacks.Callback):\n",
    "    def on_train_begin(self, logs={}):\n",
    "        self.times = []\n",
    "\n",
    "    def on_epoch_begin(self, batch, logs={}):\n",
    "        self.epoch_time_start = time.time()\n",
    "\n",
    "    def on_epoch_end(self, batch, logs={}):\n",
    "        self.times.append(time.time() - self.epoch_time_start)\n"
   ]
  },
  {
   "cell_type": "code",
   "execution_count": 24,
   "metadata": {
    "executionInfo": {
     "elapsed": 8,
     "status": "ok",
     "timestamp": 1653416414639,
     "user": {
      "displayName": "Dimitry Kirtsman",
      "userId": "11988189828040272864"
     },
     "user_tz": 420
    },
    "id": "s-_zrfnNKYG6"
   },
   "outputs": [],
   "source": [
    "\n",
    "def compile_train_model(model, x_train, y_train, x_valid, y_valid, model_num, epochs=100, patience=3, optimizer='adam'):\n",
    "    timestamp=int(time.time())\n",
    "    epoch_times=EpochTimeHistory()\n",
    "  \n",
    "    # Compile\n",
    "    model.compile(optimizer=optimizer,\n",
    "                loss = 'SparseCategoricalCrossentropy',\n",
    "                metrics=['accuracy'])\n",
    "\n",
    "  # Train\n",
    "    start_time = time.time()\n",
    "    history = model.fit(\n",
    "      x_train,\n",
    "      y_train,\n",
    "      epochs=epochs,\n",
    "      batch_size=128,\n",
    "      validation_data=(x_valid, y_valid),\n",
    "      verbose=1,\n",
    "      callbacks=[    \n",
    "          EarlyStopping(monitor='val_accuracy', patience=patience, restore_best_weights=True, verbose=0),\n",
    "        \n",
    "        epoch_times]\n",
    "       )\n",
    "    end_time = time.time()\n",
    "    second_elapsed = round(end_time - start_time)\n",
    "    epoch_times_values =epoch_times.times\n",
    "    print(\"\\n\")\n",
    "    print(f'Finished model training in {second_elapsed}s')\n",
    "    print(f'Average time to run each epoch is: {  np.round(np.mean(epoch_times.times[1:-1]),4) }') \n",
    "                                                                       \n",
    "\n",
    "    return history, model   "
   ]
  },
  {
   "cell_type": "code",
   "execution_count": 25,
   "metadata": {
    "executionInfo": {
     "elapsed": 8,
     "status": "ok",
     "timestamp": 1653416414639,
     "user": {
      "displayName": "Dimitry Kirtsman",
      "userId": "11988189828040272864"
     },
     "user_tz": 420
    },
    "id": "dGVokoYVKYJi"
   },
   "outputs": [],
   "source": [
    "#Classificatin report function\n",
    "def print_validation_report(test_labels, predictions):\n",
    "    print(\"Classification Report\")\n",
    "    print(classification_report(test_labels, predictions))\n",
    "    print('Accuracy Score: {}'.format(accuracy_score(test_labels, predictions)))\n",
    "    print('Root Mean Square Error: {}'.format(np.sqrt(MSE(test_labels, predictions))))#included per class instruction "
   ]
  },
  {
   "cell_type": "code",
   "execution_count": 25,
   "metadata": {
    "executionInfo": {
     "elapsed": 9,
     "status": "ok",
     "timestamp": 1653416414640,
     "user": {
      "displayName": "Dimitry Kirtsman",
      "userId": "11988189828040272864"
     },
     "user_tz": 420
    },
    "id": "LCySGp9FKYOi"
   },
   "outputs": [],
   "source": []
  },
  {
   "cell_type": "code",
   "execution_count": 26,
   "metadata": {
    "executionInfo": {
     "elapsed": 9,
     "status": "ok",
     "timestamp": 1653416414640,
     "user": {
      "displayName": "Dimitry Kirtsman",
      "userId": "11988189828040272864"
     },
     "user_tz": 420
    },
    "id": "lQhqv0DaKYR6"
   },
   "outputs": [],
   "source": [
    "#function to print out training and validation set loss and accuracy values of the best model\n",
    "def loss_accuracy_values(model_history, model_num, epochs, patience=3):  \n",
    "  if len(model_history.history[\"val_loss\"])==epochs:\n",
    "      print(\"Model Experiment {} Training Loss: \".format(model_num),np.round(model_history.history[\"loss\"][-1],4))\n",
    "      print(\"Model Experiment {} Training Accuracy: \".format(model_num),np.round(model_history.history[\"accuracy\"][-1],4))\n",
    "      print(\"Model Experiment {}  Validation Loss: \".format(model_num),np.round(model_history.history[\"val_loss\"][-1],4))\n",
    "      print(\"Model Experiment {}  Validation Accuracy: \".format(model_num),np.round(model_history.history[\"val_accuracy\"][-1],4))\n",
    "  else:\n",
    "      print(\"Model Experiment {}  Training Loss: \".format(model_num),np.round(model_history.history[\"loss\"][-(1+patience)],4))\n",
    "      print(\"Model Experiment {}  Training Accuracy: \".format(model_num),np.round(model_history.history[\"accuracy\"][-(1+patience)],4))\n",
    "      print(\"Model Experiment {}  Validation Loss: \".format(model_num), np.round(model_history.history[\"val_loss\"][-(1+patience)],4))\n",
    "      print(\"Model Experiment {}  Validation Accuracy:\".format(model_num), np.round(model_history.history[\"val_accuracy\"][-(1+patience)],4)) "
   ]
  },
  {
   "cell_type": "code",
   "execution_count": 27,
   "metadata": {
    "executionInfo": {
     "elapsed": 8,
     "status": "ok",
     "timestamp": 1653416414640,
     "user": {
      "displayName": "Dimitry Kirtsman",
      "userId": "11988189828040272864"
     },
     "user_tz": 420
    },
    "id": "QOaZ_ewHKYUq"
   },
   "outputs": [],
   "source": [
    "#creating function for charts of train vs validation accuracy and loss functions\n",
    "def train_val_accuracy_and_loss_charts(model_history, model_num):\n",
    "    model_df=pd.DataFrame(model_history.history)\n",
    "\n",
    "    model_df[[\"loss\",\"val_loss\"]].plot(figsize=(9,7))\n",
    "    plt.grid(True)\n",
    "    plt.title(\"Model Experiment {}: Train vs. Validation - Loss\".format(model_num), size =17)\n",
    "    plt.xlabel(\"Epochs\", size=15)\n",
    "\n",
    "    model_df[[\"accuracy\",\"val_accuracy\"]].plot(figsize=(9,7))\n",
    "    plt.grid(True)\n",
    "    plt.title(\"Model Experiment {}: Train vs. Validation - Accuracy\".format(model_num), size =17)\n",
    "    plt.xlabel(\"Epochs\", size=15)\n",
    "\n",
    "    plt.show()    "
   ]
  },
  {
   "cell_type": "code",
   "execution_count": 28,
   "metadata": {
    "executionInfo": {
     "elapsed": 8,
     "status": "ok",
     "timestamp": 1653416414640,
     "user": {
      "displayName": "Dimitry Kirtsman",
      "userId": "11988189828040272864"
     },
     "user_tz": 420
    },
    "id": "HOatJjgzPYol"
   },
   "outputs": [],
   "source": [
    "# Function for creating multi-class confusion matrix\n",
    "\n",
    "#class names for confusion matrix\n",
    "class_names = [\"religion\",\n",
    "                       \"age\",\n",
    "                       \"gender\",\n",
    "                       \"ethnicity\",\n",
    "                       \"not_cyberbullying\",\n",
    "                       \"other_cyberbullying\"\n",
    "]\n",
    "\n",
    "\n",
    "\n",
    "def confusion_matrix_multi_class(model_for_matrix,test_set, actual_test_labels, model_num):\n",
    "    #predicting test set with model for confusion matrix and setting as sparse with argmax\n",
    "    confusion_matrix_predictions=model_for_matrix.predict(test_set).argmax(axis=1)\n",
    "\n",
    "\n",
    "\n",
    "    #creating confusion matrix - using test set labels as they were already sparse before one-hot encoding\n",
    "    confusion_matrix_for_model = confusion_matrix( actual_test_labels ,  confusion_matrix_predictions)\n",
    "\n",
    "\n",
    "    confusion_matrix_df = pd.DataFrame(confusion_matrix_for_model,\n",
    "                    \n",
    "                     index=class_names,\n",
    "                     columns=class_names)\n",
    "\n",
    "    #Plotting the confusion matrix\n",
    "    plt.figure(figsize=(10,8))\n",
    "    sns.heatmap(confusion_matrix_df, annot=True, fmt=\"d\", cmap=\"rocket_r\")\n",
    "    plt.title('Confusion Matrix - Model Experiment {}'.format(model_num), size=17)\n",
    "    plt.ylabel('Actual Labels', size=15)\n",
    "    plt.xlabel('Predicted Labels',size=15)\n",
    "    plt.xticks(fontsize=15)\n",
    "    plt.yticks(fontsize=15)\n",
    "    plt.show()"
   ]
  },
  {
   "cell_type": "code",
   "execution_count": 29,
   "metadata": {
    "executionInfo": {
     "elapsed": 8,
     "status": "ok",
     "timestamp": 1653416414640,
     "user": {
      "displayName": "Dimitry Kirtsman",
      "userId": "11988189828040272864"
     },
     "user_tz": 420
    },
    "id": "Tt5kQXLW-WFN"
   },
   "outputs": [],
   "source": [
    "keras.backend.clear_session()"
   ]
  },
  {
   "cell_type": "code",
   "execution_count": 29,
   "metadata": {
    "executionInfo": {
     "elapsed": 8,
     "status": "ok",
     "timestamp": 1653416414640,
     "user": {
      "displayName": "Dimitry Kirtsman",
      "userId": "11988189828040272864"
     },
     "user_tz": 420
    },
    "id": "weTencK1_Tmf"
   },
   "outputs": [],
   "source": []
  },
  {
   "cell_type": "markdown",
   "metadata": {
    "id": "edfH5Ha2H4Fa"
   },
   "source": [
    "# BERT Data Preprocessing and Tokenization"
   ]
  },
  {
   "cell_type": "code",
   "execution_count": null,
   "metadata": {},
   "outputs": [],
   "source": []
  },
  {
   "cell_type": "code",
   "execution_count": 30,
   "metadata": {
    "colab": {
     "base_uri": "https://localhost:8080/",
     "height": 269,
     "referenced_widgets": [
      "2d9c485922b24cd3978c4a061f084272",
      "84ad08d32794443c8f8c87136533682e",
      "05fb5fed4622425495b06c6e38be8079",
      "f914ccb3a0a34e55bdd52559174d1f63",
      "e9681012eea64515849c62964b4fbb4f",
      "123d4447771c4eb0986ab7a563300998",
      "92498f08b185437dada36936e3eb4c29",
      "d085d86af33945cabe20cc17f9491de7",
      "a07ed2b253ea4756bbcbc030207f9bb6",
      "152d7f19a59343408a5f9cc3ca3e01a6",
      "ed30347b278c43f59b4b8b952a5cbff3",
      "248f97477fa9436ab4d221e7d85d8115",
      "55e48e6941ed46cc9a91d507bc5cc2e6",
      "2d3f32c7d79e4bd2aff58f143e96f3f4",
      "2acfed8763e0444db06c8ce0bd929b3c",
      "e1e872f41cc94ac8b72513d0dc696b0e",
      "7ba9f19a68f54c5e8fab9e124fab0f59",
      "63b67eb1e432441eb8b483c7a70ee0c0",
      "dcd3624aa4d840bfad3525e196402267",
      "bba01def89754cf2a0fed799b7718845",
      "cb37611b0b9b42d68d4c983fc80c17e0",
      "3ec3c54dead44a10abdcf908e3563036",
      "73cfc4e09d534d2d83eff54f136ad445",
      "ac11c42153f24a2fba09ffa65e5c8997",
      "1662062d48e6468dab5b22e5caaeddab",
      "e374035284c5473e8f69c67870741f04",
      "038722b72765423e9ea90dcc27c434ee",
      "b6775be8e8d3441aad9354fcfdf77e0b",
      "151c2a83338145e98a70f805b5294494",
      "5eebe63233f64799b2fe5199cc77ee8c",
      "2dd9f71c90364ac48e47876fc7b1c367",
      "07ceb1591a224c549645a64672e085a8",
      "f8b486a658e743c8a5c2192d420685fd",
      "772b019e83cb4a50b37d7d4ef1024d84",
      "7426e7478922495d88f0faeb1c79149c",
      "cc9b743da10144a98e6cc674bb26545a",
      "f7e273e7c726466abee52e5b40fc163c",
      "bbb41ebc8654433a930bdb357771fc37",
      "f419ac4455544992ad2944190e824343",
      "d21d815b504245dd947639e2a3fb707b",
      "d1b53e9c3d8d463486515be77b1ba319",
      "bc75be3bbdc846cdaaa5b6ae02d5cd80",
      "1099ad2f7e554e4c9b2de34823114e89",
      "9cda85fe5a1e4868a951d9c533124c3c",
      "d1ca58613e2e4683bca38ba3e189a2d5",
      "005656d6c3664fbb91d5f1c49c02bac8",
      "37c553f0dc654533b83f5d2a25629a5c",
      "cda11930dc394c07950ac2335c3f49cf",
      "4547b32800df4c90857df2ebec7df7ac",
      "f9fd218187294406a30d6500b434c432",
      "953bc578113a46bea053a7f063cd46f5",
      "b156e0c49455402eaef9b025c37feb46",
      "0600f0655bfd43038692336fc4b9e9fc",
      "e2d808ab08c846ea82a9091426208632",
      "d223f7e17fcd406aa4b3ac92c631b022"
     ]
    },
    "executionInfo": {
     "elapsed": 25728,
     "status": "ok",
     "timestamp": 1653416440361,
     "user": {
      "displayName": "Dimitry Kirtsman",
      "userId": "11988189828040272864"
     },
     "user_tz": 420
    },
    "id": "pG1pAubgH4Fc",
    "outputId": "42e66823-4d91-4965-f6c1-fd9094cc2c25"
   },
   "outputs": [
    {
     "data": {
      "application/vnd.jupyter.widget-view+json": {
       "model_id": "2d9c485922b24cd3978c4a061f084272",
       "version_major": 2,
       "version_minor": 0
      },
      "text/plain": [
       "Downloading:   0%|          | 0.00/570 [00:00<?, ?B/s]"
      ]
     },
     "metadata": {},
     "output_type": "display_data"
    },
    {
     "data": {
      "application/vnd.jupyter.widget-view+json": {
       "model_id": "248f97477fa9436ab4d221e7d85d8115",
       "version_major": 2,
       "version_minor": 0
      },
      "text/plain": [
       "Downloading:   0%|          | 0.00/511M [00:00<?, ?B/s]"
      ]
     },
     "metadata": {},
     "output_type": "display_data"
    },
    {
     "name": "stderr",
     "output_type": "stream",
     "text": [
      "Some layers from the model checkpoint at bert-base-uncased were not used when initializing TFBertModel: ['mlm___cls', 'nsp___cls']\n",
      "- This IS expected if you are initializing TFBertModel from the checkpoint of a model trained on another task or with another architecture (e.g. initializing a BertForSequenceClassification model from a BertForPreTraining model).\n",
      "- This IS NOT expected if you are initializing TFBertModel from the checkpoint of a model that you expect to be exactly identical (initializing a BertForSequenceClassification model from a BertForSequenceClassification model).\n",
      "All the layers of TFBertModel were initialized from the model checkpoint at bert-base-uncased.\n",
      "If your task is similar to the task the model of the checkpoint was trained on, you can already use TFBertModel for predictions without further training.\n"
     ]
    },
    {
     "data": {
      "application/vnd.jupyter.widget-view+json": {
       "model_id": "73cfc4e09d534d2d83eff54f136ad445",
       "version_major": 2,
       "version_minor": 0
      },
      "text/plain": [
       "Downloading:   0%|          | 0.00/28.0 [00:00<?, ?B/s]"
      ]
     },
     "metadata": {},
     "output_type": "display_data"
    },
    {
     "data": {
      "application/vnd.jupyter.widget-view+json": {
       "model_id": "772b019e83cb4a50b37d7d4ef1024d84",
       "version_major": 2,
       "version_minor": 0
      },
      "text/plain": [
       "Downloading:   0%|          | 0.00/226k [00:00<?, ?B/s]"
      ]
     },
     "metadata": {},
     "output_type": "display_data"
    },
    {
     "data": {
      "application/vnd.jupyter.widget-view+json": {
       "model_id": "d1ca58613e2e4683bca38ba3e189a2d5",
       "version_major": 2,
       "version_minor": 0
      },
      "text/plain": [
       "Downloading:   0%|          | 0.00/455k [00:00<?, ?B/s]"
      ]
     },
     "metadata": {},
     "output_type": "display_data"
    }
   ],
   "source": [
    "#Getting pretrained model and tokenizer\n",
    "bert = TFBertModel.from_pretrained(\"bert-base-uncased\") \n",
    "tokenizer = BertTokenizerFast.from_pretrained(\"bert-base-uncased\") "
   ]
  },
  {
   "cell_type": "code",
   "execution_count": 30,
   "metadata": {
    "executionInfo": {
     "elapsed": 6,
     "status": "ok",
     "timestamp": 1653416440361,
     "user": {
      "displayName": "Dimitry Kirtsman",
      "userId": "11988189828040272864"
     },
     "user_tz": 420
    },
    "id": "lZbCI9cdH4Fc"
   },
   "outputs": [],
   "source": []
  },
  {
   "cell_type": "code",
   "execution_count": 31,
   "metadata": {
    "executionInfo": {
     "elapsed": 4448,
     "status": "ok",
     "timestamp": 1653416444804,
     "user": {
      "displayName": "Dimitry Kirtsman",
      "userId": "11988189828040272864"
     },
     "user_tz": 420
    },
    "id": "YTjSUCzTH4Fd"
   },
   "outputs": [],
   "source": [
    "#Tokenizing training, validation and test tweet text.\n",
    "X_train_tokenized=tokenizer.batch_encode_plus(list(X_train), return_tensors=\"tf\", max_length=70,truncation=True, padding='max_length')\n",
    "X_val_tokenized=tokenizer.batch_encode_plus(list(X_val), return_tensors=\"tf\", max_length=70,truncation=True, padding='max_length')\n",
    "X_test_tokenized=tokenizer.batch_encode_plus(list(X_test), return_tensors=\"tf\", max_length=70,truncation=True, padding='max_length')"
   ]
  },
  {
   "cell_type": "code",
   "execution_count": 32,
   "metadata": {
    "executionInfo": {
     "elapsed": 6,
     "status": "ok",
     "timestamp": 1653416444805,
     "user": {
      "displayName": "Dimitry Kirtsman",
      "userId": "11988189828040272864"
     },
     "user_tz": 420
    },
    "id": "4SEaAs1dH4Fd"
   },
   "outputs": [],
   "source": [
    "#making numpy arrays from the train, validaion and test labels.\n",
    "y_train=np.array(y_train)\n",
    "y_val=np.array(y_val)\n",
    "y_test=np.array(y_test)"
   ]
  },
  {
   "cell_type": "code",
   "execution_count": 33,
   "metadata": {
    "executionInfo": {
     "elapsed": 5,
     "status": "ok",
     "timestamp": 1653416444805,
     "user": {
      "displayName": "Dimitry Kirtsman",
      "userId": "11988189828040272864"
     },
     "user_tz": 420
    },
    "id": "szejwez0H4Fd"
   },
   "outputs": [],
   "source": [
    "#getting tokens and masks from the BERT tokenized train, validation and test sets.\n",
    "\n",
    "train_tokens = X_train_tokenized[\"input_ids\"]\n",
    "train_masks = X_train_tokenized[\"attention_mask\"]\n",
    "\n",
    "val_tokens = X_val_tokenized[\"input_ids\"]\n",
    "val_masks = X_val_tokenized[\"attention_mask\"]\n",
    "\n",
    "test_tokens = X_test_tokenized[\"input_ids\"]\n",
    "test_masks = X_test_tokenized[\"attention_mask\"]"
   ]
  },
  {
   "cell_type": "code",
   "execution_count": 33,
   "metadata": {
    "executionInfo": {
     "elapsed": 6,
     "status": "ok",
     "timestamp": 1653411169245,
     "user": {
      "displayName": "Dimitry Kirtsman",
      "userId": "11988189828040272864"
     },
     "user_tz": 420
    },
    "id": "bLayj9Gj_T0o"
   },
   "outputs": [],
   "source": []
  },
  {
   "cell_type": "markdown",
   "metadata": {
    "id": "z2Y8CynIXzYI"
   },
   "source": [
    "# Experiment 8 - BERT pre-trained followed by 2 Dense Layers - Hyperparemeter Tunning"
   ]
  },
  {
   "cell_type": "code",
   "execution_count": null,
   "metadata": {},
   "outputs": [],
   "source": []
  },
  {
   "cell_type": "code",
   "execution_count": 34,
   "metadata": {
    "executionInfo": {
     "elapsed": 236,
     "status": "ok",
     "timestamp": 1653416481963,
     "user": {
      "displayName": "Dimitry Kirtsman",
      "userId": "11988189828040272864"
     },
     "user_tz": 420
    },
    "id": "hAmNh5w8E3Oa"
   },
   "outputs": [],
   "source": [
    "#model code modified from Yildirim and Asagri-Chenaghlu (2021). \n",
    "#Yildirim, Savas, and Meysam Asgari-Chenaghlu. 2021. Mastering Transformers. 1st edition. Packt Publishing.\n",
    "max_length = 70 \n",
    "\n",
    "def create_model_exp_8(hp): \n",
    "\n",
    "    #multiples of 32.\n",
    "    #For both dense layears testing for a min of 32 nodes, a max of 256 filters and any in between by \n",
    "    #multiples of 32.\n",
    "    dense_dim_1=hp.Int('Dense Layer 1 # of Dense Nodes',min_value=32, max_value=256, step =32)\n",
    "    dense_dim_2=hp.Int('Dense Layer 2 # of Dense Nodes',min_value=32, max_value=256, step =32)\n",
    "    #For both dense layears testing for a Dropout of a min of 0.1, a max of 0.4 and any in between by \n",
    "    #multiples of 0.1\n",
    "    dropout_1=hp.Float(\"Dropout_after Dense Layer 1\", min_value=0.10, max_value=0.40, step=0.10)\n",
    "    dropout_2=hp.Float(\"Dropout_after Dense Layer 2\", min_value=0.10, max_value=0.40, step=0.10)\n",
    "\n",
    "    tokens = keras.layers.Input(shape=(max_length,), dtype=tf.dtypes.int32) \n",
    "    masks = keras.layers.Input(shape=(max_length,), dtype=tf.dtypes.int32) \n",
    "    embedding_layer = bert.layers[0]([tokens,masks])[0][:,0,:] \n",
    "    dense_1= tf.keras.layers.Dense(units=dense_dim_1, activation=\"relu\")(embedding_layer)\n",
    "    dropout_1=tf.keras.layers.Dropout(dropout_1)(dense_1)\n",
    "    dense_2= tf.keras.layers.Dense(units=dense_dim_2, activation=\"relu\")(dropout_1)\n",
    "    dropout_2=tf.keras.layers.Dropout(dropout_2)(dense_2)\n",
    "    output = tf.keras.layers.Dense(units=6, activation=\"softmax\")(dropout_2)  \n",
    "    model = keras.Model([tokens,masks],output)\n",
    "    model.layers[2].trainable = False\n",
    "\n",
    "    #testing for optimizer choice of adam, sgd, or rmsprop\n",
    "    model.compile(optimizer=hp.Choice(\"optimizer\", [\"adam\", \"sgd\", \"rmsprop\"]), \\\n",
    "                                            loss=\"sparse_categorical_crossentropy\", metrics=[\"accuracy\"])\n",
    "\n",
    "    return model\n",
    "\n"
   ]
  },
  {
   "cell_type": "code",
   "execution_count": 35,
   "metadata": {
    "executionInfo": {
     "elapsed": 6088,
     "status": "ok",
     "timestamp": 1653416531107,
     "user": {
      "displayName": "Dimitry Kirtsman",
      "userId": "11988189828040272864"
     },
     "user_tz": 420
    },
    "id": "VJQrhWenE3RU"
   },
   "outputs": [],
   "source": [
    "#creating Bayesian Optimization for KerasTuner\n",
    "tuner_exp_8 = kt.BayesianOptimization(\n",
    "    hypermodel=create_model_exp_8,\n",
    "    objective=\"val_accuracy\",\n",
    "    max_trials=10,\n",
    "    overwrite=True,\n",
    "    \n",
    "    directory='/content/gdrive/My Drive/Colab Notebooks/MSDS_458_Assignment_4/keras_tuner_out',\n",
    "    project_name=\"exp_8\")"
   ]
  },
  {
   "cell_type": "code",
   "execution_count": 36,
   "metadata": {
    "colab": {
     "base_uri": "https://localhost:8080/"
    },
    "executionInfo": {
     "elapsed": 12576370,
     "status": "ok",
     "timestamp": 1653429139270,
     "user": {
      "displayName": "Dimitry Kirtsman",
      "userId": "11988189828040272864"
     },
     "user_tz": 420
    },
    "id": "gfoIMG2DMPAM",
    "outputId": "d8ecaaae-b316-4d8b-c343-61988974a2a7"
   },
   "outputs": [
    {
     "name": "stdout",
     "output_type": "stream",
     "text": [
      "Trial 10 Complete [00h 25m 26s]\n",
      "val_accuracy: 0.8352000117301941\n",
      "\n",
      "Best val_accuracy So Far: 0.8366000056266785\n",
      "Total elapsed time: 03h 29m 36s\n",
      "INFO:tensorflow:Oracle triggered exit\n"
     ]
    }
   ],
   "source": [
    "#setting epochs, patience and early stopping\n",
    "epochs=30\n",
    "patience=4\n",
    "model_number=\"8\"\n",
    "early_stopping= EarlyStopping(monitor='val_accuracy',patience=patience, restore_best_weights=True )\n",
    "\n",
    "#tunning the model\n",
    "tuner_exp_8.search([train_tokens,train_masks], y_train, epochs=epochs, batch_size=128, validation_data=([val_tokens,val_masks], y_val), callbacks= [early_stopping])"
   ]
  },
  {
   "cell_type": "code",
   "execution_count": 37,
   "metadata": {
    "colab": {
     "base_uri": "https://localhost:8080/"
    },
    "executionInfo": {
     "elapsed": 250,
     "status": "ok",
     "timestamp": 1653430244880,
     "user": {
      "displayName": "Dimitry Kirtsman",
      "userId": "11988189828040272864"
     },
     "user_tz": 420
    },
    "id": "qMaf_oDvMPC-",
    "outputId": "9a0a231f-6340-4fbb-9680-2f8fbff11cd4"
   },
   "outputs": [
    {
     "name": "stdout",
     "output_type": "stream",
     "text": [
      "Dense Layer 1 # of Dense Nodes : 256\n",
      "\n",
      "\n",
      "Dense Layer 2 # of Dense Nodes : 32\n",
      "\n",
      "\n",
      "Dropout After Dense Layer 1: 0.1\n",
      "\n",
      "\n",
      "Dropout After Dense Layer 2: 0.1\n",
      "\n",
      "\n",
      "Optimizer Used: rmsprop\n"
     ]
    }
   ],
   "source": [
    "#getting best hyperparameters for model \n",
    "best_hyper_parameters_exp_8=tuner_exp_8.get_best_hyperparameters(num_trials=1)[0]\n",
    "\n",
    "#function to print out best parameters depending on how many Conv layers there are\n",
    "def best_model_hyperparameters_8(bhp):\n",
    "    \n",
    "    print(\"Dense Layer 1 # of Dense Nodes : {}\".format(bhp.get(\"Dense Layer 1 # of Dense Nodes\")))\n",
    "    print(\"\\n\")\n",
    "    print(\"Dense Layer 2 # of Dense Nodes : {}\".format(bhp.get(\"Dense Layer 2 # of Dense Nodes\")))\n",
    "    print(\"\\n\")\n",
    "    print('Dropout After Dense Layer 1:', np.round(bhp.get('Dropout_after Dense Layer 1'),3))\n",
    "    print(\"\\n\")\n",
    "    print('Dropout After Dense Layer 2:', np.round(bhp.get('Dropout_after Dense Layer 2'),3))\n",
    "    print(\"\\n\")\n",
    "    print(\"Optimizer Used: {}\".format(bhp.get('optimizer')))                                                           \n",
    "\n",
    "#printing out best model hyperparameters\n",
    "best_model_hyperparameters_8(best_hyper_parameters_exp_8)  "
   ]
  },
  {
   "cell_type": "code",
   "execution_count": null,
   "metadata": {
    "id": "iiNjVOvtMPG8"
   },
   "outputs": [],
   "source": []
  },
  {
   "cell_type": "code",
   "execution_count": 38,
   "metadata": {
    "colab": {
     "base_uri": "https://localhost:8080/"
    },
    "executionInfo": {
     "elapsed": 1108762,
     "status": "ok",
     "timestamp": 1653431366876,
     "user": {
      "displayName": "Dimitry Kirtsman",
      "userId": "11988189828040272864"
     },
     "user_tz": 420
    },
    "id": "zIwrrRlyijhA",
    "outputId": "cc5e1af4-f80c-443f-bf00-8c76eb0f1493"
   },
   "outputs": [
    {
     "name": "stdout",
     "output_type": "stream",
     "text": [
      "Epoch 1/30\n",
      "278/278 [==============================] - 89s 254ms/step - loss: 0.8760 - accuracy: 0.6731 - val_loss: 0.7315 - val_accuracy: 0.7362\n",
      "Epoch 2/30\n",
      "278/278 [==============================] - 68s 244ms/step - loss: 0.6700 - accuracy: 0.7493 - val_loss: 0.5996 - val_accuracy: 0.7814\n",
      "Epoch 3/30\n",
      "278/278 [==============================] - 68s 244ms/step - loss: 0.6193 - accuracy: 0.7661 - val_loss: 0.5803 - val_accuracy: 0.7820\n",
      "Epoch 4/30\n",
      "278/278 [==============================] - 68s 244ms/step - loss: 0.5941 - accuracy: 0.7753 - val_loss: 0.5319 - val_accuracy: 0.8082\n",
      "Epoch 5/30\n",
      "278/278 [==============================] - 68s 243ms/step - loss: 0.5682 - accuracy: 0.7852 - val_loss: 0.5489 - val_accuracy: 0.7968\n",
      "Epoch 6/30\n",
      "278/278 [==============================] - 68s 245ms/step - loss: 0.5574 - accuracy: 0.7902 - val_loss: 0.4957 - val_accuracy: 0.8142\n",
      "Epoch 7/30\n",
      "278/278 [==============================] - 68s 244ms/step - loss: 0.5420 - accuracy: 0.7954 - val_loss: 0.5295 - val_accuracy: 0.8074\n",
      "Epoch 8/30\n",
      "278/278 [==============================] - 68s 244ms/step - loss: 0.5335 - accuracy: 0.8000 - val_loss: 0.4691 - val_accuracy: 0.8224\n",
      "Epoch 9/30\n",
      "278/278 [==============================] - 68s 244ms/step - loss: 0.5173 - accuracy: 0.8040 - val_loss: 0.4788 - val_accuracy: 0.8238\n",
      "Epoch 10/30\n",
      "278/278 [==============================] - 68s 245ms/step - loss: 0.5117 - accuracy: 0.8079 - val_loss: 0.4650 - val_accuracy: 0.8270\n",
      "Epoch 11/30\n",
      "278/278 [==============================] - 68s 243ms/step - loss: 0.5091 - accuracy: 0.8073 - val_loss: 0.4724 - val_accuracy: 0.8234\n",
      "Epoch 12/30\n",
      "278/278 [==============================] - 68s 245ms/step - loss: 0.4960 - accuracy: 0.8129 - val_loss: 0.4553 - val_accuracy: 0.8340\n",
      "Epoch 13/30\n",
      "278/278 [==============================] - 68s 244ms/step - loss: 0.4948 - accuracy: 0.8122 - val_loss: 0.4651 - val_accuracy: 0.8264\n",
      "Epoch 14/30\n",
      "278/278 [==============================] - 68s 244ms/step - loss: 0.4786 - accuracy: 0.8227 - val_loss: 0.4801 - val_accuracy: 0.8216\n",
      "Epoch 15/30\n",
      "278/278 [==============================] - 68s 244ms/step - loss: 0.4843 - accuracy: 0.8178 - val_loss: 0.4733 - val_accuracy: 0.8218\n",
      "Epoch 16/30\n",
      "278/278 [==============================] - 68s 245ms/step - loss: 0.4769 - accuracy: 0.8208 - val_loss: 0.4400 - val_accuracy: 0.8324\n",
      "\n",
      "\n",
      "Finished model training in 1107s\n",
      "Average time to run each epoch is: 67.8351\n"
     ]
    }
   ],
   "source": [
    "\n",
    "#getting paremeters of best model\n",
    "model_exp_8_best_params = tuner_exp_8.get_best_hyperparameters(2)\n",
    "\n",
    "# Building model exp_8 with best hyper parameters\n",
    "model_exp_8_best = create_model_exp_8(model_exp_8_best_params[0])\n",
    "\n",
    "\n",
    "# Running best model 8 to get the time to run an epoch and time to run the whole model. Test set metrics will be \n",
    "#based of this model run.\n",
    "epochs=30\n",
    "patience=4\n",
    "model_number=\"8\"\n",
    "history_exp_8, model_exp_8 = compile_train_model(model_exp_8_best,[train_tokens,train_masks],y_train,\n",
    "                                    [val_tokens,val_masks],y_val, model_number, epochs,patience=patience,\n",
    "                                    optimizer=\"rmsprop\")"
   ]
  },
  {
   "cell_type": "code",
   "execution_count": 39,
   "metadata": {
    "colab": {
     "base_uri": "https://localhost:8080/"
    },
    "executionInfo": {
     "elapsed": 311,
     "status": "ok",
     "timestamp": 1653432460221,
     "user": {
      "displayName": "Dimitry Kirtsman",
      "userId": "11988189828040272864"
     },
     "user_tz": 420
    },
    "id": "0fhosc9eijqY",
    "outputId": "942d5510-24d8-4a6f-da48-8fca649233d0"
   },
   "outputs": [
    {
     "name": "stdout",
     "output_type": "stream",
     "text": [
      "Model: \"model_1\"\n",
      "__________________________________________________________________________________________________\n",
      " Layer (type)                   Output Shape         Param #     Connected to                     \n",
      "==================================================================================================\n",
      " input_3 (InputLayer)           [(None, 70)]         0           []                               \n",
      "                                                                                                  \n",
      " input_4 (InputLayer)           [(None, 70)]         0           []                               \n",
      "                                                                                                  \n",
      " bert (TFBertMainLayer)         TFBaseModelOutputWi  109482240   ['input_3[0][0]',                \n",
      "                                thPoolingAndCrossAt               'input_4[0][0]']                \n",
      "                                tentions(last_hidde                                               \n",
      "                                n_state=(None, 70,                                                \n",
      "                                768),                                                             \n",
      "                                 pooler_output=(Non                                               \n",
      "                                e, 768),                                                          \n",
      "                                 past_key_values=No                                               \n",
      "                                ne, hidden_states=N                                               \n",
      "                                one, attentions=Non                                               \n",
      "                                e, cross_attentions                                               \n",
      "                                =None)                                                            \n",
      "                                                                                                  \n",
      " tf.__operators__.getitem_1 (Sl  (None, 768)         0           ['bert[11][0]']                  \n",
      " icingOpLambda)                                                                                   \n",
      "                                                                                                  \n",
      " dense_3 (Dense)                (None, 256)          196864      ['tf.__operators__.getitem_1[0][0\n",
      "                                                                 ]']                              \n",
      "                                                                                                  \n",
      " dropout_2 (Dropout)            (None, 256)          0           ['dense_3[0][0]']                \n",
      "                                                                                                  \n",
      " dense_4 (Dense)                (None, 32)           8224        ['dropout_2[0][0]']              \n",
      "                                                                                                  \n",
      " dropout_3 (Dropout)            (None, 32)           0           ['dense_4[0][0]']                \n",
      "                                                                                                  \n",
      " dense_5 (Dense)                (None, 6)            198         ['dropout_3[0][0]']              \n",
      "                                                                                                  \n",
      "==================================================================================================\n",
      "Total params: 109,687,526\n",
      "Trainable params: 205,286\n",
      "Non-trainable params: 109,482,240\n",
      "__________________________________________________________________________________________________\n"
     ]
    }
   ],
   "source": [
    "model_exp_8.summary()"
   ]
  },
  {
   "cell_type": "code",
   "execution_count": 40,
   "metadata": {
    "colab": {
     "base_uri": "https://localhost:8080/"
    },
    "executionInfo": {
     "elapsed": 301,
     "status": "ok",
     "timestamp": 1653432464036,
     "user": {
      "displayName": "Dimitry Kirtsman",
      "userId": "11988189828040272864"
     },
     "user_tz": 420
    },
    "id": "6FVsu963KYcr",
    "outputId": "1981f960-8d82-427c-cb87-b342d6d57fc4"
   },
   "outputs": [
    {
     "name": "stdout",
     "output_type": "stream",
     "text": [
      "Model Experiment 8  Training Loss:  0.496\n",
      "Model Experiment 8  Training Accuracy:  0.8129\n",
      "Model Experiment 8  Validation Loss:  0.4553\n",
      "Model Experiment 8  Validation Accuracy: 0.834\n"
     ]
    }
   ],
   "source": [
    "#printing train and validation loss and accuracy for the model\n",
    "\n",
    "loss_accuracy_values(history_exp_8, model_number, epochs, patience=patience)"
   ]
  },
  {
   "cell_type": "code",
   "execution_count": 85,
   "metadata": {
    "colab": {
     "base_uri": "https://localhost:8080/",
     "height": 917
    },
    "executionInfo": {
     "elapsed": 908,
     "status": "ok",
     "timestamp": 1653415997538,
     "user": {
      "displayName": "Dimitry Kirtsman",
      "userId": "11988189828040272864"
     },
     "user_tz": 420
    },
    "id": "nhjX3rzz2JHY",
    "outputId": "4e16ecd6-dd56-46ad-d640-024df2dd1e69"
   },
   "outputs": [
    {
     "data": {
      "image/png": "[encoded data removed]",
      "text/plain": [
       "<Figure size 648x504 with 1 Axes>"
      ]
     },
     "metadata": {
      "needs_background": "light"
     },
     "output_type": "display_data"
    },
    {
     "data": {
      "image/png": "[encoded data removed]",
      "text/plain": [
       "<Figure size 648x504 with 1 Axes>"
      ]
     },
     "metadata": {
      "needs_background": "light"
     },
     "output_type": "display_data"
    }
   ],
   "source": [
    "#printing charts of  train vs validation accuracy and loss functions\n",
    "\n",
    "train_val_accuracy_and_loss_charts(history_exp_8, model_number)"
   ]
  },
  {
   "cell_type": "code",
   "execution_count": 41,
   "metadata": {
    "colab": {
     "base_uri": "https://localhost:8080/"
    },
    "executionInfo": {
     "elapsed": 13011,
     "status": "ok",
     "timestamp": 1653432481180,
     "user": {
      "displayName": "Dimitry Kirtsman",
      "userId": "11988189828040272864"
     },
     "user_tz": 420
    },
    "id": "GMnocJCIWlHq",
    "outputId": "3fea0b8f-03fa-4400-a482-f7eba521d096"
   },
   "outputs": [
    {
     "name": "stdout",
     "output_type": "stream",
     "text": [
      "Classification Report\n",
      "              precision    recall  f1-score   support\n",
      "\n",
      "           0       0.92      0.93      0.92       875\n",
      "           1       0.91      0.95      0.93       872\n",
      "           2       0.79      0.84      0.81       839\n",
      "           3       0.95      0.93      0.94       870\n",
      "           4       0.70      0.53      0.60       697\n",
      "           5       0.69      0.76      0.72       847\n",
      "\n",
      "    accuracy                           0.83      5000\n",
      "   macro avg       0.83      0.82      0.82      5000\n",
      "weighted avg       0.83      0.83      0.83      5000\n",
      "\n",
      "Accuracy Score: 0.8328\n",
      "Root Mean Square Error: 0.9786725703727472\n"
     ]
    }
   ],
   "source": [
    "#creating  classification report\n",
    "\n",
    "#getting predictions\n",
    "\n",
    "model_exp_8_predictions=model_exp_8.predict([[test_tokens,test_masks]]).argmax(axis=1)\n",
    "print_validation_report(y_test, model_exp_8_predictions)"
   ]
  },
  {
   "cell_type": "code",
   "execution_count": null,
   "metadata": {
    "id": "1UjNl2N8ExCu"
   },
   "outputs": [],
   "source": []
  },
  {
   "cell_type": "code",
   "execution_count": 42,
   "metadata": {
    "colab": {
     "base_uri": "https://localhost:8080/",
     "height": 662
    },
    "executionInfo": {
     "elapsed": 13631,
     "status": "ok",
     "timestamp": 1653432498095,
     "user": {
      "displayName": "Dimitry Kirtsman",
      "userId": "11988189828040272864"
     },
     "user_tz": 420
    },
    "id": "Q-eQjhuyKYgC",
    "outputId": "0a7eeceb-0d31-4093-b5d2-bd1dd724570f"
   },
   "outputs": [
    {
     "data": {
      "image/png": "[encoded data removed]",
      "text/plain": [
       "<Figure size 720x576 with 2 Axes>"
      ]
     },
     "metadata": {
      "needs_background": "light"
     },
     "output_type": "display_data"
    }
   ],
   "source": [
    "#printing out confusion matrix\n",
    "confusion_matrix_multi_class(model_exp_8, [test_tokens,test_masks],y_test, model_number)"
   ]
  },
  {
   "cell_type": "code",
   "execution_count": null,
   "metadata": {
    "id": "fGd7eO1ZKYrK"
   },
   "outputs": [],
   "source": []
  }
 ],
 "metadata": {
  "accelerator": "GPU",
  "colab": {
   "authorship_tag": "ABX9TyMMRlxgLnZErG53Q9uZiQYZ",
   "name": "MSDS 458 - Assignment 4 - Experiments 8_v4_Hyper.ipynb",
   "provenance": []
  },
  "kernelspec": {
   "display_name": "Python 3 (ipykernel)",
   "language": "python",
   "name": "python3"
  },
  "language_info": {
   "codemirror_mode": {
    "name": "ipython",
    "version": 3
   },
   "file_extension": ".py",
   "mimetype": "text/x-python",
   "name": "python",
   "nbconvert_exporter": "python",
   "pygments_lexer": "ipython3",
   "version": "3.8.8"
  },
  "widgets": {
   "application/vnd.jupyter.widget-state+json": {
    "005656d6c3664fbb91d5f1c49c02bac8": {
     "model_module": "@jupyter-widgets/controls",
     "model_module_version": "1.5.0",
     "model_name": "HTMLModel",
     "state": {
      "_dom_classes": [],
      "_model_module": "@jupyter-widgets/controls",
      "_model_module_version": "1.5.0",
      "_model_name": "HTMLModel",
      "_view_count": null,
      "_view_module": "@jupyter-widgets/controls",
      "_view_module_version": "1.5.0",
      "_view_name": "HTMLView",
      "description": "",
      "description_tooltip": null,
      "layout": "IPY_MODEL_f9fd218187294406a30d6500b434c432",
      "placeholder": "​",
      "style": "IPY_MODEL_953bc578113a46bea053a7f063cd46f5",
      "value": "Downloading: 100%"
     }
    },
    "038722b72765423e9ea90dcc27c434ee": {
     "model_module": "@jupyter-widgets/base",
     "model_module_version": "1.2.0",
     "model_name": "LayoutModel",
     "state": {
      "_model_module": "@jupyter-widgets/base",
      "_model_module_version": "1.2.0",
      "_model_name": "LayoutModel",
      "_view_count": null,
      "_view_module": "@jupyter-widgets/base",
      "_view_module_version": "1.2.0",
      "_view_name": "LayoutView",
      "align_content": null,
      "align_items": null,
      "align_self": null,
      "border": null,
      "bottom": null,
      "display": null,
      "flex": null,
      "flex_flow": null,
      "grid_area": null,
      "grid_auto_columns": null,
      "grid_auto_flow": null,
      "grid_auto_rows": null,
      "grid_column": null,
      "grid_gap": null,
      "grid_row": null,
      "grid_template_areas": null,
      "grid_template_columns": null,
      "grid_template_rows": null,
      "height": null,
      "justify_content": null,
      "justify_items": null,
      "left": null,
      "margin": null,
      "max_height": null,
      "max_width": null,
      "min_height": null,
      "min_width": null,
      "object_fit": null,
      "object_position": null,
      "order": null,
      "overflow": null,
      "overflow_x": null,
      "overflow_y": null,
      "padding": null,
      "right": null,
      "top": null,
      "visibility": null,
      "width": null
     }
    },
    "05fb5fed4622425495b06c6e38be8079": {
     "model_module": "@jupyter-widgets/controls",
     "model_module_version": "1.5.0",
     "model_name": "FloatProgressModel",
     "state": {
      "_dom_classes": [],
      "_model_module": "@jupyter-widgets/controls",
      "_model_module_version": "1.5.0",
      "_model_name": "FloatProgressModel",
      "_view_count": null,
      "_view_module": "@jupyter-widgets/controls",
      "_view_module_version": "1.5.0",
      "_view_name": "ProgressView",
      "bar_style": "success",
      "description": "",
      "description_tooltip": null,
      "layout": "IPY_MODEL_d085d86af33945cabe20cc17f9491de7",
      "max": 570,
      "min": 0,
      "orientation": "horizontal",
      "style": "IPY_MODEL_a07ed2b253ea4756bbcbc030207f9bb6",
      "value": 570
     }
    },
    "0600f0655bfd43038692336fc4b9e9fc": {
     "model_module": "@jupyter-widgets/controls",
     "model_module_version": "1.5.0",
     "model_name": "ProgressStyleModel",
     "state": {
      "_model_module": "@jupyter-widgets/controls",
      "_model_module_version": "1.5.0",
      "_model_name": "ProgressStyleModel",
      "_view_count": null,
      "_view_module": "@jupyter-widgets/base",
      "_view_module_version": "1.2.0",
      "_view_name": "StyleView",
      "bar_color": null,
      "description_width": ""
     }
    },
    "07ceb1591a224c549645a64672e085a8": {
     "model_module": "@jupyter-widgets/base",
     "model_module_version": "1.2.0",
     "model_name": "LayoutModel",
     "state": {
      "_model_module": "@jupyter-widgets/base",
      "_model_module_version": "1.2.0",
      "_model_name": "LayoutModel",
      "_view_count": null,
      "_view_module": "@jupyter-widgets/base",
      "_view_module_version": "1.2.0",
      "_view_name": "LayoutView",
      "align_content": null,
      "align_items": null,
      "align_self": null,
      "border": null,
      "bottom": null,
      "display": null,
      "flex": null,
      "flex_flow": null,
      "grid_area": null,
      "grid_auto_columns": null,
      "grid_auto_flow": null,
      "grid_auto_rows": null,
      "grid_column": null,
      "grid_gap": null,
      "grid_row": null,
      "grid_template_areas": null,
      "grid_template_columns": null,
      "grid_template_rows": null,
      "height": null,
      "justify_content": null,
      "justify_items": null,
      "left": null,
      "margin": null,
      "max_height": null,
      "max_width": null,
      "min_height": null,
      "min_width": null,
      "object_fit": null,
      "object_position": null,
      "order": null,
      "overflow": null,
      "overflow_x": null,
      "overflow_y": null,
      "padding": null,
      "right": null,
      "top": null,
      "visibility": null,
      "width": null
     }
    },
    "1099ad2f7e554e4c9b2de34823114e89": {
     "model_module": "@jupyter-widgets/base",
     "model_module_version": "1.2.0",
     "model_name": "LayoutModel",
     "state": {
      "_model_module": "@jupyter-widgets/base",
      "_model_module_version": "1.2.0",
      "_model_name": "LayoutModel",
      "_view_count": null,
      "_view_module": "@jupyter-widgets/base",
      "_view_module_version": "1.2.0",
      "_view_name": "LayoutView",
      "align_content": null,
      "align_items": null,
      "align_self": null,
      "border": null,
      "bottom": null,
      "display": null,
      "flex": null,
      "flex_flow": null,
      "grid_area": null,
      "grid_auto_columns": null,
      "grid_auto_flow": null,
      "grid_auto_rows": null,
      "grid_column": null,
      "grid_gap": null,
      "grid_row": null,
      "grid_template_areas": null,
      "grid_template_columns": null,
      "grid_template_rows": null,
      "height": null,
      "justify_content": null,
      "justify_items": null,
      "left": null,
      "margin": null,
      "max_height": null,
      "max_width": null,
      "min_height": null,
      "min_width": null,
      "object_fit": null,
      "object_position": null,
      "order": null,
      "overflow": null,
      "overflow_x": null,
      "overflow_y": null,
      "padding": null,
      "right": null,
      "top": null,
      "visibility": null,
      "width": null
     }
    },
    "123d4447771c4eb0986ab7a563300998": {
     "model_module": "@jupyter-widgets/base",
     "model_module_version": "1.2.0",
     "model_name": "LayoutModel",
     "state": {
      "_model_module": "@jupyter-widgets/base",
      "_model_module_version": "1.2.0",
      "_model_name": "LayoutModel",
      "_view_count": null,
      "_view_module": "@jupyter-widgets/base",
      "_view_module_version": "1.2.0",
      "_view_name": "LayoutView",
      "align_content": null,
      "align_items": null,
      "align_self": null,
      "border": null,
      "bottom": null,
      "display": null,
      "flex": null,
      "flex_flow": null,
      "grid_area": null,
      "grid_auto_columns": null,
      "grid_auto_flow": null,
      "grid_auto_rows": null,
      "grid_column": null,
      "grid_gap": null,
      "grid_row": null,
      "grid_template_areas": null,
      "grid_template_columns": null,
      "grid_template_rows": null,
      "height": null,
      "justify_content": null,
      "justify_items": null,
      "left": null,
      "margin": null,
      "max_height": null,
      "max_width": null,
      "min_height": null,
      "min_width": null,
      "object_fit": null,
      "object_position": null,
      "order": null,
      "overflow": null,
      "overflow_x": null,
      "overflow_y": null,
      "padding": null,
      "right": null,
      "top": null,
      "visibility": null,
      "width": null
     }
    },
    "151c2a83338145e98a70f805b5294494": {
     "model_module": "@jupyter-widgets/controls",
     "model_module_version": "1.5.0",
     "model_name": "DescriptionStyleModel",
     "state": {
      "_model_module": "@jupyter-widgets/controls",
      "_model_module_version": "1.5.0",
      "_model_name": "DescriptionStyleModel",
      "_view_count": null,
      "_view_module": "@jupyter-widgets/base",
      "_view_module_version": "1.2.0",
      "_view_name": "StyleView",
      "description_width": ""
     }
    },
    "152d7f19a59343408a5f9cc3ca3e01a6": {
     "model_module": "@jupyter-widgets/base",
     "model_module_version": "1.2.0",
     "model_name": "LayoutModel",
     "state": {
      "_model_module": "@jupyter-widgets/base",
      "_model_module_version": "1.2.0",
      "_model_name": "LayoutModel",
      "_view_count": null,
      "_view_module": "@jupyter-widgets/base",
      "_view_module_version": "1.2.0",
      "_view_name": "LayoutView",
      "align_content": null,
      "align_items": null,
      "align_self": null,
      "border": null,
      "bottom": null,
      "display": null,
      "flex": null,
      "flex_flow": null,
      "grid_area": null,
      "grid_auto_columns": null,
      "grid_auto_flow": null,
      "grid_auto_rows": null,
      "grid_column": null,
      "grid_gap": null,
      "grid_row": null,
      "grid_template_areas": null,
      "grid_template_columns": null,
      "grid_template_rows": null,
      "height": null,
      "justify_content": null,
      "justify_items": null,
      "left": null,
      "margin": null,
      "max_height": null,
      "max_width": null,
      "min_height": null,
      "min_width": null,
      "object_fit": null,
      "object_position": null,
      "order": null,
      "overflow": null,
      "overflow_x": null,
      "overflow_y": null,
      "padding": null,
      "right": null,
      "top": null,
      "visibility": null,
      "width": null
     }
    },
    "1662062d48e6468dab5b22e5caaeddab": {
     "model_module": "@jupyter-widgets/controls",
     "model_module_version": "1.5.0",
     "model_name": "FloatProgressModel",
     "state": {
      "_dom_classes": [],
      "_model_module": "@jupyter-widgets/controls",
      "_model_module_version": "1.5.0",
      "_model_name": "FloatProgressModel",
      "_view_count": null,
      "_view_module": "@jupyter-widgets/controls",
      "_view_module_version": "1.5.0",
      "_view_name": "ProgressView",
      "bar_style": "success",
      "description": "",
      "description_tooltip": null,
      "layout": "IPY_MODEL_5eebe63233f64799b2fe5199cc77ee8c",
      "max": 28,
      "min": 0,
      "orientation": "horizontal",
      "style": "IPY_MODEL_2dd9f71c90364ac48e47876fc7b1c367",
      "value": 28
     }
    },
    "248f97477fa9436ab4d221e7d85d8115": {
     "model_module": "@jupyter-widgets/controls",
     "model_module_version": "1.5.0",
     "model_name": "HBoxModel",
     "state": {
      "_dom_classes": [],
      "_model_module": "@jupyter-widgets/controls",
      "_model_module_version": "1.5.0",
      "_model_name": "HBoxModel",
      "_view_count": null,
      "_view_module": "@jupyter-widgets/controls",
      "_view_module_version": "1.5.0",
      "_view_name": "HBoxView",
      "box_style": "",
      "children": [
       "IPY_MODEL_55e48e6941ed46cc9a91d507bc5cc2e6",
       "IPY_MODEL_2d3f32c7d79e4bd2aff58f143e96f3f4",
       "IPY_MODEL_2acfed8763e0444db06c8ce0bd929b3c"
      ],
      "layout": "IPY_MODEL_e1e872f41cc94ac8b72513d0dc696b0e"
     }
    },
    "2acfed8763e0444db06c8ce0bd929b3c": {
     "model_module": "@jupyter-widgets/controls",
     "model_module_version": "1.5.0",
     "model_name": "HTMLModel",
     "state": {
      "_dom_classes": [],
      "_model_module": "@jupyter-widgets/controls",
      "_model_module_version": "1.5.0",
      "_model_name": "HTMLModel",
      "_view_count": null,
      "_view_module": "@jupyter-widgets/controls",
      "_view_module_version": "1.5.0",
      "_view_name": "HTMLView",
      "description": "",
      "description_tooltip": null,
      "layout": "IPY_MODEL_cb37611b0b9b42d68d4c983fc80c17e0",
      "placeholder": "​",
      "style": "IPY_MODEL_3ec3c54dead44a10abdcf908e3563036",
      "value": " 511M/511M [00:13&lt;00:00, 35.2MB/s]"
     }
    },
    "2d3f32c7d79e4bd2aff58f143e96f3f4": {
     "model_module": "@jupyter-widgets/controls",
     "model_module_version": "1.5.0",
     "model_name": "FloatProgressModel",
     "state": {
      "_dom_classes": [],
      "_model_module": "@jupyter-widgets/controls",
      "_model_module_version": "1.5.0",
      "_model_name": "FloatProgressModel",
      "_view_count": null,
      "_view_module": "@jupyter-widgets/controls",
      "_view_module_version": "1.5.0",
      "_view_name": "ProgressView",
      "bar_style": "success",
      "description": "",
      "description_tooltip": null,
      "layout": "IPY_MODEL_dcd3624aa4d840bfad3525e196402267",
      "max": 536063208,
      "min": 0,
      "orientation": "horizontal",
      "style": "IPY_MODEL_bba01def89754cf2a0fed799b7718845",
      "value": 536063208
     }
    },
    "2d9c485922b24cd3978c4a061f084272": {
     "model_module": "@jupyter-widgets/controls",
     "model_module_version": "1.5.0",
     "model_name": "HBoxModel",
     "state": {
      "_dom_classes": [],
      "_model_module": "@jupyter-widgets/controls",
      "_model_module_version": "1.5.0",
      "_model_name": "HBoxModel",
      "_view_count": null,
      "_view_module": "@jupyter-widgets/controls",
      "_view_module_version": "1.5.0",
      "_view_name": "HBoxView",
      "box_style": "",
      "children": [
       "IPY_MODEL_84ad08d32794443c8f8c87136533682e",
       "IPY_MODEL_05fb5fed4622425495b06c6e38be8079",
       "IPY_MODEL_f914ccb3a0a34e55bdd52559174d1f63"
      ],
      "layout": "IPY_MODEL_e9681012eea64515849c62964b4fbb4f"
     }
    },
    "2dd9f71c90364ac48e47876fc7b1c367": {
     "model_module": "@jupyter-widgets/controls",
     "model_module_version": "1.5.0",
     "model_name": "ProgressStyleModel",
     "state": {
      "_model_module": "@jupyter-widgets/controls",
      "_model_module_version": "1.5.0",
      "_model_name": "ProgressStyleModel",
      "_view_count": null,
      "_view_module": "@jupyter-widgets/base",
      "_view_module_version": "1.2.0",
      "_view_name": "StyleView",
      "bar_color": null,
      "description_width": ""
     }
    },
    "37c553f0dc654533b83f5d2a25629a5c": {
     "model_module": "@jupyter-widgets/controls",
     "model_module_version": "1.5.0",
     "model_name": "FloatProgressModel",
     "state": {
      "_dom_classes": [],
      "_model_module": "@jupyter-widgets/controls",
      "_model_module_version": "1.5.0",
      "_model_name": "FloatProgressModel",
      "_view_count": null,
      "_view_module": "@jupyter-widgets/controls",
      "_view_module_version": "1.5.0",
      "_view_name": "ProgressView",
      "bar_style": "success",
      "description": "",
      "description_tooltip": null,
      "layout": "IPY_MODEL_b156e0c49455402eaef9b025c37feb46",
      "max": 466062,
      "min": 0,
      "orientation": "horizontal",
      "style": "IPY_MODEL_0600f0655bfd43038692336fc4b9e9fc",
      "value": 466062
     }
    },
    "3ec3c54dead44a10abdcf908e3563036": {
     "model_module": "@jupyter-widgets/controls",
     "model_module_version": "1.5.0",
     "model_name": "DescriptionStyleModel",
     "state": {
      "_model_module": "@jupyter-widgets/controls",
      "_model_module_version": "1.5.0",
      "_model_name": "DescriptionStyleModel",
      "_view_count": null,
      "_view_module": "@jupyter-widgets/base",
      "_view_module_version": "1.2.0",
      "_view_name": "StyleView",
      "description_width": ""
     }
    },
    "4547b32800df4c90857df2ebec7df7ac": {
     "model_module": "@jupyter-widgets/base",
     "model_module_version": "1.2.0",
     "model_name": "LayoutModel",
     "state": {
      "_model_module": "@jupyter-widgets/base",
      "_model_module_version": "1.2.0",
      "_model_name": "LayoutModel",
      "_view_count": null,
      "_view_module": "@jupyter-widgets/base",
      "_view_module_version": "1.2.0",
      "_view_name": "LayoutView",
      "align_content": null,
      "align_items": null,
      "align_self": null,
      "border": null,
      "bottom": null,
      "display": null,
      "flex": null,
      "flex_flow": null,
      "grid_area": null,
      "grid_auto_columns": null,
      "grid_auto_flow": null,
      "grid_auto_rows": null,
      "grid_column": null,
      "grid_gap": null,
      "grid_row": null,
      "grid_template_areas": null,
      "grid_template_columns": null,
      "grid_template_rows": null,
      "height": null,
      "justify_content": null,
      "justify_items": null,
      "left": null,
      "margin": null,
      "max_height": null,
      "max_width": null,
      "min_height": null,
      "min_width": null,
      "object_fit": null,
      "object_position": null,
      "order": null,
      "overflow": null,
      "overflow_x": null,
      "overflow_y": null,
      "padding": null,
      "right": null,
      "top": null,
      "visibility": null,
      "width": null
     }
    },
    "55e48e6941ed46cc9a91d507bc5cc2e6": {
     "model_module": "@jupyter-widgets/controls",
     "model_module_version": "1.5.0",
     "model_name": "HTMLModel",
     "state": {
      "_dom_classes": [],
      "_model_module": "@jupyter-widgets/controls",
      "_model_module_version": "1.5.0",
      "_model_name": "HTMLModel",
      "_view_count": null,
      "_view_module": "@jupyter-widgets/controls",
      "_view_module_version": "1.5.0",
      "_view_name": "HTMLView",
      "description": "",
      "description_tooltip": null,
      "layout": "IPY_MODEL_7ba9f19a68f54c5e8fab9e124fab0f59",
      "placeholder": "​",
      "style": "IPY_MODEL_63b67eb1e432441eb8b483c7a70ee0c0",
      "value": "Downloading: 100%"
     }
    },
    "5eebe63233f64799b2fe5199cc77ee8c": {
     "model_module": "@jupyter-widgets/base",
     "model_module_version": "1.2.0",
     "model_name": "LayoutModel",
     "state": {
      "_model_module": "@jupyter-widgets/base",
      "_model_module_version": "1.2.0",
      "_model_name": "LayoutModel",
      "_view_count": null,
      "_view_module": "@jupyter-widgets/base",
      "_view_module_version": "1.2.0",
      "_view_name": "LayoutView",
      "align_content": null,
      "align_items": null,
      "align_self": null,
      "border": null,
      "bottom": null,
      "display": null,
      "flex": null,
      "flex_flow": null,
      "grid_area": null,
      "grid_auto_columns": null,
      "grid_auto_flow": null,
      "grid_auto_rows": null,
      "grid_column": null,
      "grid_gap": null,
      "grid_row": null,
      "grid_template_areas": null,
      "grid_template_columns": null,
      "grid_template_rows": null,
      "height": null,
      "justify_content": null,
      "justify_items": null,
      "left": null,
      "margin": null,
      "max_height": null,
      "max_width": null,
      "min_height": null,
      "min_width": null,
      "object_fit": null,
      "object_position": null,
      "order": null,
      "overflow": null,
      "overflow_x": null,
      "overflow_y": null,
      "padding": null,
      "right": null,
      "top": null,
      "visibility": null,
      "width": null
     }
    },
    "63b67eb1e432441eb8b483c7a70ee0c0": {
     "model_module": "@jupyter-widgets/controls",
     "model_module_version": "1.5.0",
     "model_name": "DescriptionStyleModel",
     "state": {
      "_model_module": "@jupyter-widgets/controls",
      "_model_module_version": "1.5.0",
      "_model_name": "DescriptionStyleModel",
      "_view_count": null,
      "_view_module": "@jupyter-widgets/base",
      "_view_module_version": "1.2.0",
      "_view_name": "StyleView",
      "description_width": ""
     }
    },
    "73cfc4e09d534d2d83eff54f136ad445": {
     "model_module": "@jupyter-widgets/controls",
     "model_module_version": "1.5.0",
     "model_name": "HBoxModel",
     "state": {
      "_dom_classes": [],
      "_model_module": "@jupyter-widgets/controls",
      "_model_module_version": "1.5.0",
      "_model_name": "HBoxModel",
      "_view_count": null,
      "_view_module": "@jupyter-widgets/controls",
      "_view_module_version": "1.5.0",
      "_view_name": "HBoxView",
      "box_style": "",
      "children": [
       "IPY_MODEL_ac11c42153f24a2fba09ffa65e5c8997",
       "IPY_MODEL_1662062d48e6468dab5b22e5caaeddab",
       "IPY_MODEL_e374035284c5473e8f69c67870741f04"
      ],
      "layout": "IPY_MODEL_038722b72765423e9ea90dcc27c434ee"
     }
    },
    "7426e7478922495d88f0faeb1c79149c": {
     "model_module": "@jupyter-widgets/controls",
     "model_module_version": "1.5.0",
     "model_name": "HTMLModel",
     "state": {
      "_dom_classes": [],
      "_model_module": "@jupyter-widgets/controls",
      "_model_module_version": "1.5.0",
      "_model_name": "HTMLModel",
      "_view_count": null,
      "_view_module": "@jupyter-widgets/controls",
      "_view_module_version": "1.5.0",
      "_view_name": "HTMLView",
      "description": "",
      "description_tooltip": null,
      "layout": "IPY_MODEL_f419ac4455544992ad2944190e824343",
      "placeholder": "​",
      "style": "IPY_MODEL_d21d815b504245dd947639e2a3fb707b",
      "value": "Downloading: 100%"
     }
    },
    "772b019e83cb4a50b37d7d4ef1024d84": {
     "model_module": "@jupyter-widgets/controls",
     "model_module_version": "1.5.0",
     "model_name": "HBoxModel",
     "state": {
      "_dom_classes": [],
      "_model_module": "@jupyter-widgets/controls",
      "_model_module_version": "1.5.0",
      "_model_name": "HBoxModel",
      "_view_count": null,
      "_view_module": "@jupyter-widgets/controls",
      "_view_module_version": "1.5.0",
      "_view_name": "HBoxView",
      "box_style": "",
      "children": [
       "IPY_MODEL_7426e7478922495d88f0faeb1c79149c",
       "IPY_MODEL_cc9b743da10144a98e6cc674bb26545a",
       "IPY_MODEL_f7e273e7c726466abee52e5b40fc163c"
      ],
      "layout": "IPY_MODEL_bbb41ebc8654433a930bdb357771fc37"
     }
    },
    "7ba9f19a68f54c5e8fab9e124fab0f59": {
     "model_module": "@jupyter-widgets/base",
     "model_module_version": "1.2.0",
     "model_name": "LayoutModel",
     "state": {
      "_model_module": "@jupyter-widgets/base",
      "_model_module_version": "1.2.0",
      "_model_name": "LayoutModel",
      "_view_count": null,
      "_view_module": "@jupyter-widgets/base",
      "_view_module_version": "1.2.0",
      "_view_name": "LayoutView",
      "align_content": null,
      "align_items": null,
      "align_self": null,
      "border": null,
      "bottom": null,
      "display": null,
      "flex": null,
      "flex_flow": null,
      "grid_area": null,
      "grid_auto_columns": null,
      "grid_auto_flow": null,
      "grid_auto_rows": null,
      "grid_column": null,
      "grid_gap": null,
      "grid_row": null,
      "grid_template_areas": null,
      "grid_template_columns": null,
      "grid_template_rows": null,
      "height": null,
      "justify_content": null,
      "justify_items": null,
      "left": null,
      "margin": null,
      "max_height": null,
      "max_width": null,
      "min_height": null,
      "min_width": null,
      "object_fit": null,
      "object_position": null,
      "order": null,
      "overflow": null,
      "overflow_x": null,
      "overflow_y": null,
      "padding": null,
      "right": null,
      "top": null,
      "visibility": null,
      "width": null
     }
    },
    "84ad08d32794443c8f8c87136533682e": {
     "model_module": "@jupyter-widgets/controls",
     "model_module_version": "1.5.0",
     "model_name": "HTMLModel",
     "state": {
      "_dom_classes": [],
      "_model_module": "@jupyter-widgets/controls",
      "_model_module_version": "1.5.0",
      "_model_name": "HTMLModel",
      "_view_count": null,
      "_view_module": "@jupyter-widgets/controls",
      "_view_module_version": "1.5.0",
      "_view_name": "HTMLView",
      "description": "",
      "description_tooltip": null,
      "layout": "IPY_MODEL_123d4447771c4eb0986ab7a563300998",
      "placeholder": "​",
      "style": "IPY_MODEL_92498f08b185437dada36936e3eb4c29",
      "value": "Downloading: 100%"
     }
    },
    "92498f08b185437dada36936e3eb4c29": {
     "model_module": "@jupyter-widgets/controls",
     "model_module_version": "1.5.0",
     "model_name": "DescriptionStyleModel",
     "state": {
      "_model_module": "@jupyter-widgets/controls",
      "_model_module_version": "1.5.0",
      "_model_name": "DescriptionStyleModel",
      "_view_count": null,
      "_view_module": "@jupyter-widgets/base",
      "_view_module_version": "1.2.0",
      "_view_name": "StyleView",
      "description_width": ""
     }
    },
    "953bc578113a46bea053a7f063cd46f5": {
     "model_module": "@jupyter-widgets/controls",
     "model_module_version": "1.5.0",
     "model_name": "DescriptionStyleModel",
     "state": {
      "_model_module": "@jupyter-widgets/controls",
      "_model_module_version": "1.5.0",
      "_model_name": "DescriptionStyleModel",
      "_view_count": null,
      "_view_module": "@jupyter-widgets/base",
      "_view_module_version": "1.2.0",
      "_view_name": "StyleView",
      "description_width": ""
     }
    },
    "9cda85fe5a1e4868a951d9c533124c3c": {
     "model_module": "@jupyter-widgets/controls",
     "model_module_version": "1.5.0",
     "model_name": "DescriptionStyleModel",
     "state": {
      "_model_module": "@jupyter-widgets/controls",
      "_model_module_version": "1.5.0",
      "_model_name": "DescriptionStyleModel",
      "_view_count": null,
      "_view_module": "@jupyter-widgets/base",
      "_view_module_version": "1.2.0",
      "_view_name": "StyleView",
      "description_width": ""
     }
    },
    "a07ed2b253ea4756bbcbc030207f9bb6": {
     "model_module": "@jupyter-widgets/controls",
     "model_module_version": "1.5.0",
     "model_name": "ProgressStyleModel",
     "state": {
      "_model_module": "@jupyter-widgets/controls",
      "_model_module_version": "1.5.0",
      "_model_name": "ProgressStyleModel",
      "_view_count": null,
      "_view_module": "@jupyter-widgets/base",
      "_view_module_version": "1.2.0",
      "_view_name": "StyleView",
      "bar_color": null,
      "description_width": ""
     }
    },
    "ac11c42153f24a2fba09ffa65e5c8997": {
     "model_module": "@jupyter-widgets/controls",
     "model_module_version": "1.5.0",
     "model_name": "HTMLModel",
     "state": {
      "_dom_classes": [],
      "_model_module": "@jupyter-widgets/controls",
      "_model_module_version": "1.5.0",
      "_model_name": "HTMLModel",
      "_view_count": null,
      "_view_module": "@jupyter-widgets/controls",
      "_view_module_version": "1.5.0",
      "_view_name": "HTMLView",
      "description": "",
      "description_tooltip": null,
      "layout": "IPY_MODEL_b6775be8e8d3441aad9354fcfdf77e0b",
      "placeholder": "​",
      "style": "IPY_MODEL_151c2a83338145e98a70f805b5294494",
      "value": "Downloading: 100%"
     }
    },
    "b156e0c49455402eaef9b025c37feb46": {
     "model_module": "@jupyter-widgets/base",
     "model_module_version": "1.2.0",
     "model_name": "LayoutModel",
     "state": {
      "_model_module": "@jupyter-widgets/base",
      "_model_module_version": "1.2.0",
      "_model_name": "LayoutModel",
      "_view_count": null,
      "_view_module": "@jupyter-widgets/base",
      "_view_module_version": "1.2.0",
      "_view_name": "LayoutView",
      "align_content": null,
      "align_items": null,
      "align_self": null,
      "border": null,
      "bottom": null,
      "display": null,
      "flex": null,
      "flex_flow": null,
      "grid_area": null,
      "grid_auto_columns": null,
      "grid_auto_flow": null,
      "grid_auto_rows": null,
      "grid_column": null,
      "grid_gap": null,
      "grid_row": null,
      "grid_template_areas": null,
      "grid_template_columns": null,
      "grid_template_rows": null,
      "height": null,
      "justify_content": null,
      "justify_items": null,
      "left": null,
      "margin": null,
      "max_height": null,
      "max_width": null,
      "min_height": null,
      "min_width": null,
      "object_fit": null,
      "object_position": null,
      "order": null,
      "overflow": null,
      "overflow_x": null,
      "overflow_y": null,
      "padding": null,
      "right": null,
      "top": null,
      "visibility": null,
      "width": null
     }
    },
    "b6775be8e8d3441aad9354fcfdf77e0b": {
     "model_module": "@jupyter-widgets/base",
     "model_module_version": "1.2.0",
     "model_name": "LayoutModel",
     "state": {
      "_model_module": "@jupyter-widgets/base",
      "_model_module_version": "1.2.0",
      "_model_name": "LayoutModel",
      "_view_count": null,
      "_view_module": "@jupyter-widgets/base",
      "_view_module_version": "1.2.0",
      "_view_name": "LayoutView",
      "align_content": null,
      "align_items": null,
      "align_self": null,
      "border": null,
      "bottom": null,
      "display": null,
      "flex": null,
      "flex_flow": null,
      "grid_area": null,
      "grid_auto_columns": null,
      "grid_auto_flow": null,
      "grid_auto_rows": null,
      "grid_column": null,
      "grid_gap": null,
      "grid_row": null,
      "grid_template_areas": null,
      "grid_template_columns": null,
      "grid_template_rows": null,
      "height": null,
      "justify_content": null,
      "justify_items": null,
      "left": null,
      "margin": null,
      "max_height": null,
      "max_width": null,
      "min_height": null,
      "min_width": null,
      "object_fit": null,
      "object_position": null,
      "order": null,
      "overflow": null,
      "overflow_x": null,
      "overflow_y": null,
      "padding": null,
      "right": null,
      "top": null,
      "visibility": null,
      "width": null
     }
    },
    "bba01def89754cf2a0fed799b7718845": {
     "model_module": "@jupyter-widgets/controls",
     "model_module_version": "1.5.0",
     "model_name": "ProgressStyleModel",
     "state": {
      "_model_module": "@jupyter-widgets/controls",
      "_model_module_version": "1.5.0",
      "_model_name": "ProgressStyleModel",
      "_view_count": null,
      "_view_module": "@jupyter-widgets/base",
      "_view_module_version": "1.2.0",
      "_view_name": "StyleView",
      "bar_color": null,
      "description_width": ""
     }
    },
    "bbb41ebc8654433a930bdb357771fc37": {
     "model_module": "@jupyter-widgets/base",
     "model_module_version": "1.2.0",
     "model_name": "LayoutModel",
     "state": {
      "_model_module": "@jupyter-widgets/base",
      "_model_module_version": "1.2.0",
      "_model_name": "LayoutModel",
      "_view_count": null,
      "_view_module": "@jupyter-widgets/base",
      "_view_module_version": "1.2.0",
      "_view_name": "LayoutView",
      "align_content": null,
      "align_items": null,
      "align_self": null,
      "border": null,
      "bottom": null,
      "display": null,
      "flex": null,
      "flex_flow": null,
      "grid_area": null,
      "grid_auto_columns": null,
      "grid_auto_flow": null,
      "grid_auto_rows": null,
      "grid_column": null,
      "grid_gap": null,
      "grid_row": null,
      "grid_template_areas": null,
      "grid_template_columns": null,
      "grid_template_rows": null,
      "height": null,
      "justify_content": null,
      "justify_items": null,
      "left": null,
      "margin": null,
      "max_height": null,
      "max_width": null,
      "min_height": null,
      "min_width": null,
      "object_fit": null,
      "object_position": null,
      "order": null,
      "overflow": null,
      "overflow_x": null,
      "overflow_y": null,
      "padding": null,
      "right": null,
      "top": null,
      "visibility": null,
      "width": null
     }
    },
    "bc75be3bbdc846cdaaa5b6ae02d5cd80": {
     "model_module": "@jupyter-widgets/controls",
     "model_module_version": "1.5.0",
     "model_name": "ProgressStyleModel",
     "state": {
      "_model_module": "@jupyter-widgets/controls",
      "_model_module_version": "1.5.0",
      "_model_name": "ProgressStyleModel",
      "_view_count": null,
      "_view_module": "@jupyter-widgets/base",
      "_view_module_version": "1.2.0",
      "_view_name": "StyleView",
      "bar_color": null,
      "description_width": ""
     }
    },
    "cb37611b0b9b42d68d4c983fc80c17e0": {
     "model_module": "@jupyter-widgets/base",
     "model_module_version": "1.2.0",
     "model_name": "LayoutModel",
     "state": {
      "_model_module": "@jupyter-widgets/base",
      "_model_module_version": "1.2.0",
      "_model_name": "LayoutModel",
      "_view_count": null,
      "_view_module": "@jupyter-widgets/base",
      "_view_module_version": "1.2.0",
      "_view_name": "LayoutView",
      "align_content": null,
      "align_items": null,
      "align_self": null,
      "border": null,
      "bottom": null,
      "display": null,
      "flex": null,
      "flex_flow": null,
      "grid_area": null,
      "grid_auto_columns": null,
      "grid_auto_flow": null,
      "grid_auto_rows": null,
      "grid_column": null,
      "grid_gap": null,
      "grid_row": null,
      "grid_template_areas": null,
      "grid_template_columns": null,
      "grid_template_rows": null,
      "height": null,
      "justify_content": null,
      "justify_items": null,
      "left": null,
      "margin": null,
      "max_height": null,
      "max_width": null,
      "min_height": null,
      "min_width": null,
      "object_fit": null,
      "object_position": null,
      "order": null,
      "overflow": null,
      "overflow_x": null,
      "overflow_y": null,
      "padding": null,
      "right": null,
      "top": null,
      "visibility": null,
      "width": null
     }
    },
    "cc9b743da10144a98e6cc674bb26545a": {
     "model_module": "@jupyter-widgets/controls",
     "model_module_version": "1.5.0",
     "model_name": "FloatProgressModel",
     "state": {
      "_dom_classes": [],
      "_model_module": "@jupyter-widgets/controls",
      "_model_module_version": "1.5.0",
      "_model_name": "FloatProgressModel",
      "_view_count": null,
      "_view_module": "@jupyter-widgets/controls",
      "_view_module_version": "1.5.0",
      "_view_name": "ProgressView",
      "bar_style": "success",
      "description": "",
      "description_tooltip": null,
      "layout": "IPY_MODEL_d1b53e9c3d8d463486515be77b1ba319",
      "max": 231508,
      "min": 0,
      "orientation": "horizontal",
      "style": "IPY_MODEL_bc75be3bbdc846cdaaa5b6ae02d5cd80",
      "value": 231508
     }
    },
    "cda11930dc394c07950ac2335c3f49cf": {
     "model_module": "@jupyter-widgets/controls",
     "model_module_version": "1.5.0",
     "model_name": "HTMLModel",
     "state": {
      "_dom_classes": [],
      "_model_module": "@jupyter-widgets/controls",
      "_model_module_version": "1.5.0",
      "_model_name": "HTMLModel",
      "_view_count": null,
      "_view_module": "@jupyter-widgets/controls",
      "_view_module_version": "1.5.0",
      "_view_name": "HTMLView",
      "description": "",
      "description_tooltip": null,
      "layout": "IPY_MODEL_e2d808ab08c846ea82a9091426208632",
      "placeholder": "​",
      "style": "IPY_MODEL_d223f7e17fcd406aa4b3ac92c631b022",
      "value": " 455k/455k [00:00&lt;00:00, 581kB/s]"
     }
    },
    "d085d86af33945cabe20cc17f9491de7": {
     "model_module": "@jupyter-widgets/base",
     "model_module_version": "1.2.0",
     "model_name": "LayoutModel",
     "state": {
      "_model_module": "@jupyter-widgets/base",
      "_model_module_version": "1.2.0",
      "_model_name": "LayoutModel",
      "_view_count": null,
      "_view_module": "@jupyter-widgets/base",
      "_view_module_version": "1.2.0",
      "_view_name": "LayoutView",
      "align_content": null,
      "align_items": null,
      "align_self": null,
      "border": null,
      "bottom": null,
      "display": null,
      "flex": null,
      "flex_flow": null,
      "grid_area": null,
      "grid_auto_columns": null,
      "grid_auto_flow": null,
      "grid_auto_rows": null,
      "grid_column": null,
      "grid_gap": null,
      "grid_row": null,
      "grid_template_areas": null,
      "grid_template_columns": null,
      "grid_template_rows": null,
      "height": null,
      "justify_content": null,
      "justify_items": null,
      "left": null,
      "margin": null,
      "max_height": null,
      "max_width": null,
      "min_height": null,
      "min_width": null,
      "object_fit": null,
      "object_position": null,
      "order": null,
      "overflow": null,
      "overflow_x": null,
      "overflow_y": null,
      "padding": null,
      "right": null,
      "top": null,
      "visibility": null,
      "width": null
     }
    },
    "d1b53e9c3d8d463486515be77b1ba319": {
     "model_module": "@jupyter-widgets/base",
     "model_module_version": "1.2.0",
     "model_name": "LayoutModel",
     "state": {
      "_model_module": "@jupyter-widgets/base",
      "_model_module_version": "1.2.0",
      "_model_name": "LayoutModel",
      "_view_count": null,
      "_view_module": "@jupyter-widgets/base",
      "_view_module_version": "1.2.0",
      "_view_name": "LayoutView",
      "align_content": null,
      "align_items": null,
      "align_self": null,
      "border": null,
      "bottom": null,
      "display": null,
      "flex": null,
      "flex_flow": null,
      "grid_area": null,
      "grid_auto_columns": null,
      "grid_auto_flow": null,
      "grid_auto_rows": null,
      "grid_column": null,
      "grid_gap": null,
      "grid_row": null,
      "grid_template_areas": null,
      "grid_template_columns": null,
      "grid_template_rows": null,
      "height": null,
      "justify_content": null,
      "justify_items": null,
      "left": null,
      "margin": null,
      "max_height": null,
      "max_width": null,
      "min_height": null,
      "min_width": null,
      "object_fit": null,
      "object_position": null,
      "order": null,
      "overflow": null,
      "overflow_x": null,
      "overflow_y": null,
      "padding": null,
      "right": null,
      "top": null,
      "visibility": null,
      "width": null
     }
    },
    "d1ca58613e2e4683bca38ba3e189a2d5": {
     "model_module": "@jupyter-widgets/controls",
     "model_module_version": "1.5.0",
     "model_name": "HBoxModel",
     "state": {
      "_dom_classes": [],
      "_model_module": "@jupyter-widgets/controls",
      "_model_module_version": "1.5.0",
      "_model_name": "HBoxModel",
      "_view_count": null,
      "_view_module": "@jupyter-widgets/controls",
      "_view_module_version": "1.5.0",
      "_view_name": "HBoxView",
      "box_style": "",
      "children": [
       "IPY_MODEL_005656d6c3664fbb91d5f1c49c02bac8",
       "IPY_MODEL_37c553f0dc654533b83f5d2a25629a5c",
       "IPY_MODEL_cda11930dc394c07950ac2335c3f49cf"
      ],
      "layout": "IPY_MODEL_4547b32800df4c90857df2ebec7df7ac"
     }
    },
    "d21d815b504245dd947639e2a3fb707b": {
     "model_module": "@jupyter-widgets/controls",
     "model_module_version": "1.5.0",
     "model_name": "DescriptionStyleModel",
     "state": {
      "_model_module": "@jupyter-widgets/controls",
      "_model_module_version": "1.5.0",
      "_model_name": "DescriptionStyleModel",
      "_view_count": null,
      "_view_module": "@jupyter-widgets/base",
      "_view_module_version": "1.2.0",
      "_view_name": "StyleView",
      "description_width": ""
     }
    },
    "d223f7e17fcd406aa4b3ac92c631b022": {
     "model_module": "@jupyter-widgets/controls",
     "model_module_version": "1.5.0",
     "model_name": "DescriptionStyleModel",
     "state": {
      "_model_module": "@jupyter-widgets/controls",
      "_model_module_version": "1.5.0",
      "_model_name": "DescriptionStyleModel",
      "_view_count": null,
      "_view_module": "@jupyter-widgets/base",
      "_view_module_version": "1.2.0",
      "_view_name": "StyleView",
      "description_width": ""
     }
    },
    "dcd3624aa4d840bfad3525e196402267": {
     "model_module": "@jupyter-widgets/base",
     "model_module_version": "1.2.0",
     "model_name": "LayoutModel",
     "state": {
      "_model_module": "@jupyter-widgets/base",
      "_model_module_version": "1.2.0",
      "_model_name": "LayoutModel",
      "_view_count": null,
      "_view_module": "@jupyter-widgets/base",
      "_view_module_version": "1.2.0",
      "_view_name": "LayoutView",
      "align_content": null,
      "align_items": null,
      "align_self": null,
      "border": null,
      "bottom": null,
      "display": null,
      "flex": null,
      "flex_flow": null,
      "grid_area": null,
      "grid_auto_columns": null,
      "grid_auto_flow": null,
      "grid_auto_rows": null,
      "grid_column": null,
      "grid_gap": null,
      "grid_row": null,
      "grid_template_areas": null,
      "grid_template_columns": null,
      "grid_template_rows": null,
      "height": null,
      "justify_content": null,
      "justify_items": null,
      "left": null,
      "margin": null,
      "max_height": null,
      "max_width": null,
      "min_height": null,
      "min_width": null,
      "object_fit": null,
      "object_position": null,
      "order": null,
      "overflow": null,
      "overflow_x": null,
      "overflow_y": null,
      "padding": null,
      "right": null,
      "top": null,
      "visibility": null,
      "width": null
     }
    },
    "e1e872f41cc94ac8b72513d0dc696b0e": {
     "model_module": "@jupyter-widgets/base",
     "model_module_version": "1.2.0",
     "model_name": "LayoutModel",
     "state": {
      "_model_module": "@jupyter-widgets/base",
      "_model_module_version": "1.2.0",
      "_model_name": "LayoutModel",
      "_view_count": null,
      "_view_module": "@jupyter-widgets/base",
      "_view_module_version": "1.2.0",
      "_view_name": "LayoutView",
      "align_content": null,
      "align_items": null,
      "align_self": null,
      "border": null,
      "bottom": null,
      "display": null,
      "flex": null,
      "flex_flow": null,
      "grid_area": null,
      "grid_auto_columns": null,
      "grid_auto_flow": null,
      "grid_auto_rows": null,
      "grid_column": null,
      "grid_gap": null,
      "grid_row": null,
      "grid_template_areas": null,
      "grid_template_columns": null,
      "grid_template_rows": null,
      "height": null,
      "justify_content": null,
      "justify_items": null,
      "left": null,
      "margin": null,
      "max_height": null,
      "max_width": null,
      "min_height": null,
      "min_width": null,
      "object_fit": null,
      "object_position": null,
      "order": null,
      "overflow": null,
      "overflow_x": null,
      "overflow_y": null,
      "padding": null,
      "right": null,
      "top": null,
      "visibility": null,
      "width": null
     }
    },
    "e2d808ab08c846ea82a9091426208632": {
     "model_module": "@jupyter-widgets/base",
     "model_module_version": "1.2.0",
     "model_name": "LayoutModel",
     "state": {
      "_model_module": "@jupyter-widgets/base",
      "_model_module_version": "1.2.0",
      "_model_name": "LayoutModel",
      "_view_count": null,
      "_view_module": "@jupyter-widgets/base",
      "_view_module_version": "1.2.0",
      "_view_name": "LayoutView",
      "align_content": null,
      "align_items": null,
      "align_self": null,
      "border": null,
      "bottom": null,
      "display": null,
      "flex": null,
      "flex_flow": null,
      "grid_area": null,
      "grid_auto_columns": null,
      "grid_auto_flow": null,
      "grid_auto_rows": null,
      "grid_column": null,
      "grid_gap": null,
      "grid_row": null,
      "grid_template_areas": null,
      "grid_template_columns": null,
      "grid_template_rows": null,
      "height": null,
      "justify_content": null,
      "justify_items": null,
      "left": null,
      "margin": null,
      "max_height": null,
      "max_width": null,
      "min_height": null,
      "min_width": null,
      "object_fit": null,
      "object_position": null,
      "order": null,
      "overflow": null,
      "overflow_x": null,
      "overflow_y": null,
      "padding": null,
      "right": null,
      "top": null,
      "visibility": null,
      "width": null
     }
    },
    "e374035284c5473e8f69c67870741f04": {
     "model_module": "@jupyter-widgets/controls",
     "model_module_version": "1.5.0",
     "model_name": "HTMLModel",
     "state": {
      "_dom_classes": [],
      "_model_module": "@jupyter-widgets/controls",
      "_model_module_version": "1.5.0",
      "_model_name": "HTMLModel",
      "_view_count": null,
      "_view_module": "@jupyter-widgets/controls",
      "_view_module_version": "1.5.0",
      "_view_name": "HTMLView",
      "description": "",
      "description_tooltip": null,
      "layout": "IPY_MODEL_07ceb1591a224c549645a64672e085a8",
      "placeholder": "​",
      "style": "IPY_MODEL_f8b486a658e743c8a5c2192d420685fd",
      "value": " 28.0/28.0 [00:00&lt;00:00, 248B/s]"
     }
    },
    "e9681012eea64515849c62964b4fbb4f": {
     "model_module": "@jupyter-widgets/base",
     "model_module_version": "1.2.0",
     "model_name": "LayoutModel",
     "state": {
      "_model_module": "@jupyter-widgets/base",
      "_model_module_version": "1.2.0",
      "_model_name": "LayoutModel",
      "_view_count": null,
      "_view_module": "@jupyter-widgets/base",
      "_view_module_version": "1.2.0",
      "_view_name": "LayoutView",
      "align_content": null,
      "align_items": null,
      "align_self": null,
      "border": null,
      "bottom": null,
      "display": null,
      "flex": null,
      "flex_flow": null,
      "grid_area": null,
      "grid_auto_columns": null,
      "grid_auto_flow": null,
      "grid_auto_rows": null,
      "grid_column": null,
      "grid_gap": null,
      "grid_row": null,
      "grid_template_areas": null,
      "grid_template_columns": null,
      "grid_template_rows": null,
      "height": null,
      "justify_content": null,
      "justify_items": null,
      "left": null,
      "margin": null,
      "max_height": null,
      "max_width": null,
      "min_height": null,
      "min_width": null,
      "object_fit": null,
      "object_position": null,
      "order": null,
      "overflow": null,
      "overflow_x": null,
      "overflow_y": null,
      "padding": null,
      "right": null,
      "top": null,
      "visibility": null,
      "width": null
     }
    },
    "ed30347b278c43f59b4b8b952a5cbff3": {
     "model_module": "@jupyter-widgets/controls",
     "model_module_version": "1.5.0",
     "model_name": "DescriptionStyleModel",
     "state": {
      "_model_module": "@jupyter-widgets/controls",
      "_model_module_version": "1.5.0",
      "_model_name": "DescriptionStyleModel",
      "_view_count": null,
      "_view_module": "@jupyter-widgets/base",
      "_view_module_version": "1.2.0",
      "_view_name": "StyleView",
      "description_width": ""
     }
    },
    "f419ac4455544992ad2944190e824343": {
     "model_module": "@jupyter-widgets/base",
     "model_module_version": "1.2.0",
     "model_name": "LayoutModel",
     "state": {
      "_model_module": "@jupyter-widgets/base",
      "_model_module_version": "1.2.0",
      "_model_name": "LayoutModel",
      "_view_count": null,
      "_view_module": "@jupyter-widgets/base",
      "_view_module_version": "1.2.0",
      "_view_name": "LayoutView",
      "align_content": null,
      "align_items": null,
      "align_self": null,
      "border": null,
      "bottom": null,
      "display": null,
      "flex": null,
      "flex_flow": null,
      "grid_area": null,
      "grid_auto_columns": null,
      "grid_auto_flow": null,
      "grid_auto_rows": null,
      "grid_column": null,
      "grid_gap": null,
      "grid_row": null,
      "grid_template_areas": null,
      "grid_template_columns": null,
      "grid_template_rows": null,
      "height": null,
      "justify_content": null,
      "justify_items": null,
      "left": null,
      "margin": null,
      "max_height": null,
      "max_width": null,
      "min_height": null,
      "min_width": null,
      "object_fit": null,
      "object_position": null,
      "order": null,
      "overflow": null,
      "overflow_x": null,
      "overflow_y": null,
      "padding": null,
      "right": null,
      "top": null,
      "visibility": null,
      "width": null
     }
    },
    "f7e273e7c726466abee52e5b40fc163c": {
     "model_module": "@jupyter-widgets/controls",
     "model_module_version": "1.5.0",
     "model_name": "HTMLModel",
     "state": {
      "_dom_classes": [],
      "_model_module": "@jupyter-widgets/controls",
      "_model_module_version": "1.5.0",
      "_model_name": "HTMLModel",
      "_view_count": null,
      "_view_module": "@jupyter-widgets/controls",
      "_view_module_version": "1.5.0",
      "_view_name": "HTMLView",
      "description": "",
      "description_tooltip": null,
      "layout": "IPY_MODEL_1099ad2f7e554e4c9b2de34823114e89",
      "placeholder": "​",
      "style": "IPY_MODEL_9cda85fe5a1e4868a951d9c533124c3c",
      "value": " 226k/226k [00:00&lt;00:00, 473kB/s]"
     }
    },
    "f8b486a658e743c8a5c2192d420685fd": {
     "model_module": "@jupyter-widgets/controls",
     "model_module_version": "1.5.0",
     "model_name": "DescriptionStyleModel",
     "state": {
      "_model_module": "@jupyter-widgets/controls",
      "_model_module_version": "1.5.0",
      "_model_name": "DescriptionStyleModel",
      "_view_count": null,
      "_view_module": "@jupyter-widgets/base",
      "_view_module_version": "1.2.0",
      "_view_name": "StyleView",
      "description_width": ""
     }
    },
    "f914ccb3a0a34e55bdd52559174d1f63": {
     "model_module": "@jupyter-widgets/controls",
     "model_module_version": "1.5.0",
     "model_name": "HTMLModel",
     "state": {
      "_dom_classes": [],
      "_model_module": "@jupyter-widgets/controls",
      "_model_module_version": "1.5.0",
      "_model_name": "HTMLModel",
      "_view_count": null,
      "_view_module": "@jupyter-widgets/controls",
      "_view_module_version": "1.5.0",
      "_view_name": "HTMLView",
      "description": "",
      "description_tooltip": null,
      "layout": "IPY_MODEL_152d7f19a59343408a5f9cc3ca3e01a6",
      "placeholder": "​",
      "style": "IPY_MODEL_ed30347b278c43f59b4b8b952a5cbff3",
      "value": " 570/570 [00:00&lt;00:00, 12.3kB/s]"
     }
    },
    "f9fd218187294406a30d6500b434c432": {
     "model_module": "@jupyter-widgets/base",
     "model_module_version": "1.2.0",
     "model_name": "LayoutModel",
     "state": {
      "_model_module": "@jupyter-widgets/base",
      "_model_module_version": "1.2.0",
      "_model_name": "LayoutModel",
      "_view_count": null,
      "_view_module": "@jupyter-widgets/base",
      "_view_module_version": "1.2.0",
      "_view_name": "LayoutView",
      "align_content": null,
      "align_items": null,
      "align_self": null,
      "border": null,
      "bottom": null,
      "display": null,
      "flex": null,
      "flex_flow": null,
      "grid_area": null,
      "grid_auto_columns": null,
      "grid_auto_flow": null,
      "grid_auto_rows": null,
      "grid_column": null,
      "grid_gap": null,
      "grid_row": null,
      "grid_template_areas": null,
      "grid_template_columns": null,
      "grid_template_rows": null,
      "height": null,
      "justify_content": null,
      "justify_items": null,
      "left": null,
      "margin": null,
      "max_height": null,
      "max_width": null,
      "min_height": null,
      "min_width": null,
      "object_fit": null,
      "object_position": null,
      "order": null,
      "overflow": null,
      "overflow_x": null,
      "overflow_y": null,
      "padding": null,
      "right": null,
      "top": null,
      "visibility": null,
      "width": null
     }
    }
   }
  }
 },
 "nbformat": 4,
 "nbformat_minor": 1
}
