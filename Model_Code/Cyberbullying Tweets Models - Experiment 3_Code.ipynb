{
 "cells": [
  {
   "cell_type": "code",
   "execution_count": 1,
   "metadata": {
    "colab": {
     "base_uri": "https://localhost:8080/"
    },
    "executionInfo": {
     "elapsed": 13600,
     "status": "ok",
     "timestamp": 1653175658454,
     "user": {
      "displayName": "Dimitry Kirtsman",
      "userId": "11988189828040272864"
     },
     "user_tz": 420
    },
    "id": "hRVedTQ-D6EJ",
    "outputId": "8bbb731a-e4e8-43a9-8bfc-14d1d6b8478b"
   },
   "outputs": [
    {
     "name": "stdout",
     "output_type": "stream",
     "text": [
      "[nltk_data] Downloading package stopwords to /root/nltk_data...\n",
      "[nltk_data]   Unzipping corpora/stopwords.zip.\n",
      "\u001b[K     |████████████████████████████████| 133 kB 4.0 MB/s \n",
      "\u001b[?25h"
     ]
    }
   ],
   "source": [
    "import datetime\n",
    "import time\n",
    "import numpy as np\n",
    "import pandas as pd\n",
    "from packaging import version\n",
    "from collections import Counter\n",
    "import re\n",
    "import nltk\n",
    "nltk.download('stopwords')\n",
    "from nltk.corpus import stopwords\n",
    "from keras.preprocessing.text import Tokenizer\n",
    "import string\n",
    "from sklearn.metrics import confusion_matrix, classification_report\n",
    "from sklearn.metrics import accuracy_score\n",
    "from sklearn.metrics import mean_squared_error as MSE\n",
    "from sklearn.model_selection import train_test_split\n",
    "from sklearn.manifold import TSNE\n",
    "import matplotlib.pyplot as plt\n",
    "import matplotlib as mpl\n",
    "import seaborn as sns\n",
    "!pip install -q -U keras-tuner\n",
    "import keras_tuner as kt\n",
    "import tensorflow_datasets as tfds\n",
    "import tensorflow as tf\n",
    "from tensorflow import keras\n",
    "from tensorflow.keras import models, layers\n",
    "from tensorflow.keras.models import Sequential\n",
    "from tensorflow.keras.layers import Conv2D, MaxPool2D, BatchNormalization, Dropout, Flatten, Input, Dense, Embedding, GlobalMaxPool1D\n",
    "from tensorflow.keras.layers import LSTM, GRU, Bidirectional, SimpleRNN, TextVectorization\n",
    "from tensorflow.keras.callbacks import ModelCheckpoint, EarlyStopping\n",
    "from tensorflow.keras.preprocessing import image\n",
    "from tensorflow.keras.preprocessing.sequence import pad_sequences\n",
    "from tensorflow.keras.utils import to_categorical\n",
    "\n",
    "tf.keras.utils.set_random_seed(7)\n",
    "%matplotlib inline\n",
    "np.set_printoptions(precision=3, suppress=True)\n",
    "pd.set_option('max_colwidth', 600)\n",
    "#tpu = tf.distribute.cluster_resolver.TPUClusterResolver.connect()\n",
    "#print(\"Device:\", tpu.master())"
   ]
  },
  {
   "cell_type": "code",
   "execution_count": 2,
   "metadata": {
    "colab": {
     "base_uri": "https://localhost:8080/"
    },
    "executionInfo": {
     "elapsed": 5699,
     "status": "ok",
     "timestamp": 1653175664148,
     "user": {
      "displayName": "Dimitry Kirtsman",
      "userId": "11988189828040272864"
     },
     "user_tz": 420
    },
    "id": "t_H3HgH9hZak",
    "outputId": "f947b234-e7f4-483c-bb8b-409da4463ec1"
   },
   "outputs": [
    {
     "name": "stdout",
     "output_type": "stream",
     "text": [
      "Collecting clean-text[gpl]\n",
      "  Downloading clean_text-0.6.0-py3-none-any.whl (11 kB)\n",
      "Collecting ftfy<7.0,>=6.0\n",
      "  Downloading ftfy-6.1.1-py3-none-any.whl (53 kB)\n",
      "\u001b[K     |████████████████████████████████| 53 kB 1.3 MB/s \n",
      "\u001b[?25hCollecting emoji<2.0.0,>=1.0.0\n",
      "  Downloading emoji-1.7.0.tar.gz (175 kB)\n",
      "\u001b[K     |████████████████████████████████| 175 kB 8.3 MB/s \n",
      "\u001b[?25hCollecting unidecode<2.0.0,>=1.1.1\n",
      "  Downloading Unidecode-1.3.4-py3-none-any.whl (235 kB)\n",
      "\u001b[K     |████████████████████████████████| 235 kB 51.6 MB/s \n",
      "\u001b[?25hRequirement already satisfied: wcwidth>=0.2.5 in /usr/local/lib/python3.7/dist-packages (from ftfy<7.0,>=6.0->clean-text[gpl]) (0.2.5)\n",
      "Building wheels for collected packages: emoji\n",
      "  Building wheel for emoji (setup.py) ... \u001b[?25l\u001b[?25hdone\n",
      "  Created wheel for emoji: filename=emoji-1.7.0-py3-none-any.whl size=171046 sha256=ce5217708294c2ce5643cb32b30cd42d647e2a510fe01955c897f8aef8902f16\n",
      "  Stored in directory: /root/.cache/pip/wheels/8a/4e/b6/57b01db010d17ef6ea9b40300af725ef3e210cb1acfb7ac8b6\n",
      "Successfully built emoji\n",
      "Installing collected packages: ftfy, emoji, unidecode, clean-text\n",
      "Successfully installed clean-text-0.6.0 emoji-1.7.0 ftfy-6.1.1 unidecode-1.3.4\n"
     ]
    }
   ],
   "source": [
    "pip install clean-text[gpl]\n"
   ]
  },
  {
   "cell_type": "code",
   "execution_count": 3,
   "metadata": {
    "executionInfo": {
     "elapsed": 800,
     "status": "ok",
     "timestamp": 1653175664946,
     "user": {
      "displayName": "Dimitry Kirtsman",
      "userId": "11988189828040272864"
     },
     "user_tz": 420
    },
    "id": "L2dWcFXpiAp0"
   },
   "outputs": [],
   "source": [
    "from cleantext import clean"
   ]
  },
  {
   "cell_type": "code",
   "execution_count": 4,
   "metadata": {
    "colab": {
     "base_uri": "https://localhost:8080/"
    },
    "executionInfo": {
     "elapsed": 5,
     "status": "ok",
     "timestamp": 1653175664946,
     "user": {
      "displayName": "Dimitry Kirtsman",
      "userId": "11988189828040272864"
     },
     "user_tz": 420
    },
    "id": "6FoDS9G2EI8y",
    "outputId": "f96d1557-e5ec-4cfb-f4e1-b1bd0877176a"
   },
   "outputs": [
    {
     "name": "stdout",
     "output_type": "stream",
     "text": [
      "This notebook requires TensorFlow 2.0 or above\n",
      "TensorFlow version:  2.8.0\n"
     ]
    }
   ],
   "source": [
    "print(\"This notebook requires TensorFlow 2.0 or above\")\n",
    "print(\"TensorFlow version: \", tf.__version__)\n",
    "assert version.parse(tf.__version__).release[0] >=2"
   ]
  },
  {
   "cell_type": "code",
   "execution_count": 5,
   "metadata": {
    "colab": {
     "base_uri": "https://localhost:8080/"
    },
    "executionInfo": {
     "elapsed": 3,
     "status": "ok",
     "timestamp": 1653175664946,
     "user": {
      "displayName": "Dimitry Kirtsman",
      "userId": "11988189828040272864"
     },
     "user_tz": 420
    },
    "id": "jvSH_ClREI_Q",
    "outputId": "0e5e4b6e-ea75-4c5b-9373-a228a6c9dec1"
   },
   "outputs": [
    {
     "name": "stdout",
     "output_type": "stream",
     "text": [
      "Keras version:  2.8.0\n"
     ]
    }
   ],
   "source": [
    "print(\"Keras version: \", keras.__version__)"
   ]
  },
  {
   "cell_type": "code",
   "execution_count": 5,
   "metadata": {
    "executionInfo": {
     "elapsed": 3,
     "status": "ok",
     "timestamp": 1653175664947,
     "user": {
      "displayName": "Dimitry Kirtsman",
      "userId": "11988189828040272864"
     },
     "user_tz": 420
    },
    "id": "uUZYoxCRZ3ZW"
   },
   "outputs": [],
   "source": []
  },
  {
   "cell_type": "code",
   "execution_count": 6,
   "metadata": {
    "colab": {
     "base_uri": "https://localhost:8080/"
    },
    "executionInfo": {
     "elapsed": 26575,
     "status": "ok",
     "timestamp": 1653175691519,
     "user": {
      "displayName": "Dimitry Kirtsman",
      "userId": "11988189828040272864"
     },
     "user_tz": 420
    },
    "id": "mNQpZd4nEJBh",
    "outputId": "a77d4d22-b3ef-478b-9aa4-be3ca9fdfaeb"
   },
   "outputs": [
    {
     "name": "stdout",
     "output_type": "stream",
     "text": [
      "Mounted at /content/gdrive\n"
     ]
    }
   ],
   "source": [
    "#mounting Google Drive\n",
    "from google.colab import drive\n",
    "drive.mount('/content/gdrive')"
   ]
  },
  {
   "cell_type": "code",
   "execution_count": 7,
   "metadata": {
    "executionInfo": {
     "elapsed": 2317,
     "status": "ok",
     "timestamp": 1653175693832,
     "user": {
      "displayName": "Dimitry Kirtsman",
      "userId": "11988189828040272864"
     },
     "user_tz": 420
    },
    "id": "PPExqJzYEJEA"
   },
   "outputs": [],
   "source": [
    "path_to_csv = '/content/gdrive/My Drive/Colab Notebooks/MSDS_458_Assignment_4/cyberbullying_tweets.csv'\n",
    "df=pd.read_csv(path_to_csv)"
   ]
  },
  {
   "cell_type": "code",
   "execution_count": 7,
   "metadata": {
    "executionInfo": {
     "elapsed": 8,
     "status": "ok",
     "timestamp": 1653175693834,
     "user": {
      "displayName": "Dimitry Kirtsman",
      "userId": "11988189828040272864"
     },
     "user_tz": 420
    },
    "id": "Kbx79k09ktgV"
   },
   "outputs": [],
   "source": []
  },
  {
   "cell_type": "markdown",
   "metadata": {
    "id": "-BoPQ2JkkwOV"
   },
   "source": [
    "# Cleaning and Organizing Data"
   ]
  },
  {
   "cell_type": "code",
   "execution_count": null,
   "metadata": {},
   "outputs": [],
   "source": []
  },
  {
   "cell_type": "code",
   "execution_count": 8,
   "metadata": {
    "colab": {
     "base_uri": "https://localhost:8080/",
     "height": 112
    },
    "executionInfo": {
     "elapsed": 8,
     "status": "ok",
     "timestamp": 1653175693835,
     "user": {
      "displayName": "Dimitry Kirtsman",
      "userId": "11988189828040272864"
     },
     "user_tz": 420
    },
    "id": "0hUSl0cUkvIV",
    "outputId": "9de8828d-d768-457c-aa09-578b998bce3d"
   },
   "outputs": [
    {
     "data": {
      "text/html": [
       "\n",
       "  <div id=\"df-cc4ab13d-02b6-4434-ae4a-13cbad2706b7\">\n",
       "    <div class=\"colab-df-container\">\n",
       "      <div>\n",
       "<style scoped>\n",
       "    .dataframe tbody tr th:only-of-type {\n",
       "        vertical-align: middle;\n",
       "    }\n",
       "\n",
       "    .dataframe tbody tr th {\n",
       "        vertical-align: top;\n",
       "    }\n",
       "\n",
       "    .dataframe thead th {\n",
       "        text-align: right;\n",
       "    }\n",
       "</style>\n",
       "<table border=\"1\" class=\"dataframe\">\n",
       "  <thead>\n",
       "    <tr style=\"text-align: right;\">\n",
       "      <th></th>\n",
       "      <th>tweet_text</th>\n",
       "      <th>cyberbullying_type</th>\n",
       "    </tr>\n",
       "  </thead>\n",
       "  <tbody>\n",
       "    <tr>\n",
       "      <th>706</th>\n",
       "      <td>Uh. Why do they not make these for grownups? http://t.co/rHDOkljnDI</td>\n",
       "      <td>not_cyberbullying</td>\n",
       "    </tr>\n",
       "    <tr>\n",
       "      <th>1040</th>\n",
       "      <td>OMG 😱 I have a feeling I’m  going to be overwhelmed 😱 by my emoticons in tomorrow’s #mkr 😱😰😅😜😀😩😨😱😱</td>\n",
       "      <td>not_cyberbullying</td>\n",
       "    </tr>\n",
       "  </tbody>\n",
       "</table>\n",
       "</div>\n",
       "      <button class=\"colab-df-convert\" onclick=\"convertToInteractive('df-cc4ab13d-02b6-4434-ae4a-13cbad2706b7')\"\n",
       "              title=\"Convert this dataframe to an interactive table.\"\n",
       "              style=\"display:none;\">\n",
       "        \n",
       "  <svg xmlns=\"http://www.w3.org/2000/svg\" height=\"24px\"viewBox=\"0 0 24 24\"\n",
       "       width=\"24px\">\n",
       "    <path d=\"M0 0h24v24H0V0z\" fill=\"none\"/>\n",
       "    <path d=\"M18.56 5.44l.94 2.06.94-2.06 2.06-.94-2.06-.94-.94-2.06-.94 2.06-2.06.94zm-11 1L8.5 8.5l.94-2.06 2.06-.94-2.06-.94L8.5 2.5l-.94 2.06-2.06.94zm10 10l.94 2.06.94-2.06 2.06-.94-2.06-.94-.94-2.06-.94 2.06-2.06.94z\"/><path d=\"M17.41 7.96l-1.37-1.37c-.4-.4-.92-.59-1.43-.59-.52 0-1.04.2-1.43.59L10.3 9.45l-7.72 7.72c-.78.78-.78 2.05 0 2.83L4 21.41c.39.39.9.59 1.41.59.51 0 1.02-.2 1.41-.59l7.78-7.78 2.81-2.81c.8-.78.8-2.07 0-2.86zM5.41 20L4 18.59l7.72-7.72 1.47 1.35L5.41 20z\"/>\n",
       "  </svg>\n",
       "      </button>\n",
       "      \n",
       "  <style>\n",
       "    .colab-df-container {\n",
       "      display:flex;\n",
       "      flex-wrap:wrap;\n",
       "      gap: 12px;\n",
       "    }\n",
       "\n",
       "    .colab-df-convert {\n",
       "      background-color: #E8F0FE;\n",
       "      border: none;\n",
       "      border-radius: 50%;\n",
       "      cursor: pointer;\n",
       "      display: none;\n",
       "      fill: #1967D2;\n",
       "      height: 32px;\n",
       "      padding: 0 0 0 0;\n",
       "      width: 32px;\n",
       "    }\n",
       "\n",
       "    .colab-df-convert:hover {\n",
       "      background-color: #E2EBFA;\n",
       "      box-shadow: 0px 1px 2px rgba(60, 64, 67, 0.3), 0px 1px 3px 1px rgba(60, 64, 67, 0.15);\n",
       "      fill: #174EA6;\n",
       "    }\n",
       "\n",
       "    [theme=dark] .colab-df-convert {\n",
       "      background-color: #3B4455;\n",
       "      fill: #D2E3FC;\n",
       "    }\n",
       "\n",
       "    [theme=dark] .colab-df-convert:hover {\n",
       "      background-color: #434B5C;\n",
       "      box-shadow: 0px 1px 3px 1px rgba(0, 0, 0, 0.15);\n",
       "      filter: drop-shadow(0px 1px 2px rgba(0, 0, 0, 0.3));\n",
       "      fill: #FFFFFF;\n",
       "    }\n",
       "  </style>\n",
       "\n",
       "      <script>\n",
       "        const buttonEl =\n",
       "          document.querySelector('#df-cc4ab13d-02b6-4434-ae4a-13cbad2706b7 button.colab-df-convert');\n",
       "        buttonEl.style.display =\n",
       "          google.colab.kernel.accessAllowed ? 'block' : 'none';\n",
       "\n",
       "        async function convertToInteractive(key) {\n",
       "          const element = document.querySelector('#df-cc4ab13d-02b6-4434-ae4a-13cbad2706b7');\n",
       "          const dataTable =\n",
       "            await google.colab.kernel.invokeFunction('convertToInteractive',\n",
       "                                                     [key], {});\n",
       "          if (!dataTable) return;\n",
       "\n",
       "          const docLinkHtml = 'Like what you see? Visit the ' +\n",
       "            '<a target=\"_blank\" href=https://colab.research.google.com/notebooks/data_table.ipynb>data table notebook</a>'\n",
       "            + ' to learn more about interactive tables.';\n",
       "          element.innerHTML = '';\n",
       "          dataTable['output_type'] = 'display_data';\n",
       "          await google.colab.output.renderOutput(dataTable, element);\n",
       "          const docLink = document.createElement('div');\n",
       "          docLink.innerHTML = docLinkHtml;\n",
       "          element.appendChild(docLink);\n",
       "        }\n",
       "      </script>\n",
       "    </div>\n",
       "  </div>\n",
       "  "
      ],
      "text/plain": [
       "                                                                                              tweet_text  \\\n",
       "706                                  Uh. Why do they not make these for grownups? http://t.co/rHDOkljnDI   \n",
       "1040  OMG 😱 I have a feeling I’m  going to be overwhelmed 😱 by my emoticons in tomorrow’s #mkr 😱😰😅😜😀😩😨😱😱   \n",
       "\n",
       "     cyberbullying_type  \n",
       "706   not_cyberbullying  \n",
       "1040  not_cyberbullying  "
      ]
     },
     "execution_count": 8,
     "metadata": {},
     "output_type": "execute_result"
    }
   ],
   "source": [
    "#looking at original data observation with emojis and urls\n",
    "\n",
    "df.iloc[[706,1040]]"
   ]
  },
  {
   "cell_type": "code",
   "execution_count": 9,
   "metadata": {
    "executionInfo": {
     "elapsed": 6,
     "status": "ok",
     "timestamp": 1653175693835,
     "user": {
      "displayName": "Dimitry Kirtsman",
      "userId": "11988189828040272864"
     },
     "user_tz": 420
    },
    "id": "weoVgTe8EJLJ"
   },
   "outputs": [],
   "source": [
    "#function for cleaning data by removing emojies and urls with clean-text library. https://pypi.org/project/clean-text/\n",
    "\n",
    "def cleaning_tweet_text(text):\n",
    "    text= clean(text, no_emoji=True, no_urls=True, replace_with_url=\"\") #removing emojies and urls \n",
    "    return text\n",
    "\n"
   ]
  },
  {
   "cell_type": "code",
   "execution_count": 10,
   "metadata": {
    "executionInfo": {
     "elapsed": 7833,
     "status": "ok",
     "timestamp": 1653175701663,
     "user": {
      "displayName": "Dimitry Kirtsman",
      "userId": "11988189828040272864"
     },
     "user_tz": 420
    },
    "id": "fEELBwrGUlO1"
   },
   "outputs": [],
   "source": [
    "#applying cleaning function to tweets\n",
    "df[\"tweet_text\"]=df[\"tweet_text\"].apply(cleaning_tweet_text)"
   ]
  },
  {
   "cell_type": "code",
   "execution_count": 11,
   "metadata": {
    "colab": {
     "base_uri": "https://localhost:8080/",
     "height": 112
    },
    "executionInfo": {
     "elapsed": 9,
     "status": "ok",
     "timestamp": 1653175701663,
     "user": {
      "displayName": "Dimitry Kirtsman",
      "userId": "11988189828040272864"
     },
     "user_tz": 420
    },
    "id": "lJjMHDi9oiIE",
    "outputId": "010e6b45-a1fb-485a-b8de-6cd43565ee64"
   },
   "outputs": [
    {
     "data": {
      "text/html": [
       "\n",
       "  <div id=\"df-886bdd0d-e581-4bde-a921-a732b9720baa\">\n",
       "    <div class=\"colab-df-container\">\n",
       "      <div>\n",
       "<style scoped>\n",
       "    .dataframe tbody tr th:only-of-type {\n",
       "        vertical-align: middle;\n",
       "    }\n",
       "\n",
       "    .dataframe tbody tr th {\n",
       "        vertical-align: top;\n",
       "    }\n",
       "\n",
       "    .dataframe thead th {\n",
       "        text-align: right;\n",
       "    }\n",
       "</style>\n",
       "<table border=\"1\" class=\"dataframe\">\n",
       "  <thead>\n",
       "    <tr style=\"text-align: right;\">\n",
       "      <th></th>\n",
       "      <th>tweet_text</th>\n",
       "      <th>cyberbullying_type</th>\n",
       "    </tr>\n",
       "  </thead>\n",
       "  <tbody>\n",
       "    <tr>\n",
       "      <th>706</th>\n",
       "      <td>uh. why do they not make these for grownups?</td>\n",
       "      <td>not_cyberbullying</td>\n",
       "    </tr>\n",
       "    <tr>\n",
       "      <th>1040</th>\n",
       "      <td>omg i have a feeling i'm going to be overwhelmed by my emoticons in tomorrow's #mkr</td>\n",
       "      <td>not_cyberbullying</td>\n",
       "    </tr>\n",
       "  </tbody>\n",
       "</table>\n",
       "</div>\n",
       "      <button class=\"colab-df-convert\" onclick=\"convertToInteractive('df-886bdd0d-e581-4bde-a921-a732b9720baa')\"\n",
       "              title=\"Convert this dataframe to an interactive table.\"\n",
       "              style=\"display:none;\">\n",
       "        \n",
       "  <svg xmlns=\"http://www.w3.org/2000/svg\" height=\"24px\"viewBox=\"0 0 24 24\"\n",
       "       width=\"24px\">\n",
       "    <path d=\"M0 0h24v24H0V0z\" fill=\"none\"/>\n",
       "    <path d=\"M18.56 5.44l.94 2.06.94-2.06 2.06-.94-2.06-.94-.94-2.06-.94 2.06-2.06.94zm-11 1L8.5 8.5l.94-2.06 2.06-.94-2.06-.94L8.5 2.5l-.94 2.06-2.06.94zm10 10l.94 2.06.94-2.06 2.06-.94-2.06-.94-.94-2.06-.94 2.06-2.06.94z\"/><path d=\"M17.41 7.96l-1.37-1.37c-.4-.4-.92-.59-1.43-.59-.52 0-1.04.2-1.43.59L10.3 9.45l-7.72 7.72c-.78.78-.78 2.05 0 2.83L4 21.41c.39.39.9.59 1.41.59.51 0 1.02-.2 1.41-.59l7.78-7.78 2.81-2.81c.8-.78.8-2.07 0-2.86zM5.41 20L4 18.59l7.72-7.72 1.47 1.35L5.41 20z\"/>\n",
       "  </svg>\n",
       "      </button>\n",
       "      \n",
       "  <style>\n",
       "    .colab-df-container {\n",
       "      display:flex;\n",
       "      flex-wrap:wrap;\n",
       "      gap: 12px;\n",
       "    }\n",
       "\n",
       "    .colab-df-convert {\n",
       "      background-color: #E8F0FE;\n",
       "      border: none;\n",
       "      border-radius: 50%;\n",
       "      cursor: pointer;\n",
       "      display: none;\n",
       "      fill: #1967D2;\n",
       "      height: 32px;\n",
       "      padding: 0 0 0 0;\n",
       "      width: 32px;\n",
       "    }\n",
       "\n",
       "    .colab-df-convert:hover {\n",
       "      background-color: #E2EBFA;\n",
       "      box-shadow: 0px 1px 2px rgba(60, 64, 67, 0.3), 0px 1px 3px 1px rgba(60, 64, 67, 0.15);\n",
       "      fill: #174EA6;\n",
       "    }\n",
       "\n",
       "    [theme=dark] .colab-df-convert {\n",
       "      background-color: #3B4455;\n",
       "      fill: #D2E3FC;\n",
       "    }\n",
       "\n",
       "    [theme=dark] .colab-df-convert:hover {\n",
       "      background-color: #434B5C;\n",
       "      box-shadow: 0px 1px 3px 1px rgba(0, 0, 0, 0.15);\n",
       "      filter: drop-shadow(0px 1px 2px rgba(0, 0, 0, 0.3));\n",
       "      fill: #FFFFFF;\n",
       "    }\n",
       "  </style>\n",
       "\n",
       "      <script>\n",
       "        const buttonEl =\n",
       "          document.querySelector('#df-886bdd0d-e581-4bde-a921-a732b9720baa button.colab-df-convert');\n",
       "        buttonEl.style.display =\n",
       "          google.colab.kernel.accessAllowed ? 'block' : 'none';\n",
       "\n",
       "        async function convertToInteractive(key) {\n",
       "          const element = document.querySelector('#df-886bdd0d-e581-4bde-a921-a732b9720baa');\n",
       "          const dataTable =\n",
       "            await google.colab.kernel.invokeFunction('convertToInteractive',\n",
       "                                                     [key], {});\n",
       "          if (!dataTable) return;\n",
       "\n",
       "          const docLinkHtml = 'Like what you see? Visit the ' +\n",
       "            '<a target=\"_blank\" href=https://colab.research.google.com/notebooks/data_table.ipynb>data table notebook</a>'\n",
       "            + ' to learn more about interactive tables.';\n",
       "          element.innerHTML = '';\n",
       "          dataTable['output_type'] = 'display_data';\n",
       "          await google.colab.output.renderOutput(dataTable, element);\n",
       "          const docLink = document.createElement('div');\n",
       "          docLink.innerHTML = docLinkHtml;\n",
       "          element.appendChild(docLink);\n",
       "        }\n",
       "      </script>\n",
       "    </div>\n",
       "  </div>\n",
       "  "
      ],
      "text/plain": [
       "                                                                               tweet_text  \\\n",
       "706                                          uh. why do they not make these for grownups?   \n",
       "1040  omg i have a feeling i'm going to be overwhelmed by my emoticons in tomorrow's #mkr   \n",
       "\n",
       "     cyberbullying_type  \n",
       "706   not_cyberbullying  \n",
       "1040  not_cyberbullying  "
      ]
     },
     "execution_count": 11,
     "metadata": {},
     "output_type": "execute_result"
    }
   ],
   "source": [
    "#checking the same observations as above after removing emojies and urls. We can see there are no longer\n",
    "#any emojies or urls\n",
    "df.iloc[[706,1040]]"
   ]
  },
  {
   "cell_type": "code",
   "execution_count": 12,
   "metadata": {
    "colab": {
     "base_uri": "https://localhost:8080/"
    },
    "executionInfo": {
     "elapsed": 376,
     "status": "ok",
     "timestamp": 1653175702032,
     "user": {
      "displayName": "Dimitry Kirtsman",
      "userId": "11988189828040272864"
     },
     "user_tz": 420
    },
    "id": "3TDF_AgDBVSI",
    "outputId": "cfb5de41-eda0-4fab-f692-94492e8a4396"
   },
   "outputs": [
    {
     "data": {
      "text/plain": [
       "(45603, 2)"
      ]
     },
     "execution_count": 12,
     "metadata": {},
     "output_type": "execute_result"
    }
   ],
   "source": [
    "df = df.drop_duplicates(subset=['tweet_text'], keep='last')\n",
    "df.shape"
   ]
  },
  {
   "cell_type": "code",
   "execution_count": 13,
   "metadata": {
    "colab": {
     "base_uri": "https://localhost:8080/"
    },
    "executionInfo": {
     "elapsed": 9,
     "status": "ok",
     "timestamp": 1653175702032,
     "user": {
      "displayName": "Dimitry Kirtsman",
      "userId": "11988189828040272864"
     },
     "user_tz": 420
    },
    "id": "bI0z9RPeUlUF",
    "outputId": "ac3c4c0e-d88b-4be1-8d1c-86ece851719e"
   },
   "outputs": [
    {
     "data": {
      "text/plain": [
       "religion               7974\n",
       "age                    7952\n",
       "ethnicity              7946\n",
       "other_cyberbullying    7720\n",
       "gender                 7651\n",
       "not_cyberbullying      6360\n",
       "Name: cyberbullying_type, dtype: int64"
      ]
     },
     "execution_count": 13,
     "metadata": {},
     "output_type": "execute_result"
    }
   ],
   "source": [
    "#checking distribution of cyberbyllying lables.\n",
    "df[\"cyberbullying_type\"].value_counts()"
   ]
  },
  {
   "cell_type": "code",
   "execution_count": 14,
   "metadata": {
    "executionInfo": {
     "elapsed": 8,
     "status": "ok",
     "timestamp": 1653175702032,
     "user": {
      "displayName": "Dimitry Kirtsman",
      "userId": "11988189828040272864"
     },
     "user_tz": 420
    },
    "id": "L4nXlY1ObB0c"
   },
   "outputs": [],
   "source": [
    "#creating column of numerical cyberbullying labels.\n",
    "\n",
    "label_number_mappings={\"religion\":0,\n",
    "                       \"age\":1,\n",
    "                       \"gender\":2,\n",
    "                       \"ethnicity\":3,\n",
    "                       \"not_cyberbullying\":4,\n",
    "                       \"other_cyberbullying\":5\n",
    "                      }\n",
    "df[\"label_values\"]=df[\"cyberbullying_type\"].map(label_number_mappings)"
   ]
  },
  {
   "cell_type": "code",
   "execution_count": 15,
   "metadata": {
    "colab": {
     "base_uri": "https://localhost:8080/"
    },
    "executionInfo": {
     "elapsed": 8,
     "status": "ok",
     "timestamp": 1653175702033,
     "user": {
      "displayName": "Dimitry Kirtsman",
      "userId": "11988189828040272864"
     },
     "user_tz": 420
    },
    "id": "047cEfHfbB2z",
    "outputId": "c82fc72b-630f-4507-bc85-8cbfd9e99773"
   },
   "outputs": [
    {
     "data": {
      "text/plain": [
       "0    7974\n",
       "1    7952\n",
       "3    7946\n",
       "5    7720\n",
       "2    7651\n",
       "4    6360\n",
       "Name: label_values, dtype: int64"
      ]
     },
     "execution_count": 15,
     "metadata": {},
     "output_type": "execute_result"
    }
   ],
   "source": [
    "#checking if mapping was properly done\n",
    "df[\"label_values\"].value_counts()"
   ]
  },
  {
   "cell_type": "code",
   "execution_count": 15,
   "metadata": {
    "executionInfo": {
     "elapsed": 7,
     "status": "ok",
     "timestamp": 1653175702033,
     "user": {
      "displayName": "Dimitry Kirtsman",
      "userId": "11988189828040272864"
     },
     "user_tz": 420
    },
    "id": "_M7nw-2ImmS8"
   },
   "outputs": [],
   "source": []
  },
  {
   "cell_type": "code",
   "execution_count": 16,
   "metadata": {
    "executionInfo": {
     "elapsed": 7,
     "status": "ok",
     "timestamp": 1653175702033,
     "user": {
      "displayName": "Dimitry Kirtsman",
      "userId": "11988189828040272864"
     },
     "user_tz": 420
    },
    "id": "xaoW9u2nmmVj"
   },
   "outputs": [],
   "source": [
    "#Splitting dataset into full_train and test sets, stratifying on labels.\n",
    "\n",
    "X_train_full, X_test, y_train_full, y_test = train_test_split(df[\"tweet_text\"], df[\"label_values\"], test_size=5000, stratify=df[\"label_values\"])"
   ]
  },
  {
   "cell_type": "code",
   "execution_count": 17,
   "metadata": {
    "colab": {
     "base_uri": "https://localhost:8080/"
    },
    "executionInfo": {
     "elapsed": 7,
     "status": "ok",
     "timestamp": 1653175702033,
     "user": {
      "displayName": "Dimitry Kirtsman",
      "userId": "11988189828040272864"
     },
     "user_tz": 420
    },
    "id": "oTEWAcezmmX7",
    "outputId": "04881391-1e87-4d7e-ae52-c64bb1eae873"
   },
   "outputs": [
    {
     "data": {
      "text/plain": [
       "0    7100\n",
       "1    7080\n",
       "3    7075\n",
       "5    6873\n",
       "2    6812\n",
       "4    5663\n",
       "Name: label_values, dtype: int64"
      ]
     },
     "execution_count": 17,
     "metadata": {},
     "output_type": "execute_result"
    }
   ],
   "source": [
    "#making sure full train set is stratified properly\n",
    "y_train_full.value_counts()"
   ]
  },
  {
   "cell_type": "code",
   "execution_count": 18,
   "metadata": {
    "colab": {
     "base_uri": "https://localhost:8080/"
    },
    "executionInfo": {
     "elapsed": 6,
     "status": "ok",
     "timestamp": 1653175702033,
     "user": {
      "displayName": "Dimitry Kirtsman",
      "userId": "11988189828040272864"
     },
     "user_tz": 420
    },
    "id": "hmam2sBTmmea",
    "outputId": "3726dcda-5bfa-4cd9-ebd2-47f5f87763da"
   },
   "outputs": [
    {
     "data": {
      "text/plain": [
       "0    874\n",
       "1    872\n",
       "3    871\n",
       "5    847\n",
       "2    839\n",
       "4    697\n",
       "Name: label_values, dtype: int64"
      ]
     },
     "execution_count": 18,
     "metadata": {},
     "output_type": "execute_result"
    }
   ],
   "source": [
    "#making sure test set is stratified properly\n",
    "y_test.value_counts()"
   ]
  },
  {
   "cell_type": "code",
   "execution_count": 19,
   "metadata": {
    "executionInfo": {
     "elapsed": 5,
     "status": "ok",
     "timestamp": 1653175702033,
     "user": {
      "displayName": "Dimitry Kirtsman",
      "userId": "11988189828040272864"
     },
     "user_tz": 420
    },
    "id": "4z8ZbtPOxwvc"
   },
   "outputs": [],
   "source": [
    "#spliting full training set into train and validation sets\n",
    "X_train, X_val, y_train, y_val = train_test_split(X_train_full,y_train_full, test_size=5000, stratify=y_train_full)"
   ]
  },
  {
   "cell_type": "code",
   "execution_count": 20,
   "metadata": {
    "colab": {
     "base_uri": "https://localhost:8080/"
    },
    "executionInfo": {
     "elapsed": 6,
     "status": "ok",
     "timestamp": 1653175702034,
     "user": {
      "displayName": "Dimitry Kirtsman",
      "userId": "11988189828040272864"
     },
     "user_tz": 420
    },
    "id": "olgXEzvzxw17",
    "outputId": "3b382472-fa0d-4c5d-eb88-b4d7c5d9c564"
   },
   "outputs": [
    {
     "data": {
      "text/plain": [
       "0    6226\n",
       "1    6208\n",
       "3    6204\n",
       "5    6026\n",
       "2    5973\n",
       "4    4966\n",
       "Name: label_values, dtype: int64"
      ]
     },
     "execution_count": 20,
     "metadata": {},
     "output_type": "execute_result"
    }
   ],
   "source": [
    "#making sure train set is stratified properly\n",
    "y_train.value_counts()"
   ]
  },
  {
   "cell_type": "code",
   "execution_count": 21,
   "metadata": {
    "colab": {
     "base_uri": "https://localhost:8080/"
    },
    "executionInfo": {
     "elapsed": 311,
     "status": "ok",
     "timestamp": 1653175702340,
     "user": {
      "displayName": "Dimitry Kirtsman",
      "userId": "11988189828040272864"
     },
     "user_tz": 420
    },
    "id": "Vad-HV8Oyby_",
    "outputId": "56c8aa6d-1bd1-404f-fe9e-85d1965e0637"
   },
   "outputs": [
    {
     "data": {
      "text/plain": [
       "0    874\n",
       "1    872\n",
       "3    871\n",
       "5    847\n",
       "2    839\n",
       "4    697\n",
       "Name: label_values, dtype: int64"
      ]
     },
     "execution_count": 21,
     "metadata": {},
     "output_type": "execute_result"
    }
   ],
   "source": [
    "#making sure validation set is stratified properly\n",
    "y_val.value_counts()"
   ]
  },
  {
   "cell_type": "code",
   "execution_count": 21,
   "metadata": {
    "executionInfo": {
     "elapsed": 2,
     "status": "ok",
     "timestamp": 1653175702341,
     "user": {
      "displayName": "Dimitry Kirtsman",
      "userId": "11988189828040272864"
     },
     "user_tz": 420
    },
    "id": "mcGZJBBY88F9"
   },
   "outputs": [],
   "source": []
  },
  {
   "cell_type": "markdown",
   "metadata": {
    "id": "vNG3aKQZ88a5"
   },
   "source": [
    "# Data Preprocessing and Tokenization"
   ]
  },
  {
   "cell_type": "code",
   "execution_count": null,
   "metadata": {},
   "outputs": [],
   "source": []
  },
  {
   "cell_type": "code",
   "execution_count": 22,
   "metadata": {
    "executionInfo": {
     "elapsed": 4033,
     "status": "ok",
     "timestamp": 1653175706372,
     "user": {
      "displayName": "Dimitry Kirtsman",
      "userId": "11988189828040272864"
     },
     "user_tz": 420
    },
    "id": "4uPqRRKs9KNG"
   },
   "outputs": [],
   "source": [
    "#Tokenized text for X_train and X_val and X_test. Fit on train first then text_to_sequences on train,\n",
    "#validation and test sets\n",
    "max_tokens=30000\n",
    "tokenizer =Tokenizer(num_words=max_tokens, oov_token=\"OOV\")\n",
    "tokenizer.fit_on_texts(X_train)\n",
    "X_train_token=tokenizer.texts_to_sequences(X_train)\n",
    "X_val_token=tokenizer.texts_to_sequences(X_val)\n",
    "X_test_token=tokenizer.texts_to_sequences(X_test)"
   ]
  },
  {
   "cell_type": "code",
   "execution_count": 23,
   "metadata": {
    "colab": {
     "base_uri": "https://localhost:8080/"
    },
    "executionInfo": {
     "elapsed": 4,
     "status": "ok",
     "timestamp": 1653175706372,
     "user": {
      "displayName": "Dimitry Kirtsman",
      "userId": "11988189828040272864"
     },
     "user_tz": 420
    },
    "id": "qmDivkOk9KUZ",
    "outputId": "c9869461-1b54-4115-ddde-6f354e014be1"
   },
   "outputs": [
    {
     "name": "stdout",
     "output_type": "stream",
     "text": [
      "Number of tokens 49098\n"
     ]
    }
   ],
   "source": [
    "#check how many unique tokens\n",
    "word_index=tokenizer.word_index\n",
    "number_of_words=len(word_index)\n",
    "print(\"Number of tokens\",number_of_words )"
   ]
  },
  {
   "cell_type": "code",
   "execution_count": 24,
   "metadata": {
    "colab": {
     "base_uri": "https://localhost:8080/"
    },
    "executionInfo": {
     "elapsed": 378,
     "status": "ok",
     "timestamp": 1653175706747,
     "user": {
      "displayName": "Dimitry Kirtsman",
      "userId": "11988189828040272864"
     },
     "user_tz": 420
    },
    "id": "LL7p5VSA9KWw",
    "outputId": "a96aaf84-0893-4529-957a-96707aa9c80a"
   },
   "outputs": [
    {
     "data": {
      "text/plain": [
       "(5000, 70)"
      ]
     },
     "execution_count": 24,
     "metadata": {},
     "output_type": "execute_result"
    }
   ],
   "source": [
    "#pad sequences for tokenized X_train, X_val and X_test\n",
    "#set max length of text to 70 tokens\n",
    "max_len=70\n",
    "X_train_token_pad=pad_sequences(X_train_token, maxlen=max_len, padding=\"post\", truncating=\"post\")\n",
    "\n",
    "#Get train shape to apply as max length of validation padding\n",
    "#train_tensor_shape=X_train_token_pad.shape[1]\n",
    "#train_tensor_shape\n",
    "\n",
    "X_val_token_pad=pad_sequences(X_val_token,maxlen= max_len , padding=\"post\", truncating=\"post\")\n",
    "X_test_token_pad=pad_sequences(X_test_token,maxlen= max_len,padding=\"post\", truncating=\"post\")\n",
    "X_val_token_pad.shape"
   ]
  },
  {
   "cell_type": "code",
   "execution_count": 24,
   "metadata": {
    "executionInfo": {
     "elapsed": 7,
     "status": "ok",
     "timestamp": 1653175706748,
     "user": {
      "displayName": "Dimitry Kirtsman",
      "userId": "11988189828040272864"
     },
     "user_tz": 420
    },
    "id": "CyTxQseM9KZD"
   },
   "outputs": [],
   "source": []
  },
  {
   "cell_type": "markdown",
   "metadata": {
    "id": "5rRVNorpKQnM"
   },
   "source": [
    "# Helpful Model Fitting and Results Functions"
   ]
  },
  {
   "cell_type": "code",
   "execution_count": 24,
   "metadata": {
    "executionInfo": {
     "elapsed": 6,
     "status": "ok",
     "timestamp": 1653175706748,
     "user": {
      "displayName": "Dimitry Kirtsman",
      "userId": "11988189828040272864"
     },
     "user_tz": 420
    },
    "id": "hvIDAhyGJF70"
   },
   "outputs": [],
   "source": []
  },
  {
   "cell_type": "code",
   "execution_count": 25,
   "metadata": {
    "executionInfo": {
     "elapsed": 6,
     "status": "ok",
     "timestamp": 1653175706748,
     "user": {
      "displayName": "Dimitry Kirtsman",
      "userId": "11988189828040272864"
     },
     "user_tz": 420
    },
    "id": "3LrzjRnrX8iX"
   },
   "outputs": [],
   "source": [
    "#creating callback class to get the amount of seconds each epoch takes. Code from:\n",
    "#https://stackoverflow.com/questions/43178668/record-the-computation-time-for-each-epoch-in-keras-during-model-fit\n",
    "\n",
    "class EpochTimeHistory(keras.callbacks.Callback):\n",
    "    def on_train_begin(self, logs={}):\n",
    "        self.times = []\n",
    "\n",
    "    def on_epoch_begin(self, batch, logs={}):\n",
    "        self.epoch_time_start = time.time()\n",
    "\n",
    "    def on_epoch_end(self, batch, logs={}):\n",
    "        self.times.append(time.time() - self.epoch_time_start)\n"
   ]
  },
  {
   "cell_type": "code",
   "execution_count": 26,
   "metadata": {
    "executionInfo": {
     "elapsed": 6,
     "status": "ok",
     "timestamp": 1653175706748,
     "user": {
      "displayName": "Dimitry Kirtsman",
      "userId": "11988189828040272864"
     },
     "user_tz": 420
    },
    "id": "s-_zrfnNKYG6"
   },
   "outputs": [],
   "source": [
    "\n",
    "def compile_train_model(model, x_train, y_train, x_valid, y_valid, model_num, epochs=100, patience=3, optimizer='adam'):\n",
    "    timestamp=int(time.time())\n",
    "    epoch_times=EpochTimeHistory()\n",
    "  \n",
    "    # Compile\n",
    "    model.compile(optimizer=optimizer,\n",
    "                loss = 'SparseCategoricalCrossentropy',\n",
    "                metrics=['accuracy'])\n",
    "\n",
    "  # Train\n",
    "    start_time = time.time()\n",
    "    history = model.fit(\n",
    "      x_train,\n",
    "      y_train,\n",
    "      epochs=epochs,\n",
    "      batch_size=128,\n",
    "      validation_data=(x_valid, y_valid),\n",
    "      verbose=1,\n",
    "      callbacks=[    \n",
    "          EarlyStopping(monitor='val_accuracy', patience=patience, restore_best_weights=True, verbose=0),\n",
    "        epoch_times]\n",
    "       )\n",
    "    end_time = time.time()\n",
    "    second_elapsed = round(end_time - start_time)\n",
    "    epoch_times_values =epoch_times.times\n",
    "    print(\"\\n\")\n",
    "    print(f'Finished model training in {second_elapsed}s')\n",
    "    print(f'Average time to run each epoch is: {  np.round(np.mean(epoch_times.times[1:-1]),4) }') \n",
    "                                                                       \n",
    "  \n",
    "\n",
    "    return history, model   "
   ]
  },
  {
   "cell_type": "code",
   "execution_count": 27,
   "metadata": {
    "executionInfo": {
     "elapsed": 5,
     "status": "ok",
     "timestamp": 1653175706748,
     "user": {
      "displayName": "Dimitry Kirtsman",
      "userId": "11988189828040272864"
     },
     "user_tz": 420
    },
    "id": "dGVokoYVKYJi"
   },
   "outputs": [],
   "source": [
    "#Classificatin report function\n",
    "def print_validation_report(test_labels, predictions):\n",
    "    print(\"Classification Report\")\n",
    "    print(classification_report(test_labels, predictions))\n",
    "    print('Accuracy Score: {}'.format(accuracy_score(test_labels, predictions)))\n",
    "    print('Root Mean Square Error: {}'.format(np.sqrt(MSE(test_labels, predictions))))#included per class instruction "
   ]
  },
  {
   "cell_type": "code",
   "execution_count": 27,
   "metadata": {
    "executionInfo": {
     "elapsed": 6,
     "status": "ok",
     "timestamp": 1653175706749,
     "user": {
      "displayName": "Dimitry Kirtsman",
      "userId": "11988189828040272864"
     },
     "user_tz": 420
    },
    "id": "LCySGp9FKYOi"
   },
   "outputs": [],
   "source": []
  },
  {
   "cell_type": "code",
   "execution_count": 28,
   "metadata": {
    "executionInfo": {
     "elapsed": 6,
     "status": "ok",
     "timestamp": 1653175706749,
     "user": {
      "displayName": "Dimitry Kirtsman",
      "userId": "11988189828040272864"
     },
     "user_tz": 420
    },
    "id": "lQhqv0DaKYR6"
   },
   "outputs": [],
   "source": [
    "#function to print out training and validation set loss and accuracy values of the best model\n",
    "def loss_accuracy_values(model_history, model_num, epochs, patience=3):  \n",
    "  if len(model_history.history[\"val_loss\"])==epochs:\n",
    "      print(\"Model Experiment {} Training Loss: \".format(model_num),np.round(model_history.history[\"loss\"][-1],4))\n",
    "      print(\"Model Experiment {} Training Accuracy: \".format(model_num),np.round(model_history.history[\"accuracy\"][-1],4))\n",
    "      print(\"Model Experiment {}  Validation Loss: \".format(model_num),np.round(model_history.history[\"val_loss\"][-1],4))\n",
    "      print(\"Model Experiment {}  Validation Accuracy: \".format(model_num),np.round(model_history.history[\"val_accuracy\"][-1],4))\n",
    "  else:\n",
    "      print(\"Model Experiment {}  Training Loss: \".format(model_num),np.round(model_history.history[\"loss\"][-(1+patience)],4))\n",
    "      print(\"Model Experiment {}  Training Accuracy: \".format(model_num),np.round(model_history.history[\"accuracy\"][-(1+patience)],4))\n",
    "      print(\"Model Experiment {}  Validation Loss: \".format(model_num), np.round(model_history.history[\"val_loss\"][-(1+patience)],4))\n",
    "      print(\"Model Experiment {}  Validation Accuracy:\".format(model_num), np.round(model_history.history[\"val_accuracy\"][-(1+patience)],4)) "
   ]
  },
  {
   "cell_type": "code",
   "execution_count": 29,
   "metadata": {
    "executionInfo": {
     "elapsed": 6,
     "status": "ok",
     "timestamp": 1653175706749,
     "user": {
      "displayName": "Dimitry Kirtsman",
      "userId": "11988189828040272864"
     },
     "user_tz": 420
    },
    "id": "QOaZ_ewHKYUq"
   },
   "outputs": [],
   "source": [
    "#creating function for charts of train vs validation accuracy and loss functions\n",
    "def train_val_accuracy_and_loss_charts(model_history, model_num):\n",
    "    model_df=pd.DataFrame(model_history.history)\n",
    "\n",
    "    model_df[[\"loss\",\"val_loss\"]].plot(figsize=(9,7))\n",
    "    plt.grid(True)\n",
    "    plt.title(\"Model Experiment {}: Train vs. Validation - Loss\".format(model_num), size =17)\n",
    "    plt.xlabel(\"Epochs\", size=15)\n",
    "\n",
    "    model_df[[\"accuracy\",\"val_accuracy\"]].plot(figsize=(9,7))\n",
    "    plt.grid(True)\n",
    "    plt.title(\"Model Experiment {}: Train vs. Validation - Accuracy\".format(model_num), size =17)\n",
    "    plt.xlabel(\"Epochs\", size=15)\n",
    "\n",
    "    plt.show()    "
   ]
  },
  {
   "cell_type": "code",
   "execution_count": 30,
   "metadata": {
    "executionInfo": {
     "elapsed": 6,
     "status": "ok",
     "timestamp": 1653175706749,
     "user": {
      "displayName": "Dimitry Kirtsman",
      "userId": "11988189828040272864"
     },
     "user_tz": 420
    },
    "id": "HOatJjgzPYol"
   },
   "outputs": [],
   "source": [
    "# Function for creating multi-class confusion matrix\n",
    "\n",
    "#class names for confusion matrix\n",
    "class_names = [\"religion\",\n",
    "                       \"age\",\n",
    "                       \"gender\",\n",
    "                       \"ethnicity\",\n",
    "                       \"not_cyberbullying\",\n",
    "                       \"other_cyberbullying\"\n",
    "]\n",
    "\n",
    "\n",
    "\n",
    "def confusion_matrix_multi_class(model_for_matrix,test_set, actual_test_labels, model_num):\n",
    "    #predicting test set with model for confusion matrix and setting as sparse with argmax\n",
    "    confusion_matrix_predictions=model_for_matrix.predict(test_set).argmax(axis=1)\n",
    "\n",
    "\n",
    "\n",
    "    #creating confusion matrix - using test set labels as they were already sparse before one-hot encoding\n",
    "    confusion_matrix_for_model = confusion_matrix( actual_test_labels ,  confusion_matrix_predictions)\n",
    "\n",
    "\n",
    "    confusion_matrix_df = pd.DataFrame(confusion_matrix_for_model,\n",
    "                    \n",
    "                     index=class_names,\n",
    "                     columns=class_names)\n",
    "\n",
    "    #Plotting the confusion matrix\n",
    "    plt.figure(figsize=(10,8))\n",
    "    sns.heatmap(confusion_matrix_df, annot=True, fmt=\"d\", cmap=\"rocket_r\")\n",
    "    plt.title('Confusion Matrix - Model Experiment {}'.format(model_num), size=17)\n",
    "    plt.ylabel('Actual Labels', size=15)\n",
    "    plt.xlabel('Predicted Labels',size=15)\n",
    "    plt.xticks(fontsize=15)\n",
    "    plt.yticks(fontsize=15)\n",
    "    plt.show()"
   ]
  },
  {
   "cell_type": "code",
   "execution_count": 30,
   "metadata": {
    "executionInfo": {
     "elapsed": 6,
     "status": "ok",
     "timestamp": 1653175706749,
     "user": {
      "displayName": "Dimitry Kirtsman",
      "userId": "11988189828040272864"
     },
     "user_tz": 420
    },
    "id": "Tt5kQXLW-WFN"
   },
   "outputs": [],
   "source": []
  },
  {
   "cell_type": "markdown",
   "metadata": {
    "id": "z2Y8CynIXzYI"
   },
   "source": [
    "# Experiment 3_A - Bidirectional LSTM - Hyperparameter Tuning - Up to 3 Bidirectional LSTM Layers with Dropout"
   ]
  },
  {
   "cell_type": "code",
   "execution_count": null,
   "metadata": {
    "id": "7Ebw6UuqKYXF"
   },
   "outputs": [],
   "source": []
  },
  {
   "cell_type": "code",
   "execution_count": 31,
   "metadata": {
    "executionInfo": {
     "elapsed": 3,
     "status": "ok",
     "timestamp": 1653175714006,
     "user": {
      "displayName": "Dimitry Kirtsman",
      "userId": "11988189828040272864"
     },
     "user_tz": 420
    },
    "id": "LIRPj1kvEcWS"
   },
   "outputs": [],
   "source": [
    "#Experiment 3_A model \n",
    "#create model for KerasTuner hyperparameter testing\n",
    "def create_model_exp_3_A(hp):\n",
    "    \n",
    "    model=Sequential()\n",
    "    #tunning for different number of embedding output dimensions min of 100, max of 400 and any in between by multiples of 100\n",
    "    model.add(Embedding(input_dim=max_tokens+1, output_dim= hp.Int(f\"Embedding_Output_Dimension\", min_value=100, max_value=400, step=100),mask_zero=True))\n",
    "    #tunning for a choice of 1 or 2 bidirectional LSTM layers. There is an additional bidirectional LSTM layer that must be outside the loop as it needs\n",
    "    #to not have return_sequences =True\n",
    "   \n",
    "    for i in range(hp.Int(\"number_layers\",1,2)):\n",
    "        #within each bidirectional LSTM layer testing for a min of 64 units, a max of 256 nodes and any in between by \n",
    "        #multiples of 32. \n",
    "        model.add(Bidirectional(LSTM(units=hp.Int('LSTM_{}_units'.format(i),min_value=64,max_value=256,step=32),return_sequences=True)))\n",
    "        #testing for dropout of values 0.1 to 0.4 by increments of 0.1 after every hidden layer\n",
    "        model.add(Dropout (hp.Float(\"dropout_{}\".format(i), min_value=0.10, max_value=0.40, step=0.10)))\n",
    "       \n",
    "    #For last bidirectional LSTM layer testing for a min of 64 units, a max of 256 nodes and any in between by \n",
    "    #multiples of 32\n",
    "    model.add(Bidirectional(LSTM(units=hp.Int('LSTM_{}_units'.format(i+1),min_value=64,max_value=256,step=32))))\n",
    "    #testing for dropout of values 0.1 to 0.4 by increments of 0.1 after every hidden layer\n",
    "    model.add(Dropout (hp.Float(\"dropout_{}\".format(i+1), min_value=0.10, max_value=0.40, step=0.10)))\n",
    "    model.add(Dense(6, activation=\"softmax\"))    \n",
    "    \n",
    "    #testing for optimizer choice of adam, sgd, or rmsprop\n",
    "    model.compile(optimizer=hp.Choice(\"optimizer\", [\"adam\", \"sgd\", \"rmsprop\"]), \\\n",
    "                                            loss=\"sparse_categorical_crossentropy\", metrics=[\"accuracy\"])\n",
    "    \n",
    "    return model"
   ]
  },
  {
   "cell_type": "code",
   "execution_count": 32,
   "metadata": {
    "executionInfo": {
     "elapsed": 15086,
     "status": "ok",
     "timestamp": 1653175732407,
     "user": {
      "displayName": "Dimitry Kirtsman",
      "userId": "11988189828040272864"
     },
     "user_tz": 420
    },
    "id": "093ewJDTwfvi"
   },
   "outputs": [],
   "source": [
    "#creating Bayesian Optimization for KerasTuner\n",
    "tuner_exp_3_A = kt.BayesianOptimization(\n",
    "    hypermodel=create_model_exp_3_A,\n",
    "    objective=\"val_accuracy\",\n",
    "    max_trials=15,\n",
    "    overwrite=True,\n",
    "    \n",
    "    directory='/content/gdrive/My Drive/Colab Notebooks/MSDS_458_Assignment_4/keras_tuner_out',\n",
    "    project_name=\"exp_3_A\")"
   ]
  },
  {
   "cell_type": "code",
   "execution_count": 33,
   "metadata": {
    "colab": {
     "base_uri": "https://localhost:8080/"
    },
    "executionInfo": {
     "elapsed": 2467085,
     "status": "ok",
     "timestamp": 1653178203660,
     "user": {
      "displayName": "Dimitry Kirtsman",
      "userId": "11988189828040272864"
     },
     "user_tz": 420
    },
    "id": "IT-iWeuU-gou",
    "outputId": "0ff6577f-023f-4f25-a59f-bc749c5c0b0e"
   },
   "outputs": [
    {
     "name": "stdout",
     "output_type": "stream",
     "text": [
      "Trial 15 Complete [00h 03m 24s]\n",
      "val_accuracy: 0.8766000270843506\n",
      "\n",
      "Best val_accuracy So Far: 0.8823999762535095\n",
      "Total elapsed time: 00h 41m 06s\n",
      "INFO:tensorflow:Oracle triggered exit\n"
     ]
    }
   ],
   "source": [
    "#setting epochs, patience and early stopping\n",
    "epochs=30\n",
    "patience=3\n",
    "model_number=\"3_A\"\n",
    "early_stopping= EarlyStopping(monitor='val_accuracy',patience=patience, restore_best_weights=True )\n",
    "\n",
    "#tunning the model\n",
    "tuner_exp_3_A.search(X_train_token_pad, y_train, epochs=epochs, batch_size=128, validation_data=(X_val_token_pad, y_val), callbacks= [early_stopping])\n"
   ]
  },
  {
   "cell_type": "code",
   "execution_count": 36,
   "metadata": {
    "colab": {
     "base_uri": "https://localhost:8080/"
    },
    "executionInfo": {
     "elapsed": 301,
     "status": "ok",
     "timestamp": 1653178437464,
     "user": {
      "displayName": "Dimitry Kirtsman",
      "userId": "11988189828040272864"
     },
     "user_tz": 420
    },
    "id": "L3C4aRAoijeq",
    "outputId": "95a42aa8-6b05-4d4c-e0f4-c050a93a4fbe"
   },
   "outputs": [
    {
     "name": "stdout",
     "output_type": "stream",
     "text": [
      "Embedding_Output_Dimension: 200\n",
      "Number of layers: 3\n",
      "\n",
      "\n",
      "Number of units in LSTM_0: 64\n",
      "Dropout in LSTM_0: 0.1\n",
      "\n",
      "\n",
      "Number of units in LSTM_1: 64\n",
      "Dropout in LSTM_1: 0.1\n",
      "\n",
      "\n",
      "Number of units in LSTM_2: 256\n",
      "Dropout in LSTM_2: 0.1\n",
      "\n",
      "\n",
      "Optimizer Used: rmsprop\n"
     ]
    }
   ],
   "source": [
    "#getting best hyperparameters\n",
    "best_hyper_parameters_exp_3_A=tuner_exp_3_A.get_best_hyperparameters(num_trials=1)[0]\n",
    "\n",
    "#function to print out best parameters depending on how many bidirectional LSTM layers there are\n",
    "def best_model_hyperparameters_exp_3_A(bhp):\n",
    "    print(\"Embedding_Output_Dimension: {}\".format(bhp.get('Embedding_Output_Dimension')))\n",
    "    num_layers=bhp.get('number_layers')\n",
    "    print(\"Number of layers: {}\".format(num_layers+1))\n",
    "    print(\"\\n\")\n",
    "    for i in range(0,num_layers+1):\n",
    "        print(\"Number of units in LSTM_{}:\".format(i), bhp.get(\"LSTM_{}_units\".format(i)))\n",
    "        print(\"Dropout in LSTM_{}:\".format(i),np.round( bhp.get(\"dropout_{}\".format(i)),3 )  )\n",
    "        print(\"\\n\")\n",
    "    print(\"Optimizer Used: {}\".format(bhp.get('optimizer')))                                                           \n",
    "\n",
    "#printing out best model hyperparameters\n",
    "best_model_hyperparameters_exp_3_A(best_hyper_parameters_exp_3_A)   "
   ]
  },
  {
   "cell_type": "code",
   "execution_count": null,
   "metadata": {
    "id": "XJZfbug_yq2k"
   },
   "outputs": [],
   "source": []
  },
  {
   "cell_type": "code",
   "execution_count": 37,
   "metadata": {
    "colab": {
     "base_uri": "https://localhost:8080/"
    },
    "executionInfo": {
     "elapsed": 204201,
     "status": "ok",
     "timestamp": 1653178644822,
     "user": {
      "displayName": "Dimitry Kirtsman",
      "userId": "11988189828040272864"
     },
     "user_tz": 420
    },
    "id": "zIwrrRlyijhA",
    "outputId": "92f882b7-2104-478b-fdf9-2d44a31b1ba4"
   },
   "outputs": [
    {
     "name": "stdout",
     "output_type": "stream",
     "text": [
      "Epoch 1/30\n",
      "279/279 [==============================] - 55s 116ms/step - loss: 0.5638 - accuracy: 0.7966 - val_loss: 0.3947 - val_accuracy: 0.8594\n",
      "Epoch 2/30\n",
      "279/279 [==============================] - 24s 85ms/step - loss: 0.2911 - accuracy: 0.8996 - val_loss: 0.3880 - val_accuracy: 0.8650\n",
      "Epoch 3/30\n",
      "279/279 [==============================] - 24s 86ms/step - loss: 0.2219 - accuracy: 0.9246 - val_loss: 0.3942 - val_accuracy: 0.8658\n",
      "Epoch 4/30\n",
      "279/279 [==============================] - 24s 86ms/step - loss: 0.1770 - accuracy: 0.9407 - val_loss: 0.3595 - val_accuracy: 0.8786\n",
      "Epoch 5/30\n",
      "279/279 [==============================] - 24s 85ms/step - loss: 0.1433 - accuracy: 0.9521 - val_loss: 0.4116 - val_accuracy: 0.8676\n",
      "Epoch 6/30\n",
      "279/279 [==============================] - 24s 86ms/step - loss: 0.1186 - accuracy: 0.9619 - val_loss: 0.4146 - val_accuracy: 0.8670\n",
      "Epoch 7/30\n",
      "279/279 [==============================] - 23s 84ms/step - loss: 0.1005 - accuracy: 0.9670 - val_loss: 0.5154 - val_accuracy: 0.8646\n",
      "\n",
      "\n",
      "Finished model training in 198s\n",
      "Average time to run each epoch is: 23.8327\n"
     ]
    }
   ],
   "source": [
    "#getting paremeters of best model\n",
    "model_exp_3_A_best_params = tuner_exp_3_A.get_best_hyperparameters(2)\n",
    "\n",
    "# Building model exp_3_A with best hyper parameters\n",
    "model_exp_3_A_best = create_model_exp_3_A(model_exp_3_A_best_params[0])\n",
    "\n",
    "# Running best model 3_A to get the time to run an epoch and time to run the whole model. Test set metrics will be \n",
    "#based of this model run.\n",
    "epochs=30\n",
    "patience=3\n",
    "model_number=\"3_A\"\n",
    "history_exp_3_A, model_exp_3_A = compile_train_model(model_exp_3_A_best,\n",
    "                                    X_train_token_pad,y_train,\n",
    "                                     X_val_token_pad,y_val, model_number, epochs,patience=patience,\n",
    "                                    optimizer=\"rmsprop\")"
   ]
  },
  {
   "cell_type": "code",
   "execution_count": 41,
   "metadata": {
    "colab": {
     "base_uri": "https://localhost:8080/"
    },
    "executionInfo": {
     "elapsed": 285,
     "status": "ok",
     "timestamp": 1653178965425,
     "user": {
      "displayName": "Dimitry Kirtsman",
      "userId": "11988189828040272864"
     },
     "user_tz": 420
    },
    "id": "6FVsu963KYcr",
    "outputId": "649bde32-f137-4f6e-cb98-e19c1654627d"
   },
   "outputs": [
    {
     "name": "stdout",
     "output_type": "stream",
     "text": [
      "Model Experiment 3_A  Training Loss:  0.177\n",
      "Model Experiment 3_A  Training Accuracy:  0.9407\n",
      "Model Experiment 3_A  Validation Loss:  0.3595\n",
      "Model Experiment 3_A  Validation Accuracy: 0.8786\n"
     ]
    }
   ],
   "source": [
    "#printing train and validation loss and accuracy for the model\n",
    "\n",
    "loss_accuracy_values(history_exp_3_A, model_number, epochs, patience=patience)"
   ]
  },
  {
   "cell_type": "code",
   "execution_count": 42,
   "metadata": {
    "colab": {
     "base_uri": "https://localhost:8080/",
     "height": 917
    },
    "executionInfo": {
     "elapsed": 953,
     "status": "ok",
     "timestamp": 1653178969046,
     "user": {
      "displayName": "Dimitry Kirtsman",
      "userId": "11988189828040272864"
     },
     "user_tz": 420
    },
    "id": "nhjX3rzz2JHY",
    "outputId": "492f93ee-5cb0-4b25-f31b-a96101334032"
   },
   "outputs": [
    {
     "data": {
      "image/png": "[encoded data removed]",
      "text/plain": [
       "<Figure size 648x504 with 1 Axes>"
      ]
     },
     "metadata": {
      "needs_background": "light"
     },
     "output_type": "display_data"
    },
    {
     "data": {
      "image/png": "[encoded data removed]",
      "text/plain": [
       "<Figure size 648x504 with 1 Axes>"
      ]
     },
     "metadata": {
      "needs_background": "light"
     },
     "output_type": "display_data"
    }
   ],
   "source": [
    "#printing charts of  train vs validation accuracy and loss functions\n",
    "\n",
    "train_val_accuracy_and_loss_charts(history_exp_3_A, model_number)"
   ]
  },
  {
   "cell_type": "code",
   "execution_count": 43,
   "metadata": {
    "colab": {
     "base_uri": "https://localhost:8080/"
    },
    "executionInfo": {
     "elapsed": 11458,
     "status": "ok",
     "timestamp": 1653178983891,
     "user": {
      "displayName": "Dimitry Kirtsman",
      "userId": "11988189828040272864"
     },
     "user_tz": 420
    },
    "id": "GMnocJCIWlHq",
    "outputId": "d7ca1c0f-3989-451a-e6d6-39198139465b"
   },
   "outputs": [
    {
     "name": "stdout",
     "output_type": "stream",
     "text": [
      "Classification Report\n",
      "              precision    recall  f1-score   support\n",
      "\n",
      "           0       0.95      0.96      0.95       874\n",
      "           1       0.98      0.96      0.97       872\n",
      "           2       0.86      0.91      0.88       839\n",
      "           3       0.97      0.97      0.97       871\n",
      "           4       0.64      0.70      0.67       697\n",
      "           5       0.79      0.69      0.74       847\n",
      "\n",
      "    accuracy                           0.87      5000\n",
      "   macro avg       0.87      0.87      0.86      5000\n",
      "weighted avg       0.87      0.87      0.87      5000\n",
      "\n",
      "Accuracy Score: 0.8718\n",
      "Root Mean Square Error: 0.8169455306200041\n"
     ]
    }
   ],
   "source": [
    "#creating  classification report\n",
    "\n",
    "#getting predictions\n",
    "\n",
    "model_exp_3_A_predictions=model_exp_3_A.predict(X_test_token_pad).argmax(axis=1)\n",
    "print_validation_report(y_test, model_exp_3_A_predictions)"
   ]
  },
  {
   "cell_type": "code",
   "execution_count": null,
   "metadata": {
    "id": "1UjNl2N8ExCu"
   },
   "outputs": [],
   "source": []
  },
  {
   "cell_type": "code",
   "execution_count": 44,
   "metadata": {
    "colab": {
     "base_uri": "https://localhost:8080/",
     "height": 662
    },
    "executionInfo": {
     "elapsed": 2983,
     "status": "ok",
     "timestamp": 1653179006305,
     "user": {
      "displayName": "Dimitry Kirtsman",
      "userId": "11988189828040272864"
     },
     "user_tz": 420
    },
    "id": "Q-eQjhuyKYgC",
    "outputId": "913a4b7a-8f73-4c56-86cf-f84c0aceb546"
   },
   "outputs": [
    {
     "data": {
      "image/png": "[encoded data removed]",
      "text/plain": [
       "<Figure size 720x576 with 2 Axes>"
      ]
     },
     "metadata": {
      "needs_background": "light"
     },
     "output_type": "display_data"
    }
   ],
   "source": [
    "#printing out confusion matrix\n",
    "confusion_matrix_multi_class(model_exp_3_A, X_test_token_pad, y_test, model_number)"
   ]
  },
  {
   "cell_type": "code",
   "execution_count": null,
   "metadata": {
    "id": "HSMfv3Az1OxY"
   },
   "outputs": [],
   "source": []
  },
  {
   "cell_type": "markdown",
   "metadata": {
    "id": "EKzwf4JWGSE1"
   },
   "source": [
    "# Experiment 3_B - Bidirectional GRU - Hyperparameter Tuning - Up to 3 Bidirectional GRU Layers with Dropout"
   ]
  },
  {
   "cell_type": "code",
   "execution_count": null,
   "metadata": {
    "id": "4skZ0XBt1Ozw"
   },
   "outputs": [],
   "source": []
  },
  {
   "cell_type": "code",
   "execution_count": 50,
   "metadata": {
    "executionInfo": {
     "elapsed": 4,
     "status": "ok",
     "timestamp": 1653179525937,
     "user": {
      "displayName": "Dimitry Kirtsman",
      "userId": "11988189828040272864"
     },
     "user_tz": 420
    },
    "id": "5MD2Vp0h1O6A"
   },
   "outputs": [],
   "source": [
    "keras.backend.clear_session()"
   ]
  },
  {
   "cell_type": "code",
   "execution_count": 51,
   "metadata": {
    "executionInfo": {
     "elapsed": 287,
     "status": "ok",
     "timestamp": 1653179528099,
     "user": {
      "displayName": "Dimitry Kirtsman",
      "userId": "11988189828040272864"
     },
     "user_tz": 420
    },
    "id": "SNBRkWst1PRr"
   },
   "outputs": [],
   "source": [
    "#Experiment 3_B model \n",
    "#create model for KerasTuner hyperparameter testing\n",
    "def create_model_exp_3_B(hp):\n",
    "    \n",
    "    model=Sequential()\n",
    "    #tunning for different number of embedding output dimensions min of 100, max of 400 and any in between by multiples of 100\n",
    "    model.add(Embedding(input_dim=max_tokens+1, output_dim= hp.Int(f\"Embedding_Output_Dimension\", min_value=100, max_value=400, step=100),mask_zero=True))\n",
    "    #tunning for a choice of 1 or 2 bidirectional GRU layers. There is an additional bidirectional GRU layer that must be outside the loop as it needs\n",
    "    #to not have return_sequences =True\n",
    "    #last_GRU_Layer_number=0\n",
    "    for i in range(hp.Int(\"number_layers\",1,2)):\n",
    "        #within each bidirectional GRU layer testing for a min of 64 units, a max of 256 nodes and any in between by \n",
    "        #multiples of 32. \n",
    "        model.add(Bidirectional(GRU(units=hp.Int('GRU_{}_units'.format(i),min_value=64,max_value=256,step=32),return_sequences=True)))\n",
    "        #testing for dropout of values 0.1 to 0.4 by increments of 0.1 after every hidden layer\n",
    "        model.add(Dropout (hp.Float(\"dropout_{}\".format(i), min_value=0.10, max_value=0.40, step=0.10)))\n",
    "        \n",
    "    #For last bidirectional GRU layer testing for a min of 64 units, a max of 256 nodes and any in between by \n",
    "    #multiples of 32\n",
    "    model.add(Bidirectional(GRU(units=hp.Int('GRU_{}_units'.format(i+1),min_value=64,max_value=256,step=32))))\n",
    "    #testing for dropout of values 0.1 to 0.4 by increments of 0.1 after every hidden layer\n",
    "    model.add(Dropout (hp.Float(\"dropout_{}\".format(i+1), min_value=0.10, max_value=0.40, step=0.10)))\n",
    "    model.add(Dense(6, activation=\"softmax\"))    \n",
    "    \n",
    "    #testing for optimizer choice of adam, sgd, or rmsprop\n",
    "    model.compile(optimizer=hp.Choice(\"optimizer\", [\"adam\", \"sgd\", \"rmsprop\"]), \\\n",
    "                                            loss=\"sparse_categorical_crossentropy\", metrics=[\"accuracy\"])\n",
    "    \n",
    "    return model"
   ]
  },
  {
   "cell_type": "code",
   "execution_count": null,
   "metadata": {
    "id": "37FCoIvY1PRr"
   },
   "outputs": [],
   "source": []
  },
  {
   "cell_type": "code",
   "execution_count": 52,
   "metadata": {
    "executionInfo": {
     "elapsed": 6174,
     "status": "ok",
     "timestamp": 1653179581668,
     "user": {
      "displayName": "Dimitry Kirtsman",
      "userId": "11988189828040272864"
     },
     "user_tz": 420
    },
    "id": "tauAHfdT1PRr"
   },
   "outputs": [],
   "source": [
    "#creating Bayesian Optimization for KerasTuner\n",
    "tuner_exp_3_B = kt.BayesianOptimization(\n",
    "    hypermodel=create_model_exp_3_B,\n",
    "    objective=\"val_accuracy\",\n",
    "    max_trials=15,\n",
    "    overwrite=True,\n",
    "   \n",
    "    directory='/content/gdrive/My Drive/Colab Notebooks/MSDS_458_Assignment_4/keras_tuner_out',\n",
    "    project_name=\"exp_3_B\")"
   ]
  },
  {
   "cell_type": "code",
   "execution_count": 53,
   "metadata": {
    "colab": {
     "base_uri": "https://localhost:8080/"
    },
    "executionInfo": {
     "elapsed": 2326248,
     "status": "ok",
     "timestamp": 1653181910634,
     "user": {
      "displayName": "Dimitry Kirtsman",
      "userId": "11988189828040272864"
     },
     "user_tz": 420
    },
    "id": "V8jBdgn01PRr",
    "outputId": "e772ec33-2b6e-42c2-b379-9e83e976fa02"
   },
   "outputs": [
    {
     "name": "stdout",
     "output_type": "stream",
     "text": [
      "Trial 15 Complete [00h 02m 15s]\n",
      "val_accuracy: 0.8766000270843506\n",
      "\n",
      "Best val_accuracy So Far: 0.8809999823570251\n",
      "Total elapsed time: 00h 38m 45s\n",
      "INFO:tensorflow:Oracle triggered exit\n"
     ]
    }
   ],
   "source": [
    "#setting epochs, patience and early stopping\n",
    "epochs=30\n",
    "patience=3\n",
    "model_number=\"3_B\"\n",
    "early_stopping= EarlyStopping(monitor='val_accuracy',patience=patience, restore_best_weights=True )\n",
    "\n",
    "#tunning the model\n",
    "tuner_exp_3_B.search(X_train_token_pad, y_train, epochs=epochs, batch_size=128, validation_data=(X_val_token_pad, y_val), callbacks= [early_stopping])\n"
   ]
  },
  {
   "cell_type": "code",
   "execution_count": 58,
   "metadata": {
    "colab": {
     "base_uri": "https://localhost:8080/"
    },
    "executionInfo": {
     "elapsed": 895,
     "status": "ok",
     "timestamp": 1653181976529,
     "user": {
      "displayName": "Dimitry Kirtsman",
      "userId": "11988189828040272864"
     },
     "user_tz": 420
    },
    "id": "Wn-dpjqT1PRr",
    "outputId": "7e6bcea9-b43f-4544-8622-61b51cbd3bed"
   },
   "outputs": [
    {
     "name": "stdout",
     "output_type": "stream",
     "text": [
      "Embedding_Output_Dimension: 300\n",
      "Number of layers: 2\n",
      "\n",
      "\n",
      "Number of units in GRU_0: 64\n",
      "Dropout in GRU_0: 0.4\n",
      "\n",
      "\n",
      "Number of units in GRU_1: 64\n",
      "Dropout in GRU_1: 0.1\n",
      "\n",
      "\n",
      "Optimizer Used: rmsprop\n"
     ]
    }
   ],
   "source": [
    "#getting best hyperparameters\n",
    "best_hyper_parameters_exp_3_B=tuner_exp_3_B.get_best_hyperparameters(num_trials=1)[0]\n",
    "\n",
    "#function to print out best parameters depending on how many bidirectional GRU layers there are\n",
    "def best_model_hyperparameters_exp_3_B(bhp):\n",
    "    print(\"Embedding_Output_Dimension: {}\".format(bhp.get('Embedding_Output_Dimension')))\n",
    "    num_layers=bhp.get('number_layers')\n",
    "    print(\"Number of layers: {}\".format(num_layers+1))\n",
    "    print(\"\\n\")\n",
    "    for i in range(0,num_layers+1):\n",
    "        print(\"Number of units in GRU_{}:\".format(i), bhp.get(\"GRU_{}_units\".format(i)))\n",
    "        print(\"Dropout in GRU_{}:\".format(i),np.round( bhp.get(\"dropout_{}\".format(i)),3 )  )\n",
    "        print(\"\\n\")\n",
    "    print(\"Optimizer Used: {}\".format(bhp.get('optimizer')))                                                           \n",
    "\n",
    "#printing out best model hyperparameters\n",
    "best_model_hyperparameters_exp_3_B(best_hyper_parameters_exp_3_B)   "
   ]
  },
  {
   "cell_type": "code",
   "execution_count": null,
   "metadata": {
    "id": "NJYAIMt81PRs"
   },
   "outputs": [],
   "source": []
  },
  {
   "cell_type": "code",
   "execution_count": 59,
   "metadata": {
    "colab": {
     "base_uri": "https://localhost:8080/"
    },
    "executionInfo": {
     "elapsed": 158458,
     "status": "ok",
     "timestamp": 1653182143881,
     "user": {
      "displayName": "Dimitry Kirtsman",
      "userId": "11988189828040272864"
     },
     "user_tz": 420
    },
    "id": "8d7NZCxf1PRs",
    "outputId": "745c3a34-b337-414d-931f-a42405973604"
   },
   "outputs": [
    {
     "name": "stdout",
     "output_type": "stream",
     "text": [
      "Epoch 1/30\n",
      "279/279 [==============================] - 36s 76ms/step - loss: 0.5450 - accuracy: 0.7980 - val_loss: 0.3524 - val_accuracy: 0.8676\n",
      "Epoch 2/30\n",
      "279/279 [==============================] - 15s 54ms/step - loss: 0.2747 - accuracy: 0.9021 - val_loss: 0.3309 - val_accuracy: 0.8772\n",
      "Epoch 3/30\n",
      "279/279 [==============================] - 15s 55ms/step - loss: 0.2099 - accuracy: 0.9270 - val_loss: 0.3528 - val_accuracy: 0.8810\n",
      "Epoch 4/30\n",
      "279/279 [==============================] - 15s 55ms/step - loss: 0.1681 - accuracy: 0.9408 - val_loss: 0.3831 - val_accuracy: 0.8746\n",
      "Epoch 5/30\n",
      "279/279 [==============================] - 15s 55ms/step - loss: 0.1367 - accuracy: 0.9526 - val_loss: 0.4489 - val_accuracy: 0.8602\n",
      "Epoch 6/30\n",
      "279/279 [==============================] - 15s 54ms/step - loss: 0.1127 - accuracy: 0.9621 - val_loss: 0.4080 - val_accuracy: 0.8718\n",
      "\n",
      "\n",
      "Finished model training in 112s\n",
      "Average time to run each epoch is: 15.2305\n"
     ]
    }
   ],
   "source": [
    "#getting paremeters of best model\n",
    "model_exp_3_B_best_params = tuner_exp_3_B.get_best_hyperparameters(2)\n",
    "\n",
    "# Building model exp_3_B with best hyper parameters\n",
    "model_exp_3_B_best = create_model_exp_3_B(model_exp_3_B_best_params[0])\n",
    "\n",
    "# Running best model 3_B to get the time to run an epoch and time to run the whole model. Test set metrics will be \n",
    "#based of this model run.\n",
    "epochs=30\n",
    "patience=3\n",
    "model_number=\"3_B\"\n",
    "history_exp_3_B, model_exp_3_B = compile_train_model(model_exp_3_B_best,\n",
    "                                    X_train_token_pad,y_train,\n",
    "                                     X_val_token_pad,y_val, model_number, epochs,patience=patience,\n",
    "                                    optimizer=\"rmsprop\")"
   ]
  },
  {
   "cell_type": "code",
   "execution_count": null,
   "metadata": {
    "id": "mbLWugZe1PRt"
   },
   "outputs": [],
   "source": []
  },
  {
   "cell_type": "code",
   "execution_count": 61,
   "metadata": {
    "colab": {
     "base_uri": "https://localhost:8080/"
    },
    "executionInfo": {
     "elapsed": 886,
     "status": "ok",
     "timestamp": 1653182192547,
     "user": {
      "displayName": "Dimitry Kirtsman",
      "userId": "11988189828040272864"
     },
     "user_tz": 420
    },
    "id": "t5ViCtb31PRt",
    "outputId": "42d46f24-ebc2-4385-a216-cb880533314c"
   },
   "outputs": [
    {
     "name": "stdout",
     "output_type": "stream",
     "text": [
      "Model Experiment 3_B  Training Loss:  0.2099\n",
      "Model Experiment 3_B  Training Accuracy:  0.927\n",
      "Model Experiment 3_B  Validation Loss:  0.3528\n",
      "Model Experiment 3_B  Validation Accuracy: 0.881\n"
     ]
    }
   ],
   "source": [
    "#printing train and validation loss and accuracy for the model\n",
    "\n",
    "loss_accuracy_values(history_exp_3_B, model_number, epochs, patience=patience)"
   ]
  },
  {
   "cell_type": "code",
   "execution_count": 62,
   "metadata": {
    "colab": {
     "base_uri": "https://localhost:8080/",
     "height": 917
    },
    "executionInfo": {
     "elapsed": 519,
     "status": "ok",
     "timestamp": 1653182196027,
     "user": {
      "displayName": "Dimitry Kirtsman",
      "userId": "11988189828040272864"
     },
     "user_tz": 420
    },
    "id": "Zvl0truP1PRt",
    "outputId": "1570a830-0561-4d5a-8928-bd83d9951e81"
   },
   "outputs": [
    {
     "data": {
      "image/png": "[encoded data removed]",
      "text/plain": [
       "<Figure size 648x504 with 1 Axes>"
      ]
     },
     "metadata": {
      "needs_background": "light"
     },
     "output_type": "display_data"
    },
    {
     "data": {
      "image/png": "[encoded data removed]",
      "text/plain": [
       "<Figure size 648x504 with 1 Axes>"
      ]
     },
     "metadata": {
      "needs_background": "light"
     },
     "output_type": "display_data"
    }
   ],
   "source": [
    "#printing charts of  train vs validation accuracy and loss functions\n",
    "\n",
    "train_val_accuracy_and_loss_charts(history_exp_3_B, model_number)"
   ]
  },
  {
   "cell_type": "code",
   "execution_count": 63,
   "metadata": {
    "colab": {
     "base_uri": "https://localhost:8080/"
    },
    "executionInfo": {
     "elapsed": 6265,
     "status": "ok",
     "timestamp": 1653182204480,
     "user": {
      "displayName": "Dimitry Kirtsman",
      "userId": "11988189828040272864"
     },
     "user_tz": 420
    },
    "id": "NZwoh6i91PRt",
    "outputId": "2926b4c1-b051-4197-de13-6170460e2ec2"
   },
   "outputs": [
    {
     "name": "stdout",
     "output_type": "stream",
     "text": [
      "Classification Report\n",
      "              precision    recall  f1-score   support\n",
      "\n",
      "           0       0.95      0.96      0.95       874\n",
      "           1       0.97      0.96      0.96       872\n",
      "           2       0.81      0.92      0.86       839\n",
      "           3       0.97      0.98      0.97       871\n",
      "           4       0.70      0.60      0.65       697\n",
      "           5       0.77      0.75      0.76       847\n",
      "\n",
      "    accuracy                           0.87      5000\n",
      "   macro avg       0.86      0.86      0.86      5000\n",
      "weighted avg       0.87      0.87      0.87      5000\n",
      "\n",
      "Accuracy Score: 0.87\n",
      "Root Mean Square Error: 0.840119039184329\n"
     ]
    }
   ],
   "source": [
    "#creating  classification report\n",
    "\n",
    "#getting predictions\n",
    "\n",
    "model_exp_3_B_predictions=model_exp_3_B.predict(X_test_token_pad).argmax(axis=1)\n",
    "print_validation_report(y_test, model_exp_3_B_predictions)"
   ]
  },
  {
   "cell_type": "code",
   "execution_count": 63,
   "metadata": {
    "executionInfo": {
     "elapsed": 334,
     "status": "ok",
     "timestamp": 1653182213060,
     "user": {
      "displayName": "Dimitry Kirtsman",
      "userId": "11988189828040272864"
     },
     "user_tz": 420
    },
    "id": "jO2OC_PD1PRt"
   },
   "outputs": [],
   "source": []
  },
  {
   "cell_type": "code",
   "execution_count": 64,
   "metadata": {
    "colab": {
     "base_uri": "https://localhost:8080/",
     "height": 662
    },
    "executionInfo": {
     "elapsed": 2449,
     "status": "ok",
     "timestamp": 1653182216755,
     "user": {
      "displayName": "Dimitry Kirtsman",
      "userId": "11988189828040272864"
     },
     "user_tz": 420
    },
    "id": "MRyqx9ut1PRt",
    "outputId": "dd98cf49-b678-4311-ee83-5f3632117c07"
   },
   "outputs": [
    {
     "data": {
      "image/png": "[encoded data removed]",
      "text/plain": [
       "<Figure size 720x576 with 2 Axes>"
      ]
     },
     "metadata": {
      "needs_background": "light"
     },
     "output_type": "display_data"
    }
   ],
   "source": [
    "#printing out confusion matrix\n",
    "confusion_matrix_multi_class(model_exp_3_B, X_test_token_pad, y_test, model_number)"
   ]
  }
 ],
 "metadata": {
  "accelerator": "GPU",
  "colab": {
   "authorship_tag": "ABX9TyOleWAXK0pXRHU8vpcnz5Fz",
   "name": "MSDS 458 - Assignment 4 - Experiments 3_gpu.ipynb",
   "provenance": []
  },
  "kernelspec": {
   "display_name": "Python 3 (ipykernel)",
   "language": "python",
   "name": "python3"
  },
  "language_info": {
   "codemirror_mode": {
    "name": "ipython",
    "version": 3
   },
   "file_extension": ".py",
   "mimetype": "text/x-python",
   "name": "python",
   "nbconvert_exporter": "python",
   "pygments_lexer": "ipython3",
   "version": "3.8.8"
  }
 },
 "nbformat": 4,
 "nbformat_minor": 1
}
